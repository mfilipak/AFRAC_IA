{
  "nbformat": 4,
  "nbformat_minor": 0,
  "metadata": {
    "colab": {
      "name": "003 - Visualização - Snippets usando plotly.ipynb",
      "provenance": [],
      "authorship_tag": "ABX9TyPXdHzpZvW2cc/mL37pnCAy",
      "include_colab_link": true
    },
    "kernelspec": {
      "name": "python3",
      "display_name": "Python 3"
    },
    "language_info": {
      "name": "python"
    }
  },
  "cells": [
    {
      "cell_type": "markdown",
      "metadata": {
        "id": "view-in-github",
        "colab_type": "text"
      },
      "source": [
        "<a href=\"https://colab.research.google.com/github/mfilipak/AFRAC_IA/blob/main/003_Visualiza%C3%A7%C3%A3o_Snippets_usando_plotly.ipynb\" target=\"_parent\"><img src=\"https://colab.research.google.com/assets/colab-badge.svg\" alt=\"Open In Colab\"/></a>"
      ]
    },
    {
      "cell_type": "code",
      "execution_count": 23,
      "metadata": {
        "id": "gN6CNsa6hUmy"
      },
      "outputs": [],
      "source": [
        "import seaborn as sns\n",
        "import pandas as pd\n",
        "import numpy as np\n",
        "from mpl_toolkits import mplot3d\n",
        "import plotly.express as px\n"
      ]
    },
    {
      "cell_type": "code",
      "source": [
        "names = \"A,B,C,D,E,F,G,H,I,J\".split(\",\")"
      ],
      "metadata": {
        "id": "nyzuyFlYiJuV"
      },
      "execution_count": 4,
      "outputs": []
    },
    {
      "cell_type": "code",
      "source": [
        "names = [ f\"{i:03}\" for i in range(100) ]"
      ],
      "metadata": {
        "id": "1bTo9kmKnGIp"
      },
      "execution_count": 41,
      "outputs": []
    },
    {
      "cell_type": "code",
      "source": [
        "table = [ [n,*c] for n, c in zip(names,list(np.random.random((len(names),3))*2-1)) ]"
      ],
      "metadata": {
        "id": "-zPUjQ43hzNr"
      },
      "execution_count": 43,
      "outputs": []
    },
    {
      "cell_type": "code",
      "source": [
        "df = pd.DataFrame(table, columns=[\"Name\", \"X\", \"Y\", \"Z\"])"
      ],
      "metadata": {
        "id": "SBmRKGnuhkzL"
      },
      "execution_count": 45,
      "outputs": []
    },
    {
      "cell_type": "code",
      "source": [
        "fig = px.scatter_3d(df, x=\"X\", y=\"Y\", z=\"Z\", color=\"Name\", opacity=0.5)\n",
        "fig.show()"
      ],
      "metadata": {
        "colab": {
          "base_uri": "https://localhost:8080/",
          "height": 542
        },
        "id": "585vaL_SjTXU",
        "outputId": "ae85234d-75ae-4e05-b3bd-17c12222b8cb"
      },
      "execution_count": 53,
      "outputs": [
        {
          "output_type": "display_data",
          "data": {
            "text/html": [
              "<html>\n",
              "<head><meta charset=\"utf-8\" /></head>\n",
              "<body>\n",
              "    <div>            <script src=\"https://cdnjs.cloudflare.com/ajax/libs/mathjax/2.7.5/MathJax.js?config=TeX-AMS-MML_SVG\"></script><script type=\"text/javascript\">if (window.MathJax) {MathJax.Hub.Config({SVG: {font: \"STIX-Web\"}});}</script>                <script type=\"text/javascript\">window.PlotlyConfig = {MathJaxConfig: 'local'};</script>\n",
              "        <script src=\"https://cdn.plot.ly/plotly-2.8.3.min.js\"></script>                <div id=\"c80d2353-5b97-4c9c-9963-7dab05261cc6\" class=\"plotly-graph-div\" style=\"height:525px; width:100%;\"></div>            <script type=\"text/javascript\">                                    window.PLOTLYENV=window.PLOTLYENV || {};                                    if (document.getElementById(\"c80d2353-5b97-4c9c-9963-7dab05261cc6\")) {                    Plotly.newPlot(                        \"c80d2353-5b97-4c9c-9963-7dab05261cc6\",                        [{\"hovertemplate\":\"Name=000<br>X=%{x}<br>Y=%{y}<br>Z=%{z}<extra></extra>\",\"legendgroup\":\"000\",\"marker\":{\"color\":\"#636efa\",\"opacity\":0.5,\"symbol\":\"circle\"},\"mode\":\"markers\",\"name\":\"000\",\"scene\":\"scene\",\"showlegend\":true,\"x\":[-0.1713977155240578],\"y\":[-0.5014275523546856],\"z\":[-0.7704731484094351],\"type\":\"scatter3d\"},{\"hovertemplate\":\"Name=001<br>X=%{x}<br>Y=%{y}<br>Z=%{z}<extra></extra>\",\"legendgroup\":\"001\",\"marker\":{\"color\":\"#EF553B\",\"opacity\":0.5,\"symbol\":\"circle\"},\"mode\":\"markers\",\"name\":\"001\",\"scene\":\"scene\",\"showlegend\":true,\"x\":[-0.863637706824351],\"y\":[0.884772793308741],\"z\":[-0.6461497605434816],\"type\":\"scatter3d\"},{\"hovertemplate\":\"Name=002<br>X=%{x}<br>Y=%{y}<br>Z=%{z}<extra></extra>\",\"legendgroup\":\"002\",\"marker\":{\"color\":\"#00cc96\",\"opacity\":0.5,\"symbol\":\"circle\"},\"mode\":\"markers\",\"name\":\"002\",\"scene\":\"scene\",\"showlegend\":true,\"x\":[0.09000896189748087],\"y\":[-0.49878300530852626],\"z\":[-0.23661605724182433],\"type\":\"scatter3d\"},{\"hovertemplate\":\"Name=003<br>X=%{x}<br>Y=%{y}<br>Z=%{z}<extra></extra>\",\"legendgroup\":\"003\",\"marker\":{\"color\":\"#ab63fa\",\"opacity\":0.5,\"symbol\":\"circle\"},\"mode\":\"markers\",\"name\":\"003\",\"scene\":\"scene\",\"showlegend\":true,\"x\":[0.8906768796519033],\"y\":[0.42601780498956976],\"z\":[-0.5750560954985939],\"type\":\"scatter3d\"},{\"hovertemplate\":\"Name=004<br>X=%{x}<br>Y=%{y}<br>Z=%{z}<extra></extra>\",\"legendgroup\":\"004\",\"marker\":{\"color\":\"#FFA15A\",\"opacity\":0.5,\"symbol\":\"circle\"},\"mode\":\"markers\",\"name\":\"004\",\"scene\":\"scene\",\"showlegend\":true,\"x\":[-0.10865025992036315],\"y\":[-0.4838957185676134],\"z\":[-0.7950338721599763],\"type\":\"scatter3d\"},{\"hovertemplate\":\"Name=005<br>X=%{x}<br>Y=%{y}<br>Z=%{z}<extra></extra>\",\"legendgroup\":\"005\",\"marker\":{\"color\":\"#19d3f3\",\"opacity\":0.5,\"symbol\":\"circle\"},\"mode\":\"markers\",\"name\":\"005\",\"scene\":\"scene\",\"showlegend\":true,\"x\":[-0.020231624233124634],\"y\":[0.45105359140636825],\"z\":[-0.3190974006397238],\"type\":\"scatter3d\"},{\"hovertemplate\":\"Name=006<br>X=%{x}<br>Y=%{y}<br>Z=%{z}<extra></extra>\",\"legendgroup\":\"006\",\"marker\":{\"color\":\"#FF6692\",\"opacity\":0.5,\"symbol\":\"circle\"},\"mode\":\"markers\",\"name\":\"006\",\"scene\":\"scene\",\"showlegend\":true,\"x\":[-0.7102072573432583],\"y\":[0.149955405284403],\"z\":[0.05442431673334713],\"type\":\"scatter3d\"},{\"hovertemplate\":\"Name=007<br>X=%{x}<br>Y=%{y}<br>Z=%{z}<extra></extra>\",\"legendgroup\":\"007\",\"marker\":{\"color\":\"#B6E880\",\"opacity\":0.5,\"symbol\":\"circle\"},\"mode\":\"markers\",\"name\":\"007\",\"scene\":\"scene\",\"showlegend\":true,\"x\":[0.3317384794710636],\"y\":[-0.11012319282913152],\"z\":[0.5760011902015079],\"type\":\"scatter3d\"},{\"hovertemplate\":\"Name=008<br>X=%{x}<br>Y=%{y}<br>Z=%{z}<extra></extra>\",\"legendgroup\":\"008\",\"marker\":{\"color\":\"#FF97FF\",\"opacity\":0.5,\"symbol\":\"circle\"},\"mode\":\"markers\",\"name\":\"008\",\"scene\":\"scene\",\"showlegend\":true,\"x\":[0.2102501331291502],\"y\":[0.6281970064918929],\"z\":[0.3162576426857584],\"type\":\"scatter3d\"},{\"hovertemplate\":\"Name=009<br>X=%{x}<br>Y=%{y}<br>Z=%{z}<extra></extra>\",\"legendgroup\":\"009\",\"marker\":{\"color\":\"#FECB52\",\"opacity\":0.5,\"symbol\":\"circle\"},\"mode\":\"markers\",\"name\":\"009\",\"scene\":\"scene\",\"showlegend\":true,\"x\":[-0.66091701161429],\"y\":[-0.24776826998508916],\"z\":[0.8528189294626205],\"type\":\"scatter3d\"},{\"hovertemplate\":\"Name=010<br>X=%{x}<br>Y=%{y}<br>Z=%{z}<extra></extra>\",\"legendgroup\":\"010\",\"marker\":{\"color\":\"#636efa\",\"opacity\":0.5,\"symbol\":\"circle\"},\"mode\":\"markers\",\"name\":\"010\",\"scene\":\"scene\",\"showlegend\":true,\"x\":[-0.8305568696035397],\"y\":[0.769946378034879],\"z\":[-0.19161047985265767],\"type\":\"scatter3d\"},{\"hovertemplate\":\"Name=011<br>X=%{x}<br>Y=%{y}<br>Z=%{z}<extra></extra>\",\"legendgroup\":\"011\",\"marker\":{\"color\":\"#EF553B\",\"opacity\":0.5,\"symbol\":\"circle\"},\"mode\":\"markers\",\"name\":\"011\",\"scene\":\"scene\",\"showlegend\":true,\"x\":[-0.20983580014053116],\"y\":[0.4575371826903003],\"z\":[-0.19063352143581636],\"type\":\"scatter3d\"},{\"hovertemplate\":\"Name=012<br>X=%{x}<br>Y=%{y}<br>Z=%{z}<extra></extra>\",\"legendgroup\":\"012\",\"marker\":{\"color\":\"#00cc96\",\"opacity\":0.5,\"symbol\":\"circle\"},\"mode\":\"markers\",\"name\":\"012\",\"scene\":\"scene\",\"showlegend\":true,\"x\":[-0.12331205247530885],\"y\":[-0.5768981776438011],\"z\":[-0.27268482516846193],\"type\":\"scatter3d\"},{\"hovertemplate\":\"Name=013<br>X=%{x}<br>Y=%{y}<br>Z=%{z}<extra></extra>\",\"legendgroup\":\"013\",\"marker\":{\"color\":\"#ab63fa\",\"opacity\":0.5,\"symbol\":\"circle\"},\"mode\":\"markers\",\"name\":\"013\",\"scene\":\"scene\",\"showlegend\":true,\"x\":[-0.23353136932522367],\"y\":[0.0734609816063514],\"z\":[-0.6839527441546107],\"type\":\"scatter3d\"},{\"hovertemplate\":\"Name=014<br>X=%{x}<br>Y=%{y}<br>Z=%{z}<extra></extra>\",\"legendgroup\":\"014\",\"marker\":{\"color\":\"#FFA15A\",\"opacity\":0.5,\"symbol\":\"circle\"},\"mode\":\"markers\",\"name\":\"014\",\"scene\":\"scene\",\"showlegend\":true,\"x\":[0.40912869670237106],\"y\":[0.5463840053201614],\"z\":[-0.7525178772169356],\"type\":\"scatter3d\"},{\"hovertemplate\":\"Name=015<br>X=%{x}<br>Y=%{y}<br>Z=%{z}<extra></extra>\",\"legendgroup\":\"015\",\"marker\":{\"color\":\"#19d3f3\",\"opacity\":0.5,\"symbol\":\"circle\"},\"mode\":\"markers\",\"name\":\"015\",\"scene\":\"scene\",\"showlegend\":true,\"x\":[-0.09149548784702977],\"y\":[-0.3656190411881126],\"z\":[0.9601222825094737],\"type\":\"scatter3d\"},{\"hovertemplate\":\"Name=016<br>X=%{x}<br>Y=%{y}<br>Z=%{z}<extra></extra>\",\"legendgroup\":\"016\",\"marker\":{\"color\":\"#FF6692\",\"opacity\":0.5,\"symbol\":\"circle\"},\"mode\":\"markers\",\"name\":\"016\",\"scene\":\"scene\",\"showlegend\":true,\"x\":[-0.7926086172787381],\"y\":[0.7622848756187819],\"z\":[-0.019170509396168933],\"type\":\"scatter3d\"},{\"hovertemplate\":\"Name=017<br>X=%{x}<br>Y=%{y}<br>Z=%{z}<extra></extra>\",\"legendgroup\":\"017\",\"marker\":{\"color\":\"#B6E880\",\"opacity\":0.5,\"symbol\":\"circle\"},\"mode\":\"markers\",\"name\":\"017\",\"scene\":\"scene\",\"showlegend\":true,\"x\":[-0.2665418537078239],\"y\":[-0.5857573594454666],\"z\":[-0.6604274881697216],\"type\":\"scatter3d\"},{\"hovertemplate\":\"Name=018<br>X=%{x}<br>Y=%{y}<br>Z=%{z}<extra></extra>\",\"legendgroup\":\"018\",\"marker\":{\"color\":\"#FF97FF\",\"opacity\":0.5,\"symbol\":\"circle\"},\"mode\":\"markers\",\"name\":\"018\",\"scene\":\"scene\",\"showlegend\":true,\"x\":[0.44596854171146005],\"y\":[0.9298148380936875],\"z\":[0.4310730910990088],\"type\":\"scatter3d\"},{\"hovertemplate\":\"Name=019<br>X=%{x}<br>Y=%{y}<br>Z=%{z}<extra></extra>\",\"legendgroup\":\"019\",\"marker\":{\"color\":\"#FECB52\",\"opacity\":0.5,\"symbol\":\"circle\"},\"mode\":\"markers\",\"name\":\"019\",\"scene\":\"scene\",\"showlegend\":true,\"x\":[0.47984202721646896],\"y\":[-0.9876403859062217],\"z\":[-0.9829218854528203],\"type\":\"scatter3d\"},{\"hovertemplate\":\"Name=020<br>X=%{x}<br>Y=%{y}<br>Z=%{z}<extra></extra>\",\"legendgroup\":\"020\",\"marker\":{\"color\":\"#636efa\",\"opacity\":0.5,\"symbol\":\"circle\"},\"mode\":\"markers\",\"name\":\"020\",\"scene\":\"scene\",\"showlegend\":true,\"x\":[0.39022617336781806],\"y\":[-0.09975137403873346],\"z\":[-0.40390159933766934],\"type\":\"scatter3d\"},{\"hovertemplate\":\"Name=021<br>X=%{x}<br>Y=%{y}<br>Z=%{z}<extra></extra>\",\"legendgroup\":\"021\",\"marker\":{\"color\":\"#EF553B\",\"opacity\":0.5,\"symbol\":\"circle\"},\"mode\":\"markers\",\"name\":\"021\",\"scene\":\"scene\",\"showlegend\":true,\"x\":[-0.09551543322777123],\"y\":[-0.3073198855504433],\"z\":[-0.7489485568608134],\"type\":\"scatter3d\"},{\"hovertemplate\":\"Name=022<br>X=%{x}<br>Y=%{y}<br>Z=%{z}<extra></extra>\",\"legendgroup\":\"022\",\"marker\":{\"color\":\"#00cc96\",\"opacity\":0.5,\"symbol\":\"circle\"},\"mode\":\"markers\",\"name\":\"022\",\"scene\":\"scene\",\"showlegend\":true,\"x\":[-0.2889946856500494],\"y\":[-0.7085566616246659],\"z\":[-0.5092404608343699],\"type\":\"scatter3d\"},{\"hovertemplate\":\"Name=023<br>X=%{x}<br>Y=%{y}<br>Z=%{z}<extra></extra>\",\"legendgroup\":\"023\",\"marker\":{\"color\":\"#ab63fa\",\"opacity\":0.5,\"symbol\":\"circle\"},\"mode\":\"markers\",\"name\":\"023\",\"scene\":\"scene\",\"showlegend\":true,\"x\":[-0.8216589098185263],\"y\":[0.2388912280950679],\"z\":[-0.3044404922342314],\"type\":\"scatter3d\"},{\"hovertemplate\":\"Name=024<br>X=%{x}<br>Y=%{y}<br>Z=%{z}<extra></extra>\",\"legendgroup\":\"024\",\"marker\":{\"color\":\"#FFA15A\",\"opacity\":0.5,\"symbol\":\"circle\"},\"mode\":\"markers\",\"name\":\"024\",\"scene\":\"scene\",\"showlegend\":true,\"x\":[0.413893951432583],\"y\":[0.26746664016003363],\"z\":[0.749599933233335],\"type\":\"scatter3d\"},{\"hovertemplate\":\"Name=025<br>X=%{x}<br>Y=%{y}<br>Z=%{z}<extra></extra>\",\"legendgroup\":\"025\",\"marker\":{\"color\":\"#19d3f3\",\"opacity\":0.5,\"symbol\":\"circle\"},\"mode\":\"markers\",\"name\":\"025\",\"scene\":\"scene\",\"showlegend\":true,\"x\":[-0.9588674645494053],\"y\":[-0.9447667541608384],\"z\":[-0.3423296979956729],\"type\":\"scatter3d\"},{\"hovertemplate\":\"Name=026<br>X=%{x}<br>Y=%{y}<br>Z=%{z}<extra></extra>\",\"legendgroup\":\"026\",\"marker\":{\"color\":\"#FF6692\",\"opacity\":0.5,\"symbol\":\"circle\"},\"mode\":\"markers\",\"name\":\"026\",\"scene\":\"scene\",\"showlegend\":true,\"x\":[-0.8161045532542175],\"y\":[0.17080688693921808],\"z\":[-0.333211088297072],\"type\":\"scatter3d\"},{\"hovertemplate\":\"Name=027<br>X=%{x}<br>Y=%{y}<br>Z=%{z}<extra></extra>\",\"legendgroup\":\"027\",\"marker\":{\"color\":\"#B6E880\",\"opacity\":0.5,\"symbol\":\"circle\"},\"mode\":\"markers\",\"name\":\"027\",\"scene\":\"scene\",\"showlegend\":true,\"x\":[0.9414650936718021],\"y\":[0.14821951840551217],\"z\":[0.38798308980603213],\"type\":\"scatter3d\"},{\"hovertemplate\":\"Name=028<br>X=%{x}<br>Y=%{y}<br>Z=%{z}<extra></extra>\",\"legendgroup\":\"028\",\"marker\":{\"color\":\"#FF97FF\",\"opacity\":0.5,\"symbol\":\"circle\"},\"mode\":\"markers\",\"name\":\"028\",\"scene\":\"scene\",\"showlegend\":true,\"x\":[-0.7809967703183076],\"y\":[-0.1474538295206005],\"z\":[-0.2614268104850366],\"type\":\"scatter3d\"},{\"hovertemplate\":\"Name=029<br>X=%{x}<br>Y=%{y}<br>Z=%{z}<extra></extra>\",\"legendgroup\":\"029\",\"marker\":{\"color\":\"#FECB52\",\"opacity\":0.5,\"symbol\":\"circle\"},\"mode\":\"markers\",\"name\":\"029\",\"scene\":\"scene\",\"showlegend\":true,\"x\":[-0.43133391503996554],\"y\":[0.8964698361449275],\"z\":[0.48857218372489775],\"type\":\"scatter3d\"},{\"hovertemplate\":\"Name=030<br>X=%{x}<br>Y=%{y}<br>Z=%{z}<extra></extra>\",\"legendgroup\":\"030\",\"marker\":{\"color\":\"#636efa\",\"opacity\":0.5,\"symbol\":\"circle\"},\"mode\":\"markers\",\"name\":\"030\",\"scene\":\"scene\",\"showlegend\":true,\"x\":[0.9120253234284548],\"y\":[0.4747598742238577],\"z\":[-0.26080455877046904],\"type\":\"scatter3d\"},{\"hovertemplate\":\"Name=031<br>X=%{x}<br>Y=%{y}<br>Z=%{z}<extra></extra>\",\"legendgroup\":\"031\",\"marker\":{\"color\":\"#EF553B\",\"opacity\":0.5,\"symbol\":\"circle\"},\"mode\":\"markers\",\"name\":\"031\",\"scene\":\"scene\",\"showlegend\":true,\"x\":[-0.3344095254909498],\"y\":[0.536200156829274],\"z\":[-0.3680293447593017],\"type\":\"scatter3d\"},{\"hovertemplate\":\"Name=032<br>X=%{x}<br>Y=%{y}<br>Z=%{z}<extra></extra>\",\"legendgroup\":\"032\",\"marker\":{\"color\":\"#00cc96\",\"opacity\":0.5,\"symbol\":\"circle\"},\"mode\":\"markers\",\"name\":\"032\",\"scene\":\"scene\",\"showlegend\":true,\"x\":[0.7834330394529962],\"y\":[0.3014028832252542],\"z\":[0.43162662036182464],\"type\":\"scatter3d\"},{\"hovertemplate\":\"Name=033<br>X=%{x}<br>Y=%{y}<br>Z=%{z}<extra></extra>\",\"legendgroup\":\"033\",\"marker\":{\"color\":\"#ab63fa\",\"opacity\":0.5,\"symbol\":\"circle\"},\"mode\":\"markers\",\"name\":\"033\",\"scene\":\"scene\",\"showlegend\":true,\"x\":[-0.8539353285484828],\"y\":[-0.053028548072164616],\"z\":[0.09367669321838057],\"type\":\"scatter3d\"},{\"hovertemplate\":\"Name=034<br>X=%{x}<br>Y=%{y}<br>Z=%{z}<extra></extra>\",\"legendgroup\":\"034\",\"marker\":{\"color\":\"#FFA15A\",\"opacity\":0.5,\"symbol\":\"circle\"},\"mode\":\"markers\",\"name\":\"034\",\"scene\":\"scene\",\"showlegend\":true,\"x\":[-0.6588023332523578],\"y\":[0.07784630351551969],\"z\":[0.5126450624092969],\"type\":\"scatter3d\"},{\"hovertemplate\":\"Name=035<br>X=%{x}<br>Y=%{y}<br>Z=%{z}<extra></extra>\",\"legendgroup\":\"035\",\"marker\":{\"color\":\"#19d3f3\",\"opacity\":0.5,\"symbol\":\"circle\"},\"mode\":\"markers\",\"name\":\"035\",\"scene\":\"scene\",\"showlegend\":true,\"x\":[-0.15682078961844748],\"y\":[-0.6196604748162275],\"z\":[0.4241929692436308],\"type\":\"scatter3d\"},{\"hovertemplate\":\"Name=036<br>X=%{x}<br>Y=%{y}<br>Z=%{z}<extra></extra>\",\"legendgroup\":\"036\",\"marker\":{\"color\":\"#FF6692\",\"opacity\":0.5,\"symbol\":\"circle\"},\"mode\":\"markers\",\"name\":\"036\",\"scene\":\"scene\",\"showlegend\":true,\"x\":[-0.37734738958974967],\"y\":[0.8857867844705261],\"z\":[-0.5469301695561579],\"type\":\"scatter3d\"},{\"hovertemplate\":\"Name=037<br>X=%{x}<br>Y=%{y}<br>Z=%{z}<extra></extra>\",\"legendgroup\":\"037\",\"marker\":{\"color\":\"#B6E880\",\"opacity\":0.5,\"symbol\":\"circle\"},\"mode\":\"markers\",\"name\":\"037\",\"scene\":\"scene\",\"showlegend\":true,\"x\":[0.8658263771833257],\"y\":[-0.5263620140309486],\"z\":[-0.6025471058528431],\"type\":\"scatter3d\"},{\"hovertemplate\":\"Name=038<br>X=%{x}<br>Y=%{y}<br>Z=%{z}<extra></extra>\",\"legendgroup\":\"038\",\"marker\":{\"color\":\"#FF97FF\",\"opacity\":0.5,\"symbol\":\"circle\"},\"mode\":\"markers\",\"name\":\"038\",\"scene\":\"scene\",\"showlegend\":true,\"x\":[-0.469012942052458],\"y\":[-0.8633621273012306],\"z\":[0.18728647266813736],\"type\":\"scatter3d\"},{\"hovertemplate\":\"Name=039<br>X=%{x}<br>Y=%{y}<br>Z=%{z}<extra></extra>\",\"legendgroup\":\"039\",\"marker\":{\"color\":\"#FECB52\",\"opacity\":0.5,\"symbol\":\"circle\"},\"mode\":\"markers\",\"name\":\"039\",\"scene\":\"scene\",\"showlegend\":true,\"x\":[0.32783578211138553],\"y\":[0.7705300708565017],\"z\":[0.20244134791219293],\"type\":\"scatter3d\"},{\"hovertemplate\":\"Name=040<br>X=%{x}<br>Y=%{y}<br>Z=%{z}<extra></extra>\",\"legendgroup\":\"040\",\"marker\":{\"color\":\"#636efa\",\"opacity\":0.5,\"symbol\":\"circle\"},\"mode\":\"markers\",\"name\":\"040\",\"scene\":\"scene\",\"showlegend\":true,\"x\":[-0.5720245417261516],\"y\":[0.5527793520433619],\"z\":[0.3927190198566226],\"type\":\"scatter3d\"},{\"hovertemplate\":\"Name=041<br>X=%{x}<br>Y=%{y}<br>Z=%{z}<extra></extra>\",\"legendgroup\":\"041\",\"marker\":{\"color\":\"#EF553B\",\"opacity\":0.5,\"symbol\":\"circle\"},\"mode\":\"markers\",\"name\":\"041\",\"scene\":\"scene\",\"showlegend\":true,\"x\":[-0.9929032565593636],\"y\":[0.99039059977329],\"z\":[0.46531596702987676],\"type\":\"scatter3d\"},{\"hovertemplate\":\"Name=042<br>X=%{x}<br>Y=%{y}<br>Z=%{z}<extra></extra>\",\"legendgroup\":\"042\",\"marker\":{\"color\":\"#00cc96\",\"opacity\":0.5,\"symbol\":\"circle\"},\"mode\":\"markers\",\"name\":\"042\",\"scene\":\"scene\",\"showlegend\":true,\"x\":[-0.9744202089073333],\"y\":[-0.29377528674442055],\"z\":[-0.7182714786570628],\"type\":\"scatter3d\"},{\"hovertemplate\":\"Name=043<br>X=%{x}<br>Y=%{y}<br>Z=%{z}<extra></extra>\",\"legendgroup\":\"043\",\"marker\":{\"color\":\"#ab63fa\",\"opacity\":0.5,\"symbol\":\"circle\"},\"mode\":\"markers\",\"name\":\"043\",\"scene\":\"scene\",\"showlegend\":true,\"x\":[-0.39415872094136706],\"y\":[0.7197812961563237],\"z\":[0.38155364299827],\"type\":\"scatter3d\"},{\"hovertemplate\":\"Name=044<br>X=%{x}<br>Y=%{y}<br>Z=%{z}<extra></extra>\",\"legendgroup\":\"044\",\"marker\":{\"color\":\"#FFA15A\",\"opacity\":0.5,\"symbol\":\"circle\"},\"mode\":\"markers\",\"name\":\"044\",\"scene\":\"scene\",\"showlegend\":true,\"x\":[-0.6374784965066478],\"y\":[0.30195457294414885],\"z\":[0.03261557912532376],\"type\":\"scatter3d\"},{\"hovertemplate\":\"Name=045<br>X=%{x}<br>Y=%{y}<br>Z=%{z}<extra></extra>\",\"legendgroup\":\"045\",\"marker\":{\"color\":\"#19d3f3\",\"opacity\":0.5,\"symbol\":\"circle\"},\"mode\":\"markers\",\"name\":\"045\",\"scene\":\"scene\",\"showlegend\":true,\"x\":[-0.9744562378967485],\"y\":[-0.6429447781306576],\"z\":[-0.9214868468097819],\"type\":\"scatter3d\"},{\"hovertemplate\":\"Name=046<br>X=%{x}<br>Y=%{y}<br>Z=%{z}<extra></extra>\",\"legendgroup\":\"046\",\"marker\":{\"color\":\"#FF6692\",\"opacity\":0.5,\"symbol\":\"circle\"},\"mode\":\"markers\",\"name\":\"046\",\"scene\":\"scene\",\"showlegend\":true,\"x\":[-0.9198505896831726],\"y\":[-0.20882548578719007],\"z\":[-0.23200517243511598],\"type\":\"scatter3d\"},{\"hovertemplate\":\"Name=047<br>X=%{x}<br>Y=%{y}<br>Z=%{z}<extra></extra>\",\"legendgroup\":\"047\",\"marker\":{\"color\":\"#B6E880\",\"opacity\":0.5,\"symbol\":\"circle\"},\"mode\":\"markers\",\"name\":\"047\",\"scene\":\"scene\",\"showlegend\":true,\"x\":[-0.6020770522606327],\"y\":[0.28046217092498016],\"z\":[0.38650905783926626],\"type\":\"scatter3d\"},{\"hovertemplate\":\"Name=048<br>X=%{x}<br>Y=%{y}<br>Z=%{z}<extra></extra>\",\"legendgroup\":\"048\",\"marker\":{\"color\":\"#FF97FF\",\"opacity\":0.5,\"symbol\":\"circle\"},\"mode\":\"markers\",\"name\":\"048\",\"scene\":\"scene\",\"showlegend\":true,\"x\":[-0.8143288401138737],\"y\":[0.49455851743419244],\"z\":[-0.8338542219580094],\"type\":\"scatter3d\"},{\"hovertemplate\":\"Name=049<br>X=%{x}<br>Y=%{y}<br>Z=%{z}<extra></extra>\",\"legendgroup\":\"049\",\"marker\":{\"color\":\"#FECB52\",\"opacity\":0.5,\"symbol\":\"circle\"},\"mode\":\"markers\",\"name\":\"049\",\"scene\":\"scene\",\"showlegend\":true,\"x\":[0.6275800810367191],\"y\":[0.10391240255067502],\"z\":[-0.6359945898460355],\"type\":\"scatter3d\"},{\"hovertemplate\":\"Name=050<br>X=%{x}<br>Y=%{y}<br>Z=%{z}<extra></extra>\",\"legendgroup\":\"050\",\"marker\":{\"color\":\"#636efa\",\"opacity\":0.5,\"symbol\":\"circle\"},\"mode\":\"markers\",\"name\":\"050\",\"scene\":\"scene\",\"showlegend\":true,\"x\":[0.8253011499056933],\"y\":[-0.6543163078295233],\"z\":[-0.814683290224699],\"type\":\"scatter3d\"},{\"hovertemplate\":\"Name=051<br>X=%{x}<br>Y=%{y}<br>Z=%{z}<extra></extra>\",\"legendgroup\":\"051\",\"marker\":{\"color\":\"#EF553B\",\"opacity\":0.5,\"symbol\":\"circle\"},\"mode\":\"markers\",\"name\":\"051\",\"scene\":\"scene\",\"showlegend\":true,\"x\":[-0.657186914075121],\"y\":[-0.4052455273168407],\"z\":[-0.5116548934894634],\"type\":\"scatter3d\"},{\"hovertemplate\":\"Name=052<br>X=%{x}<br>Y=%{y}<br>Z=%{z}<extra></extra>\",\"legendgroup\":\"052\",\"marker\":{\"color\":\"#00cc96\",\"opacity\":0.5,\"symbol\":\"circle\"},\"mode\":\"markers\",\"name\":\"052\",\"scene\":\"scene\",\"showlegend\":true,\"x\":[0.557828042508961],\"y\":[0.09693336883318993],\"z\":[-0.9190232009102488],\"type\":\"scatter3d\"},{\"hovertemplate\":\"Name=053<br>X=%{x}<br>Y=%{y}<br>Z=%{z}<extra></extra>\",\"legendgroup\":\"053\",\"marker\":{\"color\":\"#ab63fa\",\"opacity\":0.5,\"symbol\":\"circle\"},\"mode\":\"markers\",\"name\":\"053\",\"scene\":\"scene\",\"showlegend\":true,\"x\":[0.35749118743347674],\"y\":[0.24314648742359068],\"z\":[0.46368671522455984],\"type\":\"scatter3d\"},{\"hovertemplate\":\"Name=054<br>X=%{x}<br>Y=%{y}<br>Z=%{z}<extra></extra>\",\"legendgroup\":\"054\",\"marker\":{\"color\":\"#FFA15A\",\"opacity\":0.5,\"symbol\":\"circle\"},\"mode\":\"markers\",\"name\":\"054\",\"scene\":\"scene\",\"showlegend\":true,\"x\":[0.7956808843826733],\"y\":[0.6118335853953072],\"z\":[-0.5967125909734736],\"type\":\"scatter3d\"},{\"hovertemplate\":\"Name=055<br>X=%{x}<br>Y=%{y}<br>Z=%{z}<extra></extra>\",\"legendgroup\":\"055\",\"marker\":{\"color\":\"#19d3f3\",\"opacity\":0.5,\"symbol\":\"circle\"},\"mode\":\"markers\",\"name\":\"055\",\"scene\":\"scene\",\"showlegend\":true,\"x\":[0.9475761606950914],\"y\":[0.9333097227613634],\"z\":[-0.8018118600298518],\"type\":\"scatter3d\"},{\"hovertemplate\":\"Name=056<br>X=%{x}<br>Y=%{y}<br>Z=%{z}<extra></extra>\",\"legendgroup\":\"056\",\"marker\":{\"color\":\"#FF6692\",\"opacity\":0.5,\"symbol\":\"circle\"},\"mode\":\"markers\",\"name\":\"056\",\"scene\":\"scene\",\"showlegend\":true,\"x\":[-0.18217193460428716],\"y\":[-0.8729070988717971],\"z\":[-0.15450433663815732],\"type\":\"scatter3d\"},{\"hovertemplate\":\"Name=057<br>X=%{x}<br>Y=%{y}<br>Z=%{z}<extra></extra>\",\"legendgroup\":\"057\",\"marker\":{\"color\":\"#B6E880\",\"opacity\":0.5,\"symbol\":\"circle\"},\"mode\":\"markers\",\"name\":\"057\",\"scene\":\"scene\",\"showlegend\":true,\"x\":[-0.45611670464349663],\"y\":[0.44125300255586253],\"z\":[-0.921923923062332],\"type\":\"scatter3d\"},{\"hovertemplate\":\"Name=058<br>X=%{x}<br>Y=%{y}<br>Z=%{z}<extra></extra>\",\"legendgroup\":\"058\",\"marker\":{\"color\":\"#FF97FF\",\"opacity\":0.5,\"symbol\":\"circle\"},\"mode\":\"markers\",\"name\":\"058\",\"scene\":\"scene\",\"showlegend\":true,\"x\":[0.830518267926893],\"y\":[-0.4535889203677361],\"z\":[0.7166007794302265],\"type\":\"scatter3d\"},{\"hovertemplate\":\"Name=059<br>X=%{x}<br>Y=%{y}<br>Z=%{z}<extra></extra>\",\"legendgroup\":\"059\",\"marker\":{\"color\":\"#FECB52\",\"opacity\":0.5,\"symbol\":\"circle\"},\"mode\":\"markers\",\"name\":\"059\",\"scene\":\"scene\",\"showlegend\":true,\"x\":[-0.6743506313094774],\"y\":[-0.4042742630350862],\"z\":[0.7223084185655697],\"type\":\"scatter3d\"},{\"hovertemplate\":\"Name=060<br>X=%{x}<br>Y=%{y}<br>Z=%{z}<extra></extra>\",\"legendgroup\":\"060\",\"marker\":{\"color\":\"#636efa\",\"opacity\":0.5,\"symbol\":\"circle\"},\"mode\":\"markers\",\"name\":\"060\",\"scene\":\"scene\",\"showlegend\":true,\"x\":[0.10925460925733965],\"y\":[0.9419057655693077],\"z\":[-0.5342277798973327],\"type\":\"scatter3d\"},{\"hovertemplate\":\"Name=061<br>X=%{x}<br>Y=%{y}<br>Z=%{z}<extra></extra>\",\"legendgroup\":\"061\",\"marker\":{\"color\":\"#EF553B\",\"opacity\":0.5,\"symbol\":\"circle\"},\"mode\":\"markers\",\"name\":\"061\",\"scene\":\"scene\",\"showlegend\":true,\"x\":[-0.4309034105894287],\"y\":[0.8830266607996917],\"z\":[-0.22273142450366779],\"type\":\"scatter3d\"},{\"hovertemplate\":\"Name=062<br>X=%{x}<br>Y=%{y}<br>Z=%{z}<extra></extra>\",\"legendgroup\":\"062\",\"marker\":{\"color\":\"#00cc96\",\"opacity\":0.5,\"symbol\":\"circle\"},\"mode\":\"markers\",\"name\":\"062\",\"scene\":\"scene\",\"showlegend\":true,\"x\":[-0.931122473319405],\"y\":[-0.13901042472669634],\"z\":[-0.6527098856688966],\"type\":\"scatter3d\"},{\"hovertemplate\":\"Name=063<br>X=%{x}<br>Y=%{y}<br>Z=%{z}<extra></extra>\",\"legendgroup\":\"063\",\"marker\":{\"color\":\"#ab63fa\",\"opacity\":0.5,\"symbol\":\"circle\"},\"mode\":\"markers\",\"name\":\"063\",\"scene\":\"scene\",\"showlegend\":true,\"x\":[-0.4763144421609795],\"y\":[-0.25071346835005204],\"z\":[0.511909084743672],\"type\":\"scatter3d\"},{\"hovertemplate\":\"Name=064<br>X=%{x}<br>Y=%{y}<br>Z=%{z}<extra></extra>\",\"legendgroup\":\"064\",\"marker\":{\"color\":\"#FFA15A\",\"opacity\":0.5,\"symbol\":\"circle\"},\"mode\":\"markers\",\"name\":\"064\",\"scene\":\"scene\",\"showlegend\":true,\"x\":[-0.360705532066089],\"y\":[0.07617763493887297],\"z\":[0.9149879589377303],\"type\":\"scatter3d\"},{\"hovertemplate\":\"Name=065<br>X=%{x}<br>Y=%{y}<br>Z=%{z}<extra></extra>\",\"legendgroup\":\"065\",\"marker\":{\"color\":\"#19d3f3\",\"opacity\":0.5,\"symbol\":\"circle\"},\"mode\":\"markers\",\"name\":\"065\",\"scene\":\"scene\",\"showlegend\":true,\"x\":[-0.5868957827046912],\"y\":[-0.897470599142578],\"z\":[-0.4240609702059417],\"type\":\"scatter3d\"},{\"hovertemplate\":\"Name=066<br>X=%{x}<br>Y=%{y}<br>Z=%{z}<extra></extra>\",\"legendgroup\":\"066\",\"marker\":{\"color\":\"#FF6692\",\"opacity\":0.5,\"symbol\":\"circle\"},\"mode\":\"markers\",\"name\":\"066\",\"scene\":\"scene\",\"showlegend\":true,\"x\":[-0.5794018700424437],\"y\":[0.17934820562583265],\"z\":[0.04749264014031107],\"type\":\"scatter3d\"},{\"hovertemplate\":\"Name=067<br>X=%{x}<br>Y=%{y}<br>Z=%{z}<extra></extra>\",\"legendgroup\":\"067\",\"marker\":{\"color\":\"#B6E880\",\"opacity\":0.5,\"symbol\":\"circle\"},\"mode\":\"markers\",\"name\":\"067\",\"scene\":\"scene\",\"showlegend\":true,\"x\":[0.22671721854892968],\"y\":[-0.5392386870737178],\"z\":[0.45067060322093266],\"type\":\"scatter3d\"},{\"hovertemplate\":\"Name=068<br>X=%{x}<br>Y=%{y}<br>Z=%{z}<extra></extra>\",\"legendgroup\":\"068\",\"marker\":{\"color\":\"#FF97FF\",\"opacity\":0.5,\"symbol\":\"circle\"},\"mode\":\"markers\",\"name\":\"068\",\"scene\":\"scene\",\"showlegend\":true,\"x\":[0.0500388165521104],\"y\":[0.9877848677130459],\"z\":[-0.9419745114525757],\"type\":\"scatter3d\"},{\"hovertemplate\":\"Name=069<br>X=%{x}<br>Y=%{y}<br>Z=%{z}<extra></extra>\",\"legendgroup\":\"069\",\"marker\":{\"color\":\"#FECB52\",\"opacity\":0.5,\"symbol\":\"circle\"},\"mode\":\"markers\",\"name\":\"069\",\"scene\":\"scene\",\"showlegend\":true,\"x\":[0.07713409677177996],\"y\":[-0.7009975847592647],\"z\":[0.2418674499684359],\"type\":\"scatter3d\"},{\"hovertemplate\":\"Name=070<br>X=%{x}<br>Y=%{y}<br>Z=%{z}<extra></extra>\",\"legendgroup\":\"070\",\"marker\":{\"color\":\"#636efa\",\"opacity\":0.5,\"symbol\":\"circle\"},\"mode\":\"markers\",\"name\":\"070\",\"scene\":\"scene\",\"showlegend\":true,\"x\":[0.4832895509940891],\"y\":[0.3361911195324394],\"z\":[0.9067617385273159],\"type\":\"scatter3d\"},{\"hovertemplate\":\"Name=071<br>X=%{x}<br>Y=%{y}<br>Z=%{z}<extra></extra>\",\"legendgroup\":\"071\",\"marker\":{\"color\":\"#EF553B\",\"opacity\":0.5,\"symbol\":\"circle\"},\"mode\":\"markers\",\"name\":\"071\",\"scene\":\"scene\",\"showlegend\":true,\"x\":[-0.292362509324644],\"y\":[-0.829093272236056],\"z\":[-0.15530099715746548],\"type\":\"scatter3d\"},{\"hovertemplate\":\"Name=072<br>X=%{x}<br>Y=%{y}<br>Z=%{z}<extra></extra>\",\"legendgroup\":\"072\",\"marker\":{\"color\":\"#00cc96\",\"opacity\":0.5,\"symbol\":\"circle\"},\"mode\":\"markers\",\"name\":\"072\",\"scene\":\"scene\",\"showlegend\":true,\"x\":[-0.9713416317889458],\"y\":[-0.5908364352119075],\"z\":[-0.27469988591754],\"type\":\"scatter3d\"},{\"hovertemplate\":\"Name=073<br>X=%{x}<br>Y=%{y}<br>Z=%{z}<extra></extra>\",\"legendgroup\":\"073\",\"marker\":{\"color\":\"#ab63fa\",\"opacity\":0.5,\"symbol\":\"circle\"},\"mode\":\"markers\",\"name\":\"073\",\"scene\":\"scene\",\"showlegend\":true,\"x\":[0.24497544490764822],\"y\":[0.7293893581068107],\"z\":[0.31562539002810763],\"type\":\"scatter3d\"},{\"hovertemplate\":\"Name=074<br>X=%{x}<br>Y=%{y}<br>Z=%{z}<extra></extra>\",\"legendgroup\":\"074\",\"marker\":{\"color\":\"#FFA15A\",\"opacity\":0.5,\"symbol\":\"circle\"},\"mode\":\"markers\",\"name\":\"074\",\"scene\":\"scene\",\"showlegend\":true,\"x\":[0.6170522449671894],\"y\":[-0.35833610873893473],\"z\":[0.15374839202930968],\"type\":\"scatter3d\"},{\"hovertemplate\":\"Name=075<br>X=%{x}<br>Y=%{y}<br>Z=%{z}<extra></extra>\",\"legendgroup\":\"075\",\"marker\":{\"color\":\"#19d3f3\",\"opacity\":0.5,\"symbol\":\"circle\"},\"mode\":\"markers\",\"name\":\"075\",\"scene\":\"scene\",\"showlegend\":true,\"x\":[-0.0723647078754539],\"y\":[-0.9345657905510714],\"z\":[0.6120862711972559],\"type\":\"scatter3d\"},{\"hovertemplate\":\"Name=076<br>X=%{x}<br>Y=%{y}<br>Z=%{z}<extra></extra>\",\"legendgroup\":\"076\",\"marker\":{\"color\":\"#FF6692\",\"opacity\":0.5,\"symbol\":\"circle\"},\"mode\":\"markers\",\"name\":\"076\",\"scene\":\"scene\",\"showlegend\":true,\"x\":[0.7212713364508847],\"y\":[-0.17689554217242986],\"z\":[0.31652829465990373],\"type\":\"scatter3d\"},{\"hovertemplate\":\"Name=077<br>X=%{x}<br>Y=%{y}<br>Z=%{z}<extra></extra>\",\"legendgroup\":\"077\",\"marker\":{\"color\":\"#B6E880\",\"opacity\":0.5,\"symbol\":\"circle\"},\"mode\":\"markers\",\"name\":\"077\",\"scene\":\"scene\",\"showlegend\":true,\"x\":[0.6613112470325833],\"y\":[0.94681380932137],\"z\":[0.4011001027112948],\"type\":\"scatter3d\"},{\"hovertemplate\":\"Name=078<br>X=%{x}<br>Y=%{y}<br>Z=%{z}<extra></extra>\",\"legendgroup\":\"078\",\"marker\":{\"color\":\"#FF97FF\",\"opacity\":0.5,\"symbol\":\"circle\"},\"mode\":\"markers\",\"name\":\"078\",\"scene\":\"scene\",\"showlegend\":true,\"x\":[-0.9602149009093888],\"y\":[0.2694196716867947],\"z\":[-0.8177907337971868],\"type\":\"scatter3d\"},{\"hovertemplate\":\"Name=079<br>X=%{x}<br>Y=%{y}<br>Z=%{z}<extra></extra>\",\"legendgroup\":\"079\",\"marker\":{\"color\":\"#FECB52\",\"opacity\":0.5,\"symbol\":\"circle\"},\"mode\":\"markers\",\"name\":\"079\",\"scene\":\"scene\",\"showlegend\":true,\"x\":[0.4479312340821373],\"y\":[0.972477614828718],\"z\":[0.1769213123780944],\"type\":\"scatter3d\"},{\"hovertemplate\":\"Name=080<br>X=%{x}<br>Y=%{y}<br>Z=%{z}<extra></extra>\",\"legendgroup\":\"080\",\"marker\":{\"color\":\"#636efa\",\"opacity\":0.5,\"symbol\":\"circle\"},\"mode\":\"markers\",\"name\":\"080\",\"scene\":\"scene\",\"showlegend\":true,\"x\":[-0.7222594519097383],\"y\":[-0.42242885566950994],\"z\":[0.10510048782385395],\"type\":\"scatter3d\"},{\"hovertemplate\":\"Name=081<br>X=%{x}<br>Y=%{y}<br>Z=%{z}<extra></extra>\",\"legendgroup\":\"081\",\"marker\":{\"color\":\"#EF553B\",\"opacity\":0.5,\"symbol\":\"circle\"},\"mode\":\"markers\",\"name\":\"081\",\"scene\":\"scene\",\"showlegend\":true,\"x\":[-0.5333742048779619],\"y\":[0.8150138890272391],\"z\":[0.5611788398593447],\"type\":\"scatter3d\"},{\"hovertemplate\":\"Name=082<br>X=%{x}<br>Y=%{y}<br>Z=%{z}<extra></extra>\",\"legendgroup\":\"082\",\"marker\":{\"color\":\"#00cc96\",\"opacity\":0.5,\"symbol\":\"circle\"},\"mode\":\"markers\",\"name\":\"082\",\"scene\":\"scene\",\"showlegend\":true,\"x\":[-0.33338494322728196],\"y\":[0.1189839435290867],\"z\":[-0.7886983527320581],\"type\":\"scatter3d\"},{\"hovertemplate\":\"Name=083<br>X=%{x}<br>Y=%{y}<br>Z=%{z}<extra></extra>\",\"legendgroup\":\"083\",\"marker\":{\"color\":\"#ab63fa\",\"opacity\":0.5,\"symbol\":\"circle\"},\"mode\":\"markers\",\"name\":\"083\",\"scene\":\"scene\",\"showlegend\":true,\"x\":[0.6344490715038829],\"y\":[-0.49079848246832003],\"z\":[-0.1999226695365388],\"type\":\"scatter3d\"},{\"hovertemplate\":\"Name=084<br>X=%{x}<br>Y=%{y}<br>Z=%{z}<extra></extra>\",\"legendgroup\":\"084\",\"marker\":{\"color\":\"#FFA15A\",\"opacity\":0.5,\"symbol\":\"circle\"},\"mode\":\"markers\",\"name\":\"084\",\"scene\":\"scene\",\"showlegend\":true,\"x\":[0.9422339214135798],\"y\":[0.3932251810081173],\"z\":[-0.9455421033316245],\"type\":\"scatter3d\"},{\"hovertemplate\":\"Name=085<br>X=%{x}<br>Y=%{y}<br>Z=%{z}<extra></extra>\",\"legendgroup\":\"085\",\"marker\":{\"color\":\"#19d3f3\",\"opacity\":0.5,\"symbol\":\"circle\"},\"mode\":\"markers\",\"name\":\"085\",\"scene\":\"scene\",\"showlegend\":true,\"x\":[0.0785859252552239],\"y\":[-0.4902731044653852],\"z\":[0.6745041115023844],\"type\":\"scatter3d\"},{\"hovertemplate\":\"Name=086<br>X=%{x}<br>Y=%{y}<br>Z=%{z}<extra></extra>\",\"legendgroup\":\"086\",\"marker\":{\"color\":\"#FF6692\",\"opacity\":0.5,\"symbol\":\"circle\"},\"mode\":\"markers\",\"name\":\"086\",\"scene\":\"scene\",\"showlegend\":true,\"x\":[0.2774406616739027],\"y\":[0.07818523595300109],\"z\":[-0.5017856135156016],\"type\":\"scatter3d\"},{\"hovertemplate\":\"Name=087<br>X=%{x}<br>Y=%{y}<br>Z=%{z}<extra></extra>\",\"legendgroup\":\"087\",\"marker\":{\"color\":\"#B6E880\",\"opacity\":0.5,\"symbol\":\"circle\"},\"mode\":\"markers\",\"name\":\"087\",\"scene\":\"scene\",\"showlegend\":true,\"x\":[0.12331767372920743],\"y\":[-0.1412353180812418],\"z\":[0.8357070293812332],\"type\":\"scatter3d\"},{\"hovertemplate\":\"Name=088<br>X=%{x}<br>Y=%{y}<br>Z=%{z}<extra></extra>\",\"legendgroup\":\"088\",\"marker\":{\"color\":\"#FF97FF\",\"opacity\":0.5,\"symbol\":\"circle\"},\"mode\":\"markers\",\"name\":\"088\",\"scene\":\"scene\",\"showlegend\":true,\"x\":[-0.7802282677437391],\"y\":[0.049166880141457314],\"z\":[0.07165736676275825],\"type\":\"scatter3d\"},{\"hovertemplate\":\"Name=089<br>X=%{x}<br>Y=%{y}<br>Z=%{z}<extra></extra>\",\"legendgroup\":\"089\",\"marker\":{\"color\":\"#FECB52\",\"opacity\":0.5,\"symbol\":\"circle\"},\"mode\":\"markers\",\"name\":\"089\",\"scene\":\"scene\",\"showlegend\":true,\"x\":[-0.9447431574466119],\"y\":[0.2773172599470233],\"z\":[0.7223310189027832],\"type\":\"scatter3d\"},{\"hovertemplate\":\"Name=090<br>X=%{x}<br>Y=%{y}<br>Z=%{z}<extra></extra>\",\"legendgroup\":\"090\",\"marker\":{\"color\":\"#636efa\",\"opacity\":0.5,\"symbol\":\"circle\"},\"mode\":\"markers\",\"name\":\"090\",\"scene\":\"scene\",\"showlegend\":true,\"x\":[0.12690830749730653],\"y\":[-0.5514663225319374],\"z\":[0.022154004632767288],\"type\":\"scatter3d\"},{\"hovertemplate\":\"Name=091<br>X=%{x}<br>Y=%{y}<br>Z=%{z}<extra></extra>\",\"legendgroup\":\"091\",\"marker\":{\"color\":\"#EF553B\",\"opacity\":0.5,\"symbol\":\"circle\"},\"mode\":\"markers\",\"name\":\"091\",\"scene\":\"scene\",\"showlegend\":true,\"x\":[-0.8008297526835599],\"y\":[-0.7912277405180823],\"z\":[-0.9639191355319003],\"type\":\"scatter3d\"},{\"hovertemplate\":\"Name=092<br>X=%{x}<br>Y=%{y}<br>Z=%{z}<extra></extra>\",\"legendgroup\":\"092\",\"marker\":{\"color\":\"#00cc96\",\"opacity\":0.5,\"symbol\":\"circle\"},\"mode\":\"markers\",\"name\":\"092\",\"scene\":\"scene\",\"showlegend\":true,\"x\":[0.6094073261794897],\"y\":[0.6666225579198002],\"z\":[-0.4445735573950169],\"type\":\"scatter3d\"},{\"hovertemplate\":\"Name=093<br>X=%{x}<br>Y=%{y}<br>Z=%{z}<extra></extra>\",\"legendgroup\":\"093\",\"marker\":{\"color\":\"#ab63fa\",\"opacity\":0.5,\"symbol\":\"circle\"},\"mode\":\"markers\",\"name\":\"093\",\"scene\":\"scene\",\"showlegend\":true,\"x\":[0.4801946581899783],\"y\":[-0.7789217103048929],\"z\":[0.7839373274801404],\"type\":\"scatter3d\"},{\"hovertemplate\":\"Name=094<br>X=%{x}<br>Y=%{y}<br>Z=%{z}<extra></extra>\",\"legendgroup\":\"094\",\"marker\":{\"color\":\"#FFA15A\",\"opacity\":0.5,\"symbol\":\"circle\"},\"mode\":\"markers\",\"name\":\"094\",\"scene\":\"scene\",\"showlegend\":true,\"x\":[-0.7159035996570313],\"y\":[-0.3805532146245094],\"z\":[-0.9659309022512235],\"type\":\"scatter3d\"},{\"hovertemplate\":\"Name=095<br>X=%{x}<br>Y=%{y}<br>Z=%{z}<extra></extra>\",\"legendgroup\":\"095\",\"marker\":{\"color\":\"#19d3f3\",\"opacity\":0.5,\"symbol\":\"circle\"},\"mode\":\"markers\",\"name\":\"095\",\"scene\":\"scene\",\"showlegend\":true,\"x\":[-0.46178597531692955],\"y\":[0.9955152490025505],\"z\":[0.8039218826210055],\"type\":\"scatter3d\"},{\"hovertemplate\":\"Name=096<br>X=%{x}<br>Y=%{y}<br>Z=%{z}<extra></extra>\",\"legendgroup\":\"096\",\"marker\":{\"color\":\"#FF6692\",\"opacity\":0.5,\"symbol\":\"circle\"},\"mode\":\"markers\",\"name\":\"096\",\"scene\":\"scene\",\"showlegend\":true,\"x\":[-0.5085742891043132],\"y\":[0.7367782692713458],\"z\":[0.27016341027855373],\"type\":\"scatter3d\"},{\"hovertemplate\":\"Name=097<br>X=%{x}<br>Y=%{y}<br>Z=%{z}<extra></extra>\",\"legendgroup\":\"097\",\"marker\":{\"color\":\"#B6E880\",\"opacity\":0.5,\"symbol\":\"circle\"},\"mode\":\"markers\",\"name\":\"097\",\"scene\":\"scene\",\"showlegend\":true,\"x\":[0.983786892569591],\"y\":[-0.9674014051486086],\"z\":[-0.7821878368794803],\"type\":\"scatter3d\"},{\"hovertemplate\":\"Name=098<br>X=%{x}<br>Y=%{y}<br>Z=%{z}<extra></extra>\",\"legendgroup\":\"098\",\"marker\":{\"color\":\"#FF97FF\",\"opacity\":0.5,\"symbol\":\"circle\"},\"mode\":\"markers\",\"name\":\"098\",\"scene\":\"scene\",\"showlegend\":true,\"x\":[-0.12842405651195143],\"y\":[-0.166202660859891],\"z\":[-0.5606153172751787],\"type\":\"scatter3d\"},{\"hovertemplate\":\"Name=099<br>X=%{x}<br>Y=%{y}<br>Z=%{z}<extra></extra>\",\"legendgroup\":\"099\",\"marker\":{\"color\":\"#FECB52\",\"opacity\":0.5,\"symbol\":\"circle\"},\"mode\":\"markers\",\"name\":\"099\",\"scene\":\"scene\",\"showlegend\":true,\"x\":[0.3238789019099524],\"y\":[-0.28979560141128546],\"z\":[0.021330412486537886],\"type\":\"scatter3d\"}],                        {\"template\":{\"data\":{\"bar\":[{\"error_x\":{\"color\":\"#2a3f5f\"},\"error_y\":{\"color\":\"#2a3f5f\"},\"marker\":{\"line\":{\"color\":\"#E5ECF6\",\"width\":0.5},\"pattern\":{\"fillmode\":\"overlay\",\"size\":10,\"solidity\":0.2}},\"type\":\"bar\"}],\"barpolar\":[{\"marker\":{\"line\":{\"color\":\"#E5ECF6\",\"width\":0.5},\"pattern\":{\"fillmode\":\"overlay\",\"size\":10,\"solidity\":0.2}},\"type\":\"barpolar\"}],\"carpet\":[{\"aaxis\":{\"endlinecolor\":\"#2a3f5f\",\"gridcolor\":\"white\",\"linecolor\":\"white\",\"minorgridcolor\":\"white\",\"startlinecolor\":\"#2a3f5f\"},\"baxis\":{\"endlinecolor\":\"#2a3f5f\",\"gridcolor\":\"white\",\"linecolor\":\"white\",\"minorgridcolor\":\"white\",\"startlinecolor\":\"#2a3f5f\"},\"type\":\"carpet\"}],\"choropleth\":[{\"colorbar\":{\"outlinewidth\":0,\"ticks\":\"\"},\"type\":\"choropleth\"}],\"contour\":[{\"colorbar\":{\"outlinewidth\":0,\"ticks\":\"\"},\"colorscale\":[[0.0,\"#0d0887\"],[0.1111111111111111,\"#46039f\"],[0.2222222222222222,\"#7201a8\"],[0.3333333333333333,\"#9c179e\"],[0.4444444444444444,\"#bd3786\"],[0.5555555555555556,\"#d8576b\"],[0.6666666666666666,\"#ed7953\"],[0.7777777777777778,\"#fb9f3a\"],[0.8888888888888888,\"#fdca26\"],[1.0,\"#f0f921\"]],\"type\":\"contour\"}],\"contourcarpet\":[{\"colorbar\":{\"outlinewidth\":0,\"ticks\":\"\"},\"type\":\"contourcarpet\"}],\"heatmap\":[{\"colorbar\":{\"outlinewidth\":0,\"ticks\":\"\"},\"colorscale\":[[0.0,\"#0d0887\"],[0.1111111111111111,\"#46039f\"],[0.2222222222222222,\"#7201a8\"],[0.3333333333333333,\"#9c179e\"],[0.4444444444444444,\"#bd3786\"],[0.5555555555555556,\"#d8576b\"],[0.6666666666666666,\"#ed7953\"],[0.7777777777777778,\"#fb9f3a\"],[0.8888888888888888,\"#fdca26\"],[1.0,\"#f0f921\"]],\"type\":\"heatmap\"}],\"heatmapgl\":[{\"colorbar\":{\"outlinewidth\":0,\"ticks\":\"\"},\"colorscale\":[[0.0,\"#0d0887\"],[0.1111111111111111,\"#46039f\"],[0.2222222222222222,\"#7201a8\"],[0.3333333333333333,\"#9c179e\"],[0.4444444444444444,\"#bd3786\"],[0.5555555555555556,\"#d8576b\"],[0.6666666666666666,\"#ed7953\"],[0.7777777777777778,\"#fb9f3a\"],[0.8888888888888888,\"#fdca26\"],[1.0,\"#f0f921\"]],\"type\":\"heatmapgl\"}],\"histogram\":[{\"marker\":{\"pattern\":{\"fillmode\":\"overlay\",\"size\":10,\"solidity\":0.2}},\"type\":\"histogram\"}],\"histogram2d\":[{\"colorbar\":{\"outlinewidth\":0,\"ticks\":\"\"},\"colorscale\":[[0.0,\"#0d0887\"],[0.1111111111111111,\"#46039f\"],[0.2222222222222222,\"#7201a8\"],[0.3333333333333333,\"#9c179e\"],[0.4444444444444444,\"#bd3786\"],[0.5555555555555556,\"#d8576b\"],[0.6666666666666666,\"#ed7953\"],[0.7777777777777778,\"#fb9f3a\"],[0.8888888888888888,\"#fdca26\"],[1.0,\"#f0f921\"]],\"type\":\"histogram2d\"}],\"histogram2dcontour\":[{\"colorbar\":{\"outlinewidth\":0,\"ticks\":\"\"},\"colorscale\":[[0.0,\"#0d0887\"],[0.1111111111111111,\"#46039f\"],[0.2222222222222222,\"#7201a8\"],[0.3333333333333333,\"#9c179e\"],[0.4444444444444444,\"#bd3786\"],[0.5555555555555556,\"#d8576b\"],[0.6666666666666666,\"#ed7953\"],[0.7777777777777778,\"#fb9f3a\"],[0.8888888888888888,\"#fdca26\"],[1.0,\"#f0f921\"]],\"type\":\"histogram2dcontour\"}],\"mesh3d\":[{\"colorbar\":{\"outlinewidth\":0,\"ticks\":\"\"},\"type\":\"mesh3d\"}],\"parcoords\":[{\"line\":{\"colorbar\":{\"outlinewidth\":0,\"ticks\":\"\"}},\"type\":\"parcoords\"}],\"pie\":[{\"automargin\":true,\"type\":\"pie\"}],\"scatter\":[{\"marker\":{\"colorbar\":{\"outlinewidth\":0,\"ticks\":\"\"}},\"type\":\"scatter\"}],\"scatter3d\":[{\"line\":{\"colorbar\":{\"outlinewidth\":0,\"ticks\":\"\"}},\"marker\":{\"colorbar\":{\"outlinewidth\":0,\"ticks\":\"\"}},\"type\":\"scatter3d\"}],\"scattercarpet\":[{\"marker\":{\"colorbar\":{\"outlinewidth\":0,\"ticks\":\"\"}},\"type\":\"scattercarpet\"}],\"scattergeo\":[{\"marker\":{\"colorbar\":{\"outlinewidth\":0,\"ticks\":\"\"}},\"type\":\"scattergeo\"}],\"scattergl\":[{\"marker\":{\"colorbar\":{\"outlinewidth\":0,\"ticks\":\"\"}},\"type\":\"scattergl\"}],\"scattermapbox\":[{\"marker\":{\"colorbar\":{\"outlinewidth\":0,\"ticks\":\"\"}},\"type\":\"scattermapbox\"}],\"scatterpolar\":[{\"marker\":{\"colorbar\":{\"outlinewidth\":0,\"ticks\":\"\"}},\"type\":\"scatterpolar\"}],\"scatterpolargl\":[{\"marker\":{\"colorbar\":{\"outlinewidth\":0,\"ticks\":\"\"}},\"type\":\"scatterpolargl\"}],\"scatterternary\":[{\"marker\":{\"colorbar\":{\"outlinewidth\":0,\"ticks\":\"\"}},\"type\":\"scatterternary\"}],\"surface\":[{\"colorbar\":{\"outlinewidth\":0,\"ticks\":\"\"},\"colorscale\":[[0.0,\"#0d0887\"],[0.1111111111111111,\"#46039f\"],[0.2222222222222222,\"#7201a8\"],[0.3333333333333333,\"#9c179e\"],[0.4444444444444444,\"#bd3786\"],[0.5555555555555556,\"#d8576b\"],[0.6666666666666666,\"#ed7953\"],[0.7777777777777778,\"#fb9f3a\"],[0.8888888888888888,\"#fdca26\"],[1.0,\"#f0f921\"]],\"type\":\"surface\"}],\"table\":[{\"cells\":{\"fill\":{\"color\":\"#EBF0F8\"},\"line\":{\"color\":\"white\"}},\"header\":{\"fill\":{\"color\":\"#C8D4E3\"},\"line\":{\"color\":\"white\"}},\"type\":\"table\"}]},\"layout\":{\"annotationdefaults\":{\"arrowcolor\":\"#2a3f5f\",\"arrowhead\":0,\"arrowwidth\":1},\"autotypenumbers\":\"strict\",\"coloraxis\":{\"colorbar\":{\"outlinewidth\":0,\"ticks\":\"\"}},\"colorscale\":{\"diverging\":[[0,\"#8e0152\"],[0.1,\"#c51b7d\"],[0.2,\"#de77ae\"],[0.3,\"#f1b6da\"],[0.4,\"#fde0ef\"],[0.5,\"#f7f7f7\"],[0.6,\"#e6f5d0\"],[0.7,\"#b8e186\"],[0.8,\"#7fbc41\"],[0.9,\"#4d9221\"],[1,\"#276419\"]],\"sequential\":[[0.0,\"#0d0887\"],[0.1111111111111111,\"#46039f\"],[0.2222222222222222,\"#7201a8\"],[0.3333333333333333,\"#9c179e\"],[0.4444444444444444,\"#bd3786\"],[0.5555555555555556,\"#d8576b\"],[0.6666666666666666,\"#ed7953\"],[0.7777777777777778,\"#fb9f3a\"],[0.8888888888888888,\"#fdca26\"],[1.0,\"#f0f921\"]],\"sequentialminus\":[[0.0,\"#0d0887\"],[0.1111111111111111,\"#46039f\"],[0.2222222222222222,\"#7201a8\"],[0.3333333333333333,\"#9c179e\"],[0.4444444444444444,\"#bd3786\"],[0.5555555555555556,\"#d8576b\"],[0.6666666666666666,\"#ed7953\"],[0.7777777777777778,\"#fb9f3a\"],[0.8888888888888888,\"#fdca26\"],[1.0,\"#f0f921\"]]},\"colorway\":[\"#636efa\",\"#EF553B\",\"#00cc96\",\"#ab63fa\",\"#FFA15A\",\"#19d3f3\",\"#FF6692\",\"#B6E880\",\"#FF97FF\",\"#FECB52\"],\"font\":{\"color\":\"#2a3f5f\"},\"geo\":{\"bgcolor\":\"white\",\"lakecolor\":\"white\",\"landcolor\":\"#E5ECF6\",\"showlakes\":true,\"showland\":true,\"subunitcolor\":\"white\"},\"hoverlabel\":{\"align\":\"left\"},\"hovermode\":\"closest\",\"mapbox\":{\"style\":\"light\"},\"paper_bgcolor\":\"white\",\"plot_bgcolor\":\"#E5ECF6\",\"polar\":{\"angularaxis\":{\"gridcolor\":\"white\",\"linecolor\":\"white\",\"ticks\":\"\"},\"bgcolor\":\"#E5ECF6\",\"radialaxis\":{\"gridcolor\":\"white\",\"linecolor\":\"white\",\"ticks\":\"\"}},\"scene\":{\"xaxis\":{\"backgroundcolor\":\"#E5ECF6\",\"gridcolor\":\"white\",\"gridwidth\":2,\"linecolor\":\"white\",\"showbackground\":true,\"ticks\":\"\",\"zerolinecolor\":\"white\"},\"yaxis\":{\"backgroundcolor\":\"#E5ECF6\",\"gridcolor\":\"white\",\"gridwidth\":2,\"linecolor\":\"white\",\"showbackground\":true,\"ticks\":\"\",\"zerolinecolor\":\"white\"},\"zaxis\":{\"backgroundcolor\":\"#E5ECF6\",\"gridcolor\":\"white\",\"gridwidth\":2,\"linecolor\":\"white\",\"showbackground\":true,\"ticks\":\"\",\"zerolinecolor\":\"white\"}},\"shapedefaults\":{\"line\":{\"color\":\"#2a3f5f\"}},\"ternary\":{\"aaxis\":{\"gridcolor\":\"white\",\"linecolor\":\"white\",\"ticks\":\"\"},\"baxis\":{\"gridcolor\":\"white\",\"linecolor\":\"white\",\"ticks\":\"\"},\"bgcolor\":\"#E5ECF6\",\"caxis\":{\"gridcolor\":\"white\",\"linecolor\":\"white\",\"ticks\":\"\"}},\"title\":{\"x\":0.05},\"xaxis\":{\"automargin\":true,\"gridcolor\":\"white\",\"linecolor\":\"white\",\"ticks\":\"\",\"title\":{\"standoff\":15},\"zerolinecolor\":\"white\",\"zerolinewidth\":2},\"yaxis\":{\"automargin\":true,\"gridcolor\":\"white\",\"linecolor\":\"white\",\"ticks\":\"\",\"title\":{\"standoff\":15},\"zerolinecolor\":\"white\",\"zerolinewidth\":2}}},\"scene\":{\"domain\":{\"x\":[0.0,1.0],\"y\":[0.0,1.0]},\"xaxis\":{\"title\":{\"text\":\"X\"}},\"yaxis\":{\"title\":{\"text\":\"Y\"}},\"zaxis\":{\"title\":{\"text\":\"Z\"}}},\"legend\":{\"title\":{\"text\":\"Name\"},\"tracegroupgap\":0},\"margin\":{\"t\":60}},                        {\"responsive\": true}                    ).then(function(){\n",
              "                            \n",
              "var gd = document.getElementById('c80d2353-5b97-4c9c-9963-7dab05261cc6');\n",
              "var x = new MutationObserver(function (mutations, observer) {{\n",
              "        var display = window.getComputedStyle(gd).display;\n",
              "        if (!display || display === 'none') {{\n",
              "            console.log([gd, 'removed!']);\n",
              "            Plotly.purge(gd);\n",
              "            observer.disconnect();\n",
              "        }}\n",
              "}});\n",
              "\n",
              "// Listen for the removal of the full notebook cells\n",
              "var notebookContainer = gd.closest('#notebook-container');\n",
              "if (notebookContainer) {{\n",
              "    x.observe(notebookContainer, {childList: true});\n",
              "}}\n",
              "\n",
              "// Listen for the clearing of the current output cell\n",
              "var outputEl = gd.closest('.output');\n",
              "if (outputEl) {{\n",
              "    x.observe(outputEl, {childList: true});\n",
              "}}\n",
              "\n",
              "                        })                };                            </script>        </div>\n",
              "</body>\n",
              "</html>"
            ]
          },
          "metadata": {}
        }
      ]
    },
    {
      "cell_type": "code",
      "source": [
        "fig = px.scatter_3d(df, x=\"X\", y=\"Y\", z=\"Z\", opacity=0.5, text=\"Name\")\n",
        "fig.show()"
      ],
      "metadata": {
        "colab": {
          "base_uri": "https://localhost:8080/",
          "height": 542
        },
        "id": "DgJxNaCRllGJ",
        "outputId": "f4e6cd62-764f-479f-d64d-7681990402c7"
      },
      "execution_count": 54,
      "outputs": [
        {
          "output_type": "display_data",
          "data": {
            "text/html": [
              "<html>\n",
              "<head><meta charset=\"utf-8\" /></head>\n",
              "<body>\n",
              "    <div>            <script src=\"https://cdnjs.cloudflare.com/ajax/libs/mathjax/2.7.5/MathJax.js?config=TeX-AMS-MML_SVG\"></script><script type=\"text/javascript\">if (window.MathJax) {MathJax.Hub.Config({SVG: {font: \"STIX-Web\"}});}</script>                <script type=\"text/javascript\">window.PlotlyConfig = {MathJaxConfig: 'local'};</script>\n",
              "        <script src=\"https://cdn.plot.ly/plotly-2.8.3.min.js\"></script>                <div id=\"daaa044e-fbbe-4ebe-bcb5-4c0cf6f18eb8\" class=\"plotly-graph-div\" style=\"height:525px; width:100%;\"></div>            <script type=\"text/javascript\">                                    window.PLOTLYENV=window.PLOTLYENV || {};                                    if (document.getElementById(\"daaa044e-fbbe-4ebe-bcb5-4c0cf6f18eb8\")) {                    Plotly.newPlot(                        \"daaa044e-fbbe-4ebe-bcb5-4c0cf6f18eb8\",                        [{\"hovertemplate\":\"X=%{x}<br>Y=%{y}<br>Z=%{z}<br>Name=%{text}<extra></extra>\",\"legendgroup\":\"\",\"marker\":{\"color\":\"#636efa\",\"opacity\":0.5,\"symbol\":\"circle\"},\"mode\":\"markers+text\",\"name\":\"\",\"scene\":\"scene\",\"showlegend\":false,\"text\":[\"000\",\"001\",\"002\",\"003\",\"004\",\"005\",\"006\",\"007\",\"008\",\"009\",\"010\",\"011\",\"012\",\"013\",\"014\",\"015\",\"016\",\"017\",\"018\",\"019\",\"020\",\"021\",\"022\",\"023\",\"024\",\"025\",\"026\",\"027\",\"028\",\"029\",\"030\",\"031\",\"032\",\"033\",\"034\",\"035\",\"036\",\"037\",\"038\",\"039\",\"040\",\"041\",\"042\",\"043\",\"044\",\"045\",\"046\",\"047\",\"048\",\"049\",\"050\",\"051\",\"052\",\"053\",\"054\",\"055\",\"056\",\"057\",\"058\",\"059\",\"060\",\"061\",\"062\",\"063\",\"064\",\"065\",\"066\",\"067\",\"068\",\"069\",\"070\",\"071\",\"072\",\"073\",\"074\",\"075\",\"076\",\"077\",\"078\",\"079\",\"080\",\"081\",\"082\",\"083\",\"084\",\"085\",\"086\",\"087\",\"088\",\"089\",\"090\",\"091\",\"092\",\"093\",\"094\",\"095\",\"096\",\"097\",\"098\",\"099\"],\"x\":[-0.1713977155240578,-0.863637706824351,0.09000896189748087,0.8906768796519033,-0.10865025992036315,-0.020231624233124634,-0.7102072573432583,0.3317384794710636,0.2102501331291502,-0.66091701161429,-0.8305568696035397,-0.20983580014053116,-0.12331205247530885,-0.23353136932522367,0.40912869670237106,-0.09149548784702977,-0.7926086172787381,-0.2665418537078239,0.44596854171146005,0.47984202721646896,0.39022617336781806,-0.09551543322777123,-0.2889946856500494,-0.8216589098185263,0.413893951432583,-0.9588674645494053,-0.8161045532542175,0.9414650936718021,-0.7809967703183076,-0.43133391503996554,0.9120253234284548,-0.3344095254909498,0.7834330394529962,-0.8539353285484828,-0.6588023332523578,-0.15682078961844748,-0.37734738958974967,0.8658263771833257,-0.469012942052458,0.32783578211138553,-0.5720245417261516,-0.9929032565593636,-0.9744202089073333,-0.39415872094136706,-0.6374784965066478,-0.9744562378967485,-0.9198505896831726,-0.6020770522606327,-0.8143288401138737,0.6275800810367191,0.8253011499056933,-0.657186914075121,0.557828042508961,0.35749118743347674,0.7956808843826733,0.9475761606950914,-0.18217193460428716,-0.45611670464349663,0.830518267926893,-0.6743506313094774,0.10925460925733965,-0.4309034105894287,-0.931122473319405,-0.4763144421609795,-0.360705532066089,-0.5868957827046912,-0.5794018700424437,0.22671721854892968,0.0500388165521104,0.07713409677177996,0.4832895509940891,-0.292362509324644,-0.9713416317889458,0.24497544490764822,0.6170522449671894,-0.0723647078754539,0.7212713364508847,0.6613112470325833,-0.9602149009093888,0.4479312340821373,-0.7222594519097383,-0.5333742048779619,-0.33338494322728196,0.6344490715038829,0.9422339214135798,0.0785859252552239,0.2774406616739027,0.12331767372920743,-0.7802282677437391,-0.9447431574466119,0.12690830749730653,-0.8008297526835599,0.6094073261794897,0.4801946581899783,-0.7159035996570313,-0.46178597531692955,-0.5085742891043132,0.983786892569591,-0.12842405651195143,0.3238789019099524],\"y\":[-0.5014275523546856,0.884772793308741,-0.49878300530852626,0.42601780498956976,-0.4838957185676134,0.45105359140636825,0.149955405284403,-0.11012319282913152,0.6281970064918929,-0.24776826998508916,0.769946378034879,0.4575371826903003,-0.5768981776438011,0.0734609816063514,0.5463840053201614,-0.3656190411881126,0.7622848756187819,-0.5857573594454666,0.9298148380936875,-0.9876403859062217,-0.09975137403873346,-0.3073198855504433,-0.7085566616246659,0.2388912280950679,0.26746664016003363,-0.9447667541608384,0.17080688693921808,0.14821951840551217,-0.1474538295206005,0.8964698361449275,0.4747598742238577,0.536200156829274,0.3014028832252542,-0.053028548072164616,0.07784630351551969,-0.6196604748162275,0.8857867844705261,-0.5263620140309486,-0.8633621273012306,0.7705300708565017,0.5527793520433619,0.99039059977329,-0.29377528674442055,0.7197812961563237,0.30195457294414885,-0.6429447781306576,-0.20882548578719007,0.28046217092498016,0.49455851743419244,0.10391240255067502,-0.6543163078295233,-0.4052455273168407,0.09693336883318993,0.24314648742359068,0.6118335853953072,0.9333097227613634,-0.8729070988717971,0.44125300255586253,-0.4535889203677361,-0.4042742630350862,0.9419057655693077,0.8830266607996917,-0.13901042472669634,-0.25071346835005204,0.07617763493887297,-0.897470599142578,0.17934820562583265,-0.5392386870737178,0.9877848677130459,-0.7009975847592647,0.3361911195324394,-0.829093272236056,-0.5908364352119075,0.7293893581068107,-0.35833610873893473,-0.9345657905510714,-0.17689554217242986,0.94681380932137,0.2694196716867947,0.972477614828718,-0.42242885566950994,0.8150138890272391,0.1189839435290867,-0.49079848246832003,0.3932251810081173,-0.4902731044653852,0.07818523595300109,-0.1412353180812418,0.049166880141457314,0.2773172599470233,-0.5514663225319374,-0.7912277405180823,0.6666225579198002,-0.7789217103048929,-0.3805532146245094,0.9955152490025505,0.7367782692713458,-0.9674014051486086,-0.166202660859891,-0.28979560141128546],\"z\":[-0.7704731484094351,-0.6461497605434816,-0.23661605724182433,-0.5750560954985939,-0.7950338721599763,-0.3190974006397238,0.05442431673334713,0.5760011902015079,0.3162576426857584,0.8528189294626205,-0.19161047985265767,-0.19063352143581636,-0.27268482516846193,-0.6839527441546107,-0.7525178772169356,0.9601222825094737,-0.019170509396168933,-0.6604274881697216,0.4310730910990088,-0.9829218854528203,-0.40390159933766934,-0.7489485568608134,-0.5092404608343699,-0.3044404922342314,0.749599933233335,-0.3423296979956729,-0.333211088297072,0.38798308980603213,-0.2614268104850366,0.48857218372489775,-0.26080455877046904,-0.3680293447593017,0.43162662036182464,0.09367669321838057,0.5126450624092969,0.4241929692436308,-0.5469301695561579,-0.6025471058528431,0.18728647266813736,0.20244134791219293,0.3927190198566226,0.46531596702987676,-0.7182714786570628,0.38155364299827,0.03261557912532376,-0.9214868468097819,-0.23200517243511598,0.38650905783926626,-0.8338542219580094,-0.6359945898460355,-0.814683290224699,-0.5116548934894634,-0.9190232009102488,0.46368671522455984,-0.5967125909734736,-0.8018118600298518,-0.15450433663815732,-0.921923923062332,0.7166007794302265,0.7223084185655697,-0.5342277798973327,-0.22273142450366779,-0.6527098856688966,0.511909084743672,0.9149879589377303,-0.4240609702059417,0.04749264014031107,0.45067060322093266,-0.9419745114525757,0.2418674499684359,0.9067617385273159,-0.15530099715746548,-0.27469988591754,0.31562539002810763,0.15374839202930968,0.6120862711972559,0.31652829465990373,0.4011001027112948,-0.8177907337971868,0.1769213123780944,0.10510048782385395,0.5611788398593447,-0.7886983527320581,-0.1999226695365388,-0.9455421033316245,0.6745041115023844,-0.5017856135156016,0.8357070293812332,0.07165736676275825,0.7223310189027832,0.022154004632767288,-0.9639191355319003,-0.4445735573950169,0.7839373274801404,-0.9659309022512235,0.8039218826210055,0.27016341027855373,-0.7821878368794803,-0.5606153172751787,0.021330412486537886],\"type\":\"scatter3d\"}],                        {\"template\":{\"data\":{\"bar\":[{\"error_x\":{\"color\":\"#2a3f5f\"},\"error_y\":{\"color\":\"#2a3f5f\"},\"marker\":{\"line\":{\"color\":\"#E5ECF6\",\"width\":0.5},\"pattern\":{\"fillmode\":\"overlay\",\"size\":10,\"solidity\":0.2}},\"type\":\"bar\"}],\"barpolar\":[{\"marker\":{\"line\":{\"color\":\"#E5ECF6\",\"width\":0.5},\"pattern\":{\"fillmode\":\"overlay\",\"size\":10,\"solidity\":0.2}},\"type\":\"barpolar\"}],\"carpet\":[{\"aaxis\":{\"endlinecolor\":\"#2a3f5f\",\"gridcolor\":\"white\",\"linecolor\":\"white\",\"minorgridcolor\":\"white\",\"startlinecolor\":\"#2a3f5f\"},\"baxis\":{\"endlinecolor\":\"#2a3f5f\",\"gridcolor\":\"white\",\"linecolor\":\"white\",\"minorgridcolor\":\"white\",\"startlinecolor\":\"#2a3f5f\"},\"type\":\"carpet\"}],\"choropleth\":[{\"colorbar\":{\"outlinewidth\":0,\"ticks\":\"\"},\"type\":\"choropleth\"}],\"contour\":[{\"colorbar\":{\"outlinewidth\":0,\"ticks\":\"\"},\"colorscale\":[[0.0,\"#0d0887\"],[0.1111111111111111,\"#46039f\"],[0.2222222222222222,\"#7201a8\"],[0.3333333333333333,\"#9c179e\"],[0.4444444444444444,\"#bd3786\"],[0.5555555555555556,\"#d8576b\"],[0.6666666666666666,\"#ed7953\"],[0.7777777777777778,\"#fb9f3a\"],[0.8888888888888888,\"#fdca26\"],[1.0,\"#f0f921\"]],\"type\":\"contour\"}],\"contourcarpet\":[{\"colorbar\":{\"outlinewidth\":0,\"ticks\":\"\"},\"type\":\"contourcarpet\"}],\"heatmap\":[{\"colorbar\":{\"outlinewidth\":0,\"ticks\":\"\"},\"colorscale\":[[0.0,\"#0d0887\"],[0.1111111111111111,\"#46039f\"],[0.2222222222222222,\"#7201a8\"],[0.3333333333333333,\"#9c179e\"],[0.4444444444444444,\"#bd3786\"],[0.5555555555555556,\"#d8576b\"],[0.6666666666666666,\"#ed7953\"],[0.7777777777777778,\"#fb9f3a\"],[0.8888888888888888,\"#fdca26\"],[1.0,\"#f0f921\"]],\"type\":\"heatmap\"}],\"heatmapgl\":[{\"colorbar\":{\"outlinewidth\":0,\"ticks\":\"\"},\"colorscale\":[[0.0,\"#0d0887\"],[0.1111111111111111,\"#46039f\"],[0.2222222222222222,\"#7201a8\"],[0.3333333333333333,\"#9c179e\"],[0.4444444444444444,\"#bd3786\"],[0.5555555555555556,\"#d8576b\"],[0.6666666666666666,\"#ed7953\"],[0.7777777777777778,\"#fb9f3a\"],[0.8888888888888888,\"#fdca26\"],[1.0,\"#f0f921\"]],\"type\":\"heatmapgl\"}],\"histogram\":[{\"marker\":{\"pattern\":{\"fillmode\":\"overlay\",\"size\":10,\"solidity\":0.2}},\"type\":\"histogram\"}],\"histogram2d\":[{\"colorbar\":{\"outlinewidth\":0,\"ticks\":\"\"},\"colorscale\":[[0.0,\"#0d0887\"],[0.1111111111111111,\"#46039f\"],[0.2222222222222222,\"#7201a8\"],[0.3333333333333333,\"#9c179e\"],[0.4444444444444444,\"#bd3786\"],[0.5555555555555556,\"#d8576b\"],[0.6666666666666666,\"#ed7953\"],[0.7777777777777778,\"#fb9f3a\"],[0.8888888888888888,\"#fdca26\"],[1.0,\"#f0f921\"]],\"type\":\"histogram2d\"}],\"histogram2dcontour\":[{\"colorbar\":{\"outlinewidth\":0,\"ticks\":\"\"},\"colorscale\":[[0.0,\"#0d0887\"],[0.1111111111111111,\"#46039f\"],[0.2222222222222222,\"#7201a8\"],[0.3333333333333333,\"#9c179e\"],[0.4444444444444444,\"#bd3786\"],[0.5555555555555556,\"#d8576b\"],[0.6666666666666666,\"#ed7953\"],[0.7777777777777778,\"#fb9f3a\"],[0.8888888888888888,\"#fdca26\"],[1.0,\"#f0f921\"]],\"type\":\"histogram2dcontour\"}],\"mesh3d\":[{\"colorbar\":{\"outlinewidth\":0,\"ticks\":\"\"},\"type\":\"mesh3d\"}],\"parcoords\":[{\"line\":{\"colorbar\":{\"outlinewidth\":0,\"ticks\":\"\"}},\"type\":\"parcoords\"}],\"pie\":[{\"automargin\":true,\"type\":\"pie\"}],\"scatter\":[{\"marker\":{\"colorbar\":{\"outlinewidth\":0,\"ticks\":\"\"}},\"type\":\"scatter\"}],\"scatter3d\":[{\"line\":{\"colorbar\":{\"outlinewidth\":0,\"ticks\":\"\"}},\"marker\":{\"colorbar\":{\"outlinewidth\":0,\"ticks\":\"\"}},\"type\":\"scatter3d\"}],\"scattercarpet\":[{\"marker\":{\"colorbar\":{\"outlinewidth\":0,\"ticks\":\"\"}},\"type\":\"scattercarpet\"}],\"scattergeo\":[{\"marker\":{\"colorbar\":{\"outlinewidth\":0,\"ticks\":\"\"}},\"type\":\"scattergeo\"}],\"scattergl\":[{\"marker\":{\"colorbar\":{\"outlinewidth\":0,\"ticks\":\"\"}},\"type\":\"scattergl\"}],\"scattermapbox\":[{\"marker\":{\"colorbar\":{\"outlinewidth\":0,\"ticks\":\"\"}},\"type\":\"scattermapbox\"}],\"scatterpolar\":[{\"marker\":{\"colorbar\":{\"outlinewidth\":0,\"ticks\":\"\"}},\"type\":\"scatterpolar\"}],\"scatterpolargl\":[{\"marker\":{\"colorbar\":{\"outlinewidth\":0,\"ticks\":\"\"}},\"type\":\"scatterpolargl\"}],\"scatterternary\":[{\"marker\":{\"colorbar\":{\"outlinewidth\":0,\"ticks\":\"\"}},\"type\":\"scatterternary\"}],\"surface\":[{\"colorbar\":{\"outlinewidth\":0,\"ticks\":\"\"},\"colorscale\":[[0.0,\"#0d0887\"],[0.1111111111111111,\"#46039f\"],[0.2222222222222222,\"#7201a8\"],[0.3333333333333333,\"#9c179e\"],[0.4444444444444444,\"#bd3786\"],[0.5555555555555556,\"#d8576b\"],[0.6666666666666666,\"#ed7953\"],[0.7777777777777778,\"#fb9f3a\"],[0.8888888888888888,\"#fdca26\"],[1.0,\"#f0f921\"]],\"type\":\"surface\"}],\"table\":[{\"cells\":{\"fill\":{\"color\":\"#EBF0F8\"},\"line\":{\"color\":\"white\"}},\"header\":{\"fill\":{\"color\":\"#C8D4E3\"},\"line\":{\"color\":\"white\"}},\"type\":\"table\"}]},\"layout\":{\"annotationdefaults\":{\"arrowcolor\":\"#2a3f5f\",\"arrowhead\":0,\"arrowwidth\":1},\"autotypenumbers\":\"strict\",\"coloraxis\":{\"colorbar\":{\"outlinewidth\":0,\"ticks\":\"\"}},\"colorscale\":{\"diverging\":[[0,\"#8e0152\"],[0.1,\"#c51b7d\"],[0.2,\"#de77ae\"],[0.3,\"#f1b6da\"],[0.4,\"#fde0ef\"],[0.5,\"#f7f7f7\"],[0.6,\"#e6f5d0\"],[0.7,\"#b8e186\"],[0.8,\"#7fbc41\"],[0.9,\"#4d9221\"],[1,\"#276419\"]],\"sequential\":[[0.0,\"#0d0887\"],[0.1111111111111111,\"#46039f\"],[0.2222222222222222,\"#7201a8\"],[0.3333333333333333,\"#9c179e\"],[0.4444444444444444,\"#bd3786\"],[0.5555555555555556,\"#d8576b\"],[0.6666666666666666,\"#ed7953\"],[0.7777777777777778,\"#fb9f3a\"],[0.8888888888888888,\"#fdca26\"],[1.0,\"#f0f921\"]],\"sequentialminus\":[[0.0,\"#0d0887\"],[0.1111111111111111,\"#46039f\"],[0.2222222222222222,\"#7201a8\"],[0.3333333333333333,\"#9c179e\"],[0.4444444444444444,\"#bd3786\"],[0.5555555555555556,\"#d8576b\"],[0.6666666666666666,\"#ed7953\"],[0.7777777777777778,\"#fb9f3a\"],[0.8888888888888888,\"#fdca26\"],[1.0,\"#f0f921\"]]},\"colorway\":[\"#636efa\",\"#EF553B\",\"#00cc96\",\"#ab63fa\",\"#FFA15A\",\"#19d3f3\",\"#FF6692\",\"#B6E880\",\"#FF97FF\",\"#FECB52\"],\"font\":{\"color\":\"#2a3f5f\"},\"geo\":{\"bgcolor\":\"white\",\"lakecolor\":\"white\",\"landcolor\":\"#E5ECF6\",\"showlakes\":true,\"showland\":true,\"subunitcolor\":\"white\"},\"hoverlabel\":{\"align\":\"left\"},\"hovermode\":\"closest\",\"mapbox\":{\"style\":\"light\"},\"paper_bgcolor\":\"white\",\"plot_bgcolor\":\"#E5ECF6\",\"polar\":{\"angularaxis\":{\"gridcolor\":\"white\",\"linecolor\":\"white\",\"ticks\":\"\"},\"bgcolor\":\"#E5ECF6\",\"radialaxis\":{\"gridcolor\":\"white\",\"linecolor\":\"white\",\"ticks\":\"\"}},\"scene\":{\"xaxis\":{\"backgroundcolor\":\"#E5ECF6\",\"gridcolor\":\"white\",\"gridwidth\":2,\"linecolor\":\"white\",\"showbackground\":true,\"ticks\":\"\",\"zerolinecolor\":\"white\"},\"yaxis\":{\"backgroundcolor\":\"#E5ECF6\",\"gridcolor\":\"white\",\"gridwidth\":2,\"linecolor\":\"white\",\"showbackground\":true,\"ticks\":\"\",\"zerolinecolor\":\"white\"},\"zaxis\":{\"backgroundcolor\":\"#E5ECF6\",\"gridcolor\":\"white\",\"gridwidth\":2,\"linecolor\":\"white\",\"showbackground\":true,\"ticks\":\"\",\"zerolinecolor\":\"white\"}},\"shapedefaults\":{\"line\":{\"color\":\"#2a3f5f\"}},\"ternary\":{\"aaxis\":{\"gridcolor\":\"white\",\"linecolor\":\"white\",\"ticks\":\"\"},\"baxis\":{\"gridcolor\":\"white\",\"linecolor\":\"white\",\"ticks\":\"\"},\"bgcolor\":\"#E5ECF6\",\"caxis\":{\"gridcolor\":\"white\",\"linecolor\":\"white\",\"ticks\":\"\"}},\"title\":{\"x\":0.05},\"xaxis\":{\"automargin\":true,\"gridcolor\":\"white\",\"linecolor\":\"white\",\"ticks\":\"\",\"title\":{\"standoff\":15},\"zerolinecolor\":\"white\",\"zerolinewidth\":2},\"yaxis\":{\"automargin\":true,\"gridcolor\":\"white\",\"linecolor\":\"white\",\"ticks\":\"\",\"title\":{\"standoff\":15},\"zerolinecolor\":\"white\",\"zerolinewidth\":2}}},\"scene\":{\"domain\":{\"x\":[0.0,1.0],\"y\":[0.0,1.0]},\"xaxis\":{\"title\":{\"text\":\"X\"}},\"yaxis\":{\"title\":{\"text\":\"Y\"}},\"zaxis\":{\"title\":{\"text\":\"Z\"}}},\"legend\":{\"tracegroupgap\":0},\"margin\":{\"t\":60}},                        {\"responsive\": true}                    ).then(function(){\n",
              "                            \n",
              "var gd = document.getElementById('daaa044e-fbbe-4ebe-bcb5-4c0cf6f18eb8');\n",
              "var x = new MutationObserver(function (mutations, observer) {{\n",
              "        var display = window.getComputedStyle(gd).display;\n",
              "        if (!display || display === 'none') {{\n",
              "            console.log([gd, 'removed!']);\n",
              "            Plotly.purge(gd);\n",
              "            observer.disconnect();\n",
              "        }}\n",
              "}});\n",
              "\n",
              "// Listen for the removal of the full notebook cells\n",
              "var notebookContainer = gd.closest('#notebook-container');\n",
              "if (notebookContainer) {{\n",
              "    x.observe(notebookContainer, {childList: true});\n",
              "}}\n",
              "\n",
              "// Listen for the clearing of the current output cell\n",
              "var outputEl = gd.closest('.output');\n",
              "if (outputEl) {{\n",
              "    x.observe(outputEl, {childList: true});\n",
              "}}\n",
              "\n",
              "                        })                };                            </script>        </div>\n",
              "</body>\n",
              "</html>"
            ]
          },
          "metadata": {}
        }
      ]
    },
    {
      "cell_type": "code",
      "source": [
        "df2 = df.copy()\n",
        "df2.iloc[10:, 0] = \"\"\n",
        "fig = px.scatter_3d(df2, x=\"X\", y=\"Y\", z=\"Z\", opacity=0.5, text=\"Name\")\n",
        "fig.show()"
      ],
      "metadata": {
        "colab": {
          "base_uri": "https://localhost:8080/",
          "height": 542
        },
        "id": "47OO4DLMl7lj",
        "outputId": "273b722e-3375-477e-9253-aeeae859e520"
      },
      "execution_count": 65,
      "outputs": [
        {
          "output_type": "display_data",
          "data": {
            "text/html": [
              "<html>\n",
              "<head><meta charset=\"utf-8\" /></head>\n",
              "<body>\n",
              "    <div>            <script src=\"https://cdnjs.cloudflare.com/ajax/libs/mathjax/2.7.5/MathJax.js?config=TeX-AMS-MML_SVG\"></script><script type=\"text/javascript\">if (window.MathJax) {MathJax.Hub.Config({SVG: {font: \"STIX-Web\"}});}</script>                <script type=\"text/javascript\">window.PlotlyConfig = {MathJaxConfig: 'local'};</script>\n",
              "        <script src=\"https://cdn.plot.ly/plotly-2.8.3.min.js\"></script>                <div id=\"3e0f44a4-dffb-4117-b989-a1dfc637372a\" class=\"plotly-graph-div\" style=\"height:525px; width:100%;\"></div>            <script type=\"text/javascript\">                                    window.PLOTLYENV=window.PLOTLYENV || {};                                    if (document.getElementById(\"3e0f44a4-dffb-4117-b989-a1dfc637372a\")) {                    Plotly.newPlot(                        \"3e0f44a4-dffb-4117-b989-a1dfc637372a\",                        [{\"hovertemplate\":\"X=%{x}<br>Y=%{y}<br>Z=%{z}<br>Name=%{text}<extra></extra>\",\"legendgroup\":\"\",\"marker\":{\"color\":\"#636efa\",\"opacity\":0.5,\"symbol\":\"circle\"},\"mode\":\"markers+text\",\"name\":\"\",\"scene\":\"scene\",\"showlegend\":false,\"text\":[\"000\",\"001\",\"002\",\"003\",\"004\",\"005\",\"006\",\"007\",\"008\",\"009\",\"\",\"\",\"\",\"\",\"\",\"\",\"\",\"\",\"\",\"\",\"\",\"\",\"\",\"\",\"\",\"\",\"\",\"\",\"\",\"\",\"\",\"\",\"\",\"\",\"\",\"\",\"\",\"\",\"\",\"\",\"\",\"\",\"\",\"\",\"\",\"\",\"\",\"\",\"\",\"\",\"\",\"\",\"\",\"\",\"\",\"\",\"\",\"\",\"\",\"\",\"\",\"\",\"\",\"\",\"\",\"\",\"\",\"\",\"\",\"\",\"\",\"\",\"\",\"\",\"\",\"\",\"\",\"\",\"\",\"\",\"\",\"\",\"\",\"\",\"\",\"\",\"\",\"\",\"\",\"\",\"\",\"\",\"\",\"\",\"\",\"\",\"\",\"\",\"\",\"\"],\"x\":[-0.1713977155240578,-0.863637706824351,0.09000896189748087,0.8906768796519033,-0.10865025992036315,-0.020231624233124634,-0.7102072573432583,0.3317384794710636,0.2102501331291502,-0.66091701161429,-0.8305568696035397,-0.20983580014053116,-0.12331205247530885,-0.23353136932522367,0.40912869670237106,-0.09149548784702977,-0.7926086172787381,-0.2665418537078239,0.44596854171146005,0.47984202721646896,0.39022617336781806,-0.09551543322777123,-0.2889946856500494,-0.8216589098185263,0.413893951432583,-0.9588674645494053,-0.8161045532542175,0.9414650936718021,-0.7809967703183076,-0.43133391503996554,0.9120253234284548,-0.3344095254909498,0.7834330394529962,-0.8539353285484828,-0.6588023332523578,-0.15682078961844748,-0.37734738958974967,0.8658263771833257,-0.469012942052458,0.32783578211138553,-0.5720245417261516,-0.9929032565593636,-0.9744202089073333,-0.39415872094136706,-0.6374784965066478,-0.9744562378967485,-0.9198505896831726,-0.6020770522606327,-0.8143288401138737,0.6275800810367191,0.8253011499056933,-0.657186914075121,0.557828042508961,0.35749118743347674,0.7956808843826733,0.9475761606950914,-0.18217193460428716,-0.45611670464349663,0.830518267926893,-0.6743506313094774,0.10925460925733965,-0.4309034105894287,-0.931122473319405,-0.4763144421609795,-0.360705532066089,-0.5868957827046912,-0.5794018700424437,0.22671721854892968,0.0500388165521104,0.07713409677177996,0.4832895509940891,-0.292362509324644,-0.9713416317889458,0.24497544490764822,0.6170522449671894,-0.0723647078754539,0.7212713364508847,0.6613112470325833,-0.9602149009093888,0.4479312340821373,-0.7222594519097383,-0.5333742048779619,-0.33338494322728196,0.6344490715038829,0.9422339214135798,0.0785859252552239,0.2774406616739027,0.12331767372920743,-0.7802282677437391,-0.9447431574466119,0.12690830749730653,-0.8008297526835599,0.6094073261794897,0.4801946581899783,-0.7159035996570313,-0.46178597531692955,-0.5085742891043132,0.983786892569591,-0.12842405651195143,0.3238789019099524],\"y\":[-0.5014275523546856,0.884772793308741,-0.49878300530852626,0.42601780498956976,-0.4838957185676134,0.45105359140636825,0.149955405284403,-0.11012319282913152,0.6281970064918929,-0.24776826998508916,0.769946378034879,0.4575371826903003,-0.5768981776438011,0.0734609816063514,0.5463840053201614,-0.3656190411881126,0.7622848756187819,-0.5857573594454666,0.9298148380936875,-0.9876403859062217,-0.09975137403873346,-0.3073198855504433,-0.7085566616246659,0.2388912280950679,0.26746664016003363,-0.9447667541608384,0.17080688693921808,0.14821951840551217,-0.1474538295206005,0.8964698361449275,0.4747598742238577,0.536200156829274,0.3014028832252542,-0.053028548072164616,0.07784630351551969,-0.6196604748162275,0.8857867844705261,-0.5263620140309486,-0.8633621273012306,0.7705300708565017,0.5527793520433619,0.99039059977329,-0.29377528674442055,0.7197812961563237,0.30195457294414885,-0.6429447781306576,-0.20882548578719007,0.28046217092498016,0.49455851743419244,0.10391240255067502,-0.6543163078295233,-0.4052455273168407,0.09693336883318993,0.24314648742359068,0.6118335853953072,0.9333097227613634,-0.8729070988717971,0.44125300255586253,-0.4535889203677361,-0.4042742630350862,0.9419057655693077,0.8830266607996917,-0.13901042472669634,-0.25071346835005204,0.07617763493887297,-0.897470599142578,0.17934820562583265,-0.5392386870737178,0.9877848677130459,-0.7009975847592647,0.3361911195324394,-0.829093272236056,-0.5908364352119075,0.7293893581068107,-0.35833610873893473,-0.9345657905510714,-0.17689554217242986,0.94681380932137,0.2694196716867947,0.972477614828718,-0.42242885566950994,0.8150138890272391,0.1189839435290867,-0.49079848246832003,0.3932251810081173,-0.4902731044653852,0.07818523595300109,-0.1412353180812418,0.049166880141457314,0.2773172599470233,-0.5514663225319374,-0.7912277405180823,0.6666225579198002,-0.7789217103048929,-0.3805532146245094,0.9955152490025505,0.7367782692713458,-0.9674014051486086,-0.166202660859891,-0.28979560141128546],\"z\":[-0.7704731484094351,-0.6461497605434816,-0.23661605724182433,-0.5750560954985939,-0.7950338721599763,-0.3190974006397238,0.05442431673334713,0.5760011902015079,0.3162576426857584,0.8528189294626205,-0.19161047985265767,-0.19063352143581636,-0.27268482516846193,-0.6839527441546107,-0.7525178772169356,0.9601222825094737,-0.019170509396168933,-0.6604274881697216,0.4310730910990088,-0.9829218854528203,-0.40390159933766934,-0.7489485568608134,-0.5092404608343699,-0.3044404922342314,0.749599933233335,-0.3423296979956729,-0.333211088297072,0.38798308980603213,-0.2614268104850366,0.48857218372489775,-0.26080455877046904,-0.3680293447593017,0.43162662036182464,0.09367669321838057,0.5126450624092969,0.4241929692436308,-0.5469301695561579,-0.6025471058528431,0.18728647266813736,0.20244134791219293,0.3927190198566226,0.46531596702987676,-0.7182714786570628,0.38155364299827,0.03261557912532376,-0.9214868468097819,-0.23200517243511598,0.38650905783926626,-0.8338542219580094,-0.6359945898460355,-0.814683290224699,-0.5116548934894634,-0.9190232009102488,0.46368671522455984,-0.5967125909734736,-0.8018118600298518,-0.15450433663815732,-0.921923923062332,0.7166007794302265,0.7223084185655697,-0.5342277798973327,-0.22273142450366779,-0.6527098856688966,0.511909084743672,0.9149879589377303,-0.4240609702059417,0.04749264014031107,0.45067060322093266,-0.9419745114525757,0.2418674499684359,0.9067617385273159,-0.15530099715746548,-0.27469988591754,0.31562539002810763,0.15374839202930968,0.6120862711972559,0.31652829465990373,0.4011001027112948,-0.8177907337971868,0.1769213123780944,0.10510048782385395,0.5611788398593447,-0.7886983527320581,-0.1999226695365388,-0.9455421033316245,0.6745041115023844,-0.5017856135156016,0.8357070293812332,0.07165736676275825,0.7223310189027832,0.022154004632767288,-0.9639191355319003,-0.4445735573950169,0.7839373274801404,-0.9659309022512235,0.8039218826210055,0.27016341027855373,-0.7821878368794803,-0.5606153172751787,0.021330412486537886],\"type\":\"scatter3d\"}],                        {\"template\":{\"data\":{\"bar\":[{\"error_x\":{\"color\":\"#2a3f5f\"},\"error_y\":{\"color\":\"#2a3f5f\"},\"marker\":{\"line\":{\"color\":\"#E5ECF6\",\"width\":0.5},\"pattern\":{\"fillmode\":\"overlay\",\"size\":10,\"solidity\":0.2}},\"type\":\"bar\"}],\"barpolar\":[{\"marker\":{\"line\":{\"color\":\"#E5ECF6\",\"width\":0.5},\"pattern\":{\"fillmode\":\"overlay\",\"size\":10,\"solidity\":0.2}},\"type\":\"barpolar\"}],\"carpet\":[{\"aaxis\":{\"endlinecolor\":\"#2a3f5f\",\"gridcolor\":\"white\",\"linecolor\":\"white\",\"minorgridcolor\":\"white\",\"startlinecolor\":\"#2a3f5f\"},\"baxis\":{\"endlinecolor\":\"#2a3f5f\",\"gridcolor\":\"white\",\"linecolor\":\"white\",\"minorgridcolor\":\"white\",\"startlinecolor\":\"#2a3f5f\"},\"type\":\"carpet\"}],\"choropleth\":[{\"colorbar\":{\"outlinewidth\":0,\"ticks\":\"\"},\"type\":\"choropleth\"}],\"contour\":[{\"colorbar\":{\"outlinewidth\":0,\"ticks\":\"\"},\"colorscale\":[[0.0,\"#0d0887\"],[0.1111111111111111,\"#46039f\"],[0.2222222222222222,\"#7201a8\"],[0.3333333333333333,\"#9c179e\"],[0.4444444444444444,\"#bd3786\"],[0.5555555555555556,\"#d8576b\"],[0.6666666666666666,\"#ed7953\"],[0.7777777777777778,\"#fb9f3a\"],[0.8888888888888888,\"#fdca26\"],[1.0,\"#f0f921\"]],\"type\":\"contour\"}],\"contourcarpet\":[{\"colorbar\":{\"outlinewidth\":0,\"ticks\":\"\"},\"type\":\"contourcarpet\"}],\"heatmap\":[{\"colorbar\":{\"outlinewidth\":0,\"ticks\":\"\"},\"colorscale\":[[0.0,\"#0d0887\"],[0.1111111111111111,\"#46039f\"],[0.2222222222222222,\"#7201a8\"],[0.3333333333333333,\"#9c179e\"],[0.4444444444444444,\"#bd3786\"],[0.5555555555555556,\"#d8576b\"],[0.6666666666666666,\"#ed7953\"],[0.7777777777777778,\"#fb9f3a\"],[0.8888888888888888,\"#fdca26\"],[1.0,\"#f0f921\"]],\"type\":\"heatmap\"}],\"heatmapgl\":[{\"colorbar\":{\"outlinewidth\":0,\"ticks\":\"\"},\"colorscale\":[[0.0,\"#0d0887\"],[0.1111111111111111,\"#46039f\"],[0.2222222222222222,\"#7201a8\"],[0.3333333333333333,\"#9c179e\"],[0.4444444444444444,\"#bd3786\"],[0.5555555555555556,\"#d8576b\"],[0.6666666666666666,\"#ed7953\"],[0.7777777777777778,\"#fb9f3a\"],[0.8888888888888888,\"#fdca26\"],[1.0,\"#f0f921\"]],\"type\":\"heatmapgl\"}],\"histogram\":[{\"marker\":{\"pattern\":{\"fillmode\":\"overlay\",\"size\":10,\"solidity\":0.2}},\"type\":\"histogram\"}],\"histogram2d\":[{\"colorbar\":{\"outlinewidth\":0,\"ticks\":\"\"},\"colorscale\":[[0.0,\"#0d0887\"],[0.1111111111111111,\"#46039f\"],[0.2222222222222222,\"#7201a8\"],[0.3333333333333333,\"#9c179e\"],[0.4444444444444444,\"#bd3786\"],[0.5555555555555556,\"#d8576b\"],[0.6666666666666666,\"#ed7953\"],[0.7777777777777778,\"#fb9f3a\"],[0.8888888888888888,\"#fdca26\"],[1.0,\"#f0f921\"]],\"type\":\"histogram2d\"}],\"histogram2dcontour\":[{\"colorbar\":{\"outlinewidth\":0,\"ticks\":\"\"},\"colorscale\":[[0.0,\"#0d0887\"],[0.1111111111111111,\"#46039f\"],[0.2222222222222222,\"#7201a8\"],[0.3333333333333333,\"#9c179e\"],[0.4444444444444444,\"#bd3786\"],[0.5555555555555556,\"#d8576b\"],[0.6666666666666666,\"#ed7953\"],[0.7777777777777778,\"#fb9f3a\"],[0.8888888888888888,\"#fdca26\"],[1.0,\"#f0f921\"]],\"type\":\"histogram2dcontour\"}],\"mesh3d\":[{\"colorbar\":{\"outlinewidth\":0,\"ticks\":\"\"},\"type\":\"mesh3d\"}],\"parcoords\":[{\"line\":{\"colorbar\":{\"outlinewidth\":0,\"ticks\":\"\"}},\"type\":\"parcoords\"}],\"pie\":[{\"automargin\":true,\"type\":\"pie\"}],\"scatter\":[{\"marker\":{\"colorbar\":{\"outlinewidth\":0,\"ticks\":\"\"}},\"type\":\"scatter\"}],\"scatter3d\":[{\"line\":{\"colorbar\":{\"outlinewidth\":0,\"ticks\":\"\"}},\"marker\":{\"colorbar\":{\"outlinewidth\":0,\"ticks\":\"\"}},\"type\":\"scatter3d\"}],\"scattercarpet\":[{\"marker\":{\"colorbar\":{\"outlinewidth\":0,\"ticks\":\"\"}},\"type\":\"scattercarpet\"}],\"scattergeo\":[{\"marker\":{\"colorbar\":{\"outlinewidth\":0,\"ticks\":\"\"}},\"type\":\"scattergeo\"}],\"scattergl\":[{\"marker\":{\"colorbar\":{\"outlinewidth\":0,\"ticks\":\"\"}},\"type\":\"scattergl\"}],\"scattermapbox\":[{\"marker\":{\"colorbar\":{\"outlinewidth\":0,\"ticks\":\"\"}},\"type\":\"scattermapbox\"}],\"scatterpolar\":[{\"marker\":{\"colorbar\":{\"outlinewidth\":0,\"ticks\":\"\"}},\"type\":\"scatterpolar\"}],\"scatterpolargl\":[{\"marker\":{\"colorbar\":{\"outlinewidth\":0,\"ticks\":\"\"}},\"type\":\"scatterpolargl\"}],\"scatterternary\":[{\"marker\":{\"colorbar\":{\"outlinewidth\":0,\"ticks\":\"\"}},\"type\":\"scatterternary\"}],\"surface\":[{\"colorbar\":{\"outlinewidth\":0,\"ticks\":\"\"},\"colorscale\":[[0.0,\"#0d0887\"],[0.1111111111111111,\"#46039f\"],[0.2222222222222222,\"#7201a8\"],[0.3333333333333333,\"#9c179e\"],[0.4444444444444444,\"#bd3786\"],[0.5555555555555556,\"#d8576b\"],[0.6666666666666666,\"#ed7953\"],[0.7777777777777778,\"#fb9f3a\"],[0.8888888888888888,\"#fdca26\"],[1.0,\"#f0f921\"]],\"type\":\"surface\"}],\"table\":[{\"cells\":{\"fill\":{\"color\":\"#EBF0F8\"},\"line\":{\"color\":\"white\"}},\"header\":{\"fill\":{\"color\":\"#C8D4E3\"},\"line\":{\"color\":\"white\"}},\"type\":\"table\"}]},\"layout\":{\"annotationdefaults\":{\"arrowcolor\":\"#2a3f5f\",\"arrowhead\":0,\"arrowwidth\":1},\"autotypenumbers\":\"strict\",\"coloraxis\":{\"colorbar\":{\"outlinewidth\":0,\"ticks\":\"\"}},\"colorscale\":{\"diverging\":[[0,\"#8e0152\"],[0.1,\"#c51b7d\"],[0.2,\"#de77ae\"],[0.3,\"#f1b6da\"],[0.4,\"#fde0ef\"],[0.5,\"#f7f7f7\"],[0.6,\"#e6f5d0\"],[0.7,\"#b8e186\"],[0.8,\"#7fbc41\"],[0.9,\"#4d9221\"],[1,\"#276419\"]],\"sequential\":[[0.0,\"#0d0887\"],[0.1111111111111111,\"#46039f\"],[0.2222222222222222,\"#7201a8\"],[0.3333333333333333,\"#9c179e\"],[0.4444444444444444,\"#bd3786\"],[0.5555555555555556,\"#d8576b\"],[0.6666666666666666,\"#ed7953\"],[0.7777777777777778,\"#fb9f3a\"],[0.8888888888888888,\"#fdca26\"],[1.0,\"#f0f921\"]],\"sequentialminus\":[[0.0,\"#0d0887\"],[0.1111111111111111,\"#46039f\"],[0.2222222222222222,\"#7201a8\"],[0.3333333333333333,\"#9c179e\"],[0.4444444444444444,\"#bd3786\"],[0.5555555555555556,\"#d8576b\"],[0.6666666666666666,\"#ed7953\"],[0.7777777777777778,\"#fb9f3a\"],[0.8888888888888888,\"#fdca26\"],[1.0,\"#f0f921\"]]},\"colorway\":[\"#636efa\",\"#EF553B\",\"#00cc96\",\"#ab63fa\",\"#FFA15A\",\"#19d3f3\",\"#FF6692\",\"#B6E880\",\"#FF97FF\",\"#FECB52\"],\"font\":{\"color\":\"#2a3f5f\"},\"geo\":{\"bgcolor\":\"white\",\"lakecolor\":\"white\",\"landcolor\":\"#E5ECF6\",\"showlakes\":true,\"showland\":true,\"subunitcolor\":\"white\"},\"hoverlabel\":{\"align\":\"left\"},\"hovermode\":\"closest\",\"mapbox\":{\"style\":\"light\"},\"paper_bgcolor\":\"white\",\"plot_bgcolor\":\"#E5ECF6\",\"polar\":{\"angularaxis\":{\"gridcolor\":\"white\",\"linecolor\":\"white\",\"ticks\":\"\"},\"bgcolor\":\"#E5ECF6\",\"radialaxis\":{\"gridcolor\":\"white\",\"linecolor\":\"white\",\"ticks\":\"\"}},\"scene\":{\"xaxis\":{\"backgroundcolor\":\"#E5ECF6\",\"gridcolor\":\"white\",\"gridwidth\":2,\"linecolor\":\"white\",\"showbackground\":true,\"ticks\":\"\",\"zerolinecolor\":\"white\"},\"yaxis\":{\"backgroundcolor\":\"#E5ECF6\",\"gridcolor\":\"white\",\"gridwidth\":2,\"linecolor\":\"white\",\"showbackground\":true,\"ticks\":\"\",\"zerolinecolor\":\"white\"},\"zaxis\":{\"backgroundcolor\":\"#E5ECF6\",\"gridcolor\":\"white\",\"gridwidth\":2,\"linecolor\":\"white\",\"showbackground\":true,\"ticks\":\"\",\"zerolinecolor\":\"white\"}},\"shapedefaults\":{\"line\":{\"color\":\"#2a3f5f\"}},\"ternary\":{\"aaxis\":{\"gridcolor\":\"white\",\"linecolor\":\"white\",\"ticks\":\"\"},\"baxis\":{\"gridcolor\":\"white\",\"linecolor\":\"white\",\"ticks\":\"\"},\"bgcolor\":\"#E5ECF6\",\"caxis\":{\"gridcolor\":\"white\",\"linecolor\":\"white\",\"ticks\":\"\"}},\"title\":{\"x\":0.05},\"xaxis\":{\"automargin\":true,\"gridcolor\":\"white\",\"linecolor\":\"white\",\"ticks\":\"\",\"title\":{\"standoff\":15},\"zerolinecolor\":\"white\",\"zerolinewidth\":2},\"yaxis\":{\"automargin\":true,\"gridcolor\":\"white\",\"linecolor\":\"white\",\"ticks\":\"\",\"title\":{\"standoff\":15},\"zerolinecolor\":\"white\",\"zerolinewidth\":2}}},\"scene\":{\"domain\":{\"x\":[0.0,1.0],\"y\":[0.0,1.0]},\"xaxis\":{\"title\":{\"text\":\"X\"}},\"yaxis\":{\"title\":{\"text\":\"Y\"}},\"zaxis\":{\"title\":{\"text\":\"Z\"}}},\"legend\":{\"tracegroupgap\":0},\"margin\":{\"t\":60}},                        {\"responsive\": true}                    ).then(function(){\n",
              "                            \n",
              "var gd = document.getElementById('3e0f44a4-dffb-4117-b989-a1dfc637372a');\n",
              "var x = new MutationObserver(function (mutations, observer) {{\n",
              "        var display = window.getComputedStyle(gd).display;\n",
              "        if (!display || display === 'none') {{\n",
              "            console.log([gd, 'removed!']);\n",
              "            Plotly.purge(gd);\n",
              "            observer.disconnect();\n",
              "        }}\n",
              "}});\n",
              "\n",
              "// Listen for the removal of the full notebook cells\n",
              "var notebookContainer = gd.closest('#notebook-container');\n",
              "if (notebookContainer) {{\n",
              "    x.observe(notebookContainer, {childList: true});\n",
              "}}\n",
              "\n",
              "// Listen for the clearing of the current output cell\n",
              "var outputEl = gd.closest('.output');\n",
              "if (outputEl) {{\n",
              "    x.observe(outputEl, {childList: true});\n",
              "}}\n",
              "\n",
              "                        })                };                            </script>        </div>\n",
              "</body>\n",
              "</html>"
            ]
          },
          "metadata": {}
        }
      ]
    },
    {
      "cell_type": "code",
      "source": [
        "\n",
        "df2"
      ],
      "metadata": {
        "colab": {
          "base_uri": "https://localhost:8080/",
          "height": 423
        },
        "id": "c4ZlM9MrpPHr",
        "outputId": "01fd06da-bfc3-4b47-950d-a70f0fd0b67a"
      },
      "execution_count": 64,
      "outputs": [
        {
          "output_type": "execute_result",
          "data": {
            "text/plain": [
              "   Name         X         Y         Z\n",
              "0   000 -0.171398 -0.501428 -0.770473\n",
              "1   001 -0.863638  0.884773 -0.646150\n",
              "2   002  0.090009 -0.498783 -0.236616\n",
              "3   003  0.890677  0.426018 -0.575056\n",
              "4   004 -0.108650 -0.483896 -0.795034\n",
              "..  ...       ...       ...       ...\n",
              "95      -0.461786  0.995515  0.803922\n",
              "96      -0.508574  0.736778  0.270163\n",
              "97       0.983787 -0.967401 -0.782188\n",
              "98      -0.128424 -0.166203 -0.560615\n",
              "99       0.323879 -0.289796  0.021330\n",
              "\n",
              "[100 rows x 4 columns]"
            ],
            "text/html": [
              "\n",
              "  <div id=\"df-b0234a20-e9e7-42e0-8cef-26d27ddd3e93\">\n",
              "    <div class=\"colab-df-container\">\n",
              "      <div>\n",
              "<style scoped>\n",
              "    .dataframe tbody tr th:only-of-type {\n",
              "        vertical-align: middle;\n",
              "    }\n",
              "\n",
              "    .dataframe tbody tr th {\n",
              "        vertical-align: top;\n",
              "    }\n",
              "\n",
              "    .dataframe thead th {\n",
              "        text-align: right;\n",
              "    }\n",
              "</style>\n",
              "<table border=\"1\" class=\"dataframe\">\n",
              "  <thead>\n",
              "    <tr style=\"text-align: right;\">\n",
              "      <th></th>\n",
              "      <th>Name</th>\n",
              "      <th>X</th>\n",
              "      <th>Y</th>\n",
              "      <th>Z</th>\n",
              "    </tr>\n",
              "  </thead>\n",
              "  <tbody>\n",
              "    <tr>\n",
              "      <th>0</th>\n",
              "      <td>000</td>\n",
              "      <td>-0.171398</td>\n",
              "      <td>-0.501428</td>\n",
              "      <td>-0.770473</td>\n",
              "    </tr>\n",
              "    <tr>\n",
              "      <th>1</th>\n",
              "      <td>001</td>\n",
              "      <td>-0.863638</td>\n",
              "      <td>0.884773</td>\n",
              "      <td>-0.646150</td>\n",
              "    </tr>\n",
              "    <tr>\n",
              "      <th>2</th>\n",
              "      <td>002</td>\n",
              "      <td>0.090009</td>\n",
              "      <td>-0.498783</td>\n",
              "      <td>-0.236616</td>\n",
              "    </tr>\n",
              "    <tr>\n",
              "      <th>3</th>\n",
              "      <td>003</td>\n",
              "      <td>0.890677</td>\n",
              "      <td>0.426018</td>\n",
              "      <td>-0.575056</td>\n",
              "    </tr>\n",
              "    <tr>\n",
              "      <th>4</th>\n",
              "      <td>004</td>\n",
              "      <td>-0.108650</td>\n",
              "      <td>-0.483896</td>\n",
              "      <td>-0.795034</td>\n",
              "    </tr>\n",
              "    <tr>\n",
              "      <th>...</th>\n",
              "      <td>...</td>\n",
              "      <td>...</td>\n",
              "      <td>...</td>\n",
              "      <td>...</td>\n",
              "    </tr>\n",
              "    <tr>\n",
              "      <th>95</th>\n",
              "      <td></td>\n",
              "      <td>-0.461786</td>\n",
              "      <td>0.995515</td>\n",
              "      <td>0.803922</td>\n",
              "    </tr>\n",
              "    <tr>\n",
              "      <th>96</th>\n",
              "      <td></td>\n",
              "      <td>-0.508574</td>\n",
              "      <td>0.736778</td>\n",
              "      <td>0.270163</td>\n",
              "    </tr>\n",
              "    <tr>\n",
              "      <th>97</th>\n",
              "      <td></td>\n",
              "      <td>0.983787</td>\n",
              "      <td>-0.967401</td>\n",
              "      <td>-0.782188</td>\n",
              "    </tr>\n",
              "    <tr>\n",
              "      <th>98</th>\n",
              "      <td></td>\n",
              "      <td>-0.128424</td>\n",
              "      <td>-0.166203</td>\n",
              "      <td>-0.560615</td>\n",
              "    </tr>\n",
              "    <tr>\n",
              "      <th>99</th>\n",
              "      <td></td>\n",
              "      <td>0.323879</td>\n",
              "      <td>-0.289796</td>\n",
              "      <td>0.021330</td>\n",
              "    </tr>\n",
              "  </tbody>\n",
              "</table>\n",
              "<p>100 rows × 4 columns</p>\n",
              "</div>\n",
              "      <button class=\"colab-df-convert\" onclick=\"convertToInteractive('df-b0234a20-e9e7-42e0-8cef-26d27ddd3e93')\"\n",
              "              title=\"Convert this dataframe to an interactive table.\"\n",
              "              style=\"display:none;\">\n",
              "        \n",
              "  <svg xmlns=\"http://www.w3.org/2000/svg\" height=\"24px\"viewBox=\"0 0 24 24\"\n",
              "       width=\"24px\">\n",
              "    <path d=\"M0 0h24v24H0V0z\" fill=\"none\"/>\n",
              "    <path d=\"M18.56 5.44l.94 2.06.94-2.06 2.06-.94-2.06-.94-.94-2.06-.94 2.06-2.06.94zm-11 1L8.5 8.5l.94-2.06 2.06-.94-2.06-.94L8.5 2.5l-.94 2.06-2.06.94zm10 10l.94 2.06.94-2.06 2.06-.94-2.06-.94-.94-2.06-.94 2.06-2.06.94z\"/><path d=\"M17.41 7.96l-1.37-1.37c-.4-.4-.92-.59-1.43-.59-.52 0-1.04.2-1.43.59L10.3 9.45l-7.72 7.72c-.78.78-.78 2.05 0 2.83L4 21.41c.39.39.9.59 1.41.59.51 0 1.02-.2 1.41-.59l7.78-7.78 2.81-2.81c.8-.78.8-2.07 0-2.86zM5.41 20L4 18.59l7.72-7.72 1.47 1.35L5.41 20z\"/>\n",
              "  </svg>\n",
              "      </button>\n",
              "      \n",
              "  <style>\n",
              "    .colab-df-container {\n",
              "      display:flex;\n",
              "      flex-wrap:wrap;\n",
              "      gap: 12px;\n",
              "    }\n",
              "\n",
              "    .colab-df-convert {\n",
              "      background-color: #E8F0FE;\n",
              "      border: none;\n",
              "      border-radius: 50%;\n",
              "      cursor: pointer;\n",
              "      display: none;\n",
              "      fill: #1967D2;\n",
              "      height: 32px;\n",
              "      padding: 0 0 0 0;\n",
              "      width: 32px;\n",
              "    }\n",
              "\n",
              "    .colab-df-convert:hover {\n",
              "      background-color: #E2EBFA;\n",
              "      box-shadow: 0px 1px 2px rgba(60, 64, 67, 0.3), 0px 1px 3px 1px rgba(60, 64, 67, 0.15);\n",
              "      fill: #174EA6;\n",
              "    }\n",
              "\n",
              "    [theme=dark] .colab-df-convert {\n",
              "      background-color: #3B4455;\n",
              "      fill: #D2E3FC;\n",
              "    }\n",
              "\n",
              "    [theme=dark] .colab-df-convert:hover {\n",
              "      background-color: #434B5C;\n",
              "      box-shadow: 0px 1px 3px 1px rgba(0, 0, 0, 0.15);\n",
              "      filter: drop-shadow(0px 1px 2px rgba(0, 0, 0, 0.3));\n",
              "      fill: #FFFFFF;\n",
              "    }\n",
              "  </style>\n",
              "\n",
              "      <script>\n",
              "        const buttonEl =\n",
              "          document.querySelector('#df-b0234a20-e9e7-42e0-8cef-26d27ddd3e93 button.colab-df-convert');\n",
              "        buttonEl.style.display =\n",
              "          google.colab.kernel.accessAllowed ? 'block' : 'none';\n",
              "\n",
              "        async function convertToInteractive(key) {\n",
              "          const element = document.querySelector('#df-b0234a20-e9e7-42e0-8cef-26d27ddd3e93');\n",
              "          const dataTable =\n",
              "            await google.colab.kernel.invokeFunction('convertToInteractive',\n",
              "                                                     [key], {});\n",
              "          if (!dataTable) return;\n",
              "\n",
              "          const docLinkHtml = 'Like what you see? Visit the ' +\n",
              "            '<a target=\"_blank\" href=https://colab.research.google.com/notebooks/data_table.ipynb>data table notebook</a>'\n",
              "            + ' to learn more about interactive tables.';\n",
              "          element.innerHTML = '';\n",
              "          dataTable['output_type'] = 'display_data';\n",
              "          await google.colab.output.renderOutput(dataTable, element);\n",
              "          const docLink = document.createElement('div');\n",
              "          docLink.innerHTML = docLinkHtml;\n",
              "          element.appendChild(docLink);\n",
              "        }\n",
              "      </script>\n",
              "    </div>\n",
              "  </div>\n",
              "  "
            ]
          },
          "metadata": {},
          "execution_count": 64
        }
      ]
    },
    {
      "cell_type": "code",
      "source": [
        ""
      ],
      "metadata": {
        "id": "mPJ1Llm1pQxj"
      },
      "execution_count": null,
      "outputs": []
    }
  ]
}