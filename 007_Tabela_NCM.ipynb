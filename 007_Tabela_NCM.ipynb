{
 "cells": [
  {
   "cell_type": "markdown",
   "metadata": {
    "colab_type": "text",
    "id": "view-in-github"
   },
   "source": [
    "<a href=\"https://colab.research.google.com/github/mfilipak/AFRAC_IA/blob/main/007_Tabela_NCM.ipynb\" target=\"_parent\"><img src=\"https://colab.research.google.com/assets/colab-badge.svg\" alt=\"Open In Colab\"/></a>"
   ]
  },
  {
   "cell_type": "markdown",
   "metadata": {},
   "source": [
    "Fonte da tabela:\n",
    "https://portalunico.siscomex.gov.br/classif/#/nomenclatura/tabela?perfil=publico\n",
    "<br>Objetivo: Criar a tabela de NCMs a partir do arquivo JSON do portal acima. "
   ]
  },
  {
   "cell_type": "code",
   "execution_count": 1,
   "metadata": {},
   "outputs": [],
   "source": [
    "import pandas as pd\n",
    "import numpy as np"
   ]
  },
  {
   "cell_type": "code",
   "execution_count": 2,
   "metadata": {
    "id": "yR6I_IZJ5RhS"
   },
   "outputs": [],
   "source": [
    "ncm_dict = {\"\".join(_[\"Codigo\"].split(\".\")) : _[\"Descricao\"] for _ in pd.read_json(\"DATASET\\\\Tabela_NCM_20220626.json\")[\"Nomenclaturas\"]}"
   ]
  },
  {
   "cell_type": "code",
   "execution_count": 3,
   "metadata": {},
   "outputs": [],
   "source": [
    "ncm_dict_full = {}\n",
    "for k in list(ncm_dict.keys())[:]:\n",
    "    descr = ncm_dict[k]\n",
    "    for cut in [2, 4, 5, 6, 7, 8]:\n",
    "        if len(k) <= cut:\n",
    "            break\n",
    "        try:\n",
    "            descr = ncm_dict[k[:cut]] + descr\n",
    "        except:\n",
    "            None\n",
    "    ncm_dict_full[k] = descr\n"
   ]
  },
  {
   "cell_type": "code",
   "execution_count": 5,
   "metadata": {},
   "outputs": [
    {
     "data": {
      "text/html": [
       "<div>\n",
       "<style scoped>\n",
       "    .dataframe tbody tr th:only-of-type {\n",
       "        vertical-align: middle;\n",
       "    }\n",
       "\n",
       "    .dataframe tbody tr th {\n",
       "        vertical-align: top;\n",
       "    }\n",
       "\n",
       "    .dataframe thead th {\n",
       "        text-align: right;\n",
       "    }\n",
       "</style>\n",
       "<table border=\"1\" class=\"dataframe\">\n",
       "  <thead>\n",
       "    <tr style=\"text-align: right;\">\n",
       "      <th></th>\n",
       "      <th>DESCRICAO</th>\n",
       "    </tr>\n",
       "    <tr>\n",
       "      <th>CODIGO</th>\n",
       "      <th></th>\n",
       "    </tr>\n",
       "  </thead>\n",
       "  <tbody>\n",
       "    <tr>\n",
       "      <th>01</th>\n",
       "      <td>Animais vivos.</td>\n",
       "    </tr>\n",
       "    <tr>\n",
       "      <th>0101</th>\n",
       "      <td>Animais vivos.Cavalos, asininos e muares, vivos.</td>\n",
       "    </tr>\n",
       "    <tr>\n",
       "      <th>01012</th>\n",
       "      <td>Cavalos, asininos e muares, vivos.Animais vivo...</td>\n",
       "    </tr>\n",
       "    <tr>\n",
       "      <th>01012100</th>\n",
       "      <td>- Cavalos:Cavalos, asininos e muares, vivos.An...</td>\n",
       "    </tr>\n",
       "    <tr>\n",
       "      <th>01012900</th>\n",
       "      <td>- Cavalos:Cavalos, asininos e muares, vivos.An...</td>\n",
       "    </tr>\n",
       "    <tr>\n",
       "      <th>...</th>\n",
       "      <td>...</td>\n",
       "    </tr>\n",
       "    <tr>\n",
       "      <th>97053100</th>\n",
       "      <td>- Coleções e peças de coleção que apresentem u...</td>\n",
       "    </tr>\n",
       "    <tr>\n",
       "      <th>97053900</th>\n",
       "      <td>- Coleções e peças de coleção que apresentem u...</td>\n",
       "    </tr>\n",
       "    <tr>\n",
       "      <th>9706</th>\n",
       "      <td>Objetos de arte, de coleção e antiguidades.Ant...</td>\n",
       "    </tr>\n",
       "    <tr>\n",
       "      <th>97061000</th>\n",
       "      <td>Antiguidades com mais de 100 anos.Objetos de a...</td>\n",
       "    </tr>\n",
       "    <tr>\n",
       "      <th>97069000</th>\n",
       "      <td>Antiguidades com mais de 100 anos.Objetos de a...</td>\n",
       "    </tr>\n",
       "  </tbody>\n",
       "</table>\n",
       "<p>15035 rows × 1 columns</p>\n",
       "</div>"
      ],
      "text/plain": [
       "                                                  DESCRICAO\n",
       "CODIGO                                                     \n",
       "01                                           Animais vivos.\n",
       "0101       Animais vivos.Cavalos, asininos e muares, vivos.\n",
       "01012     Cavalos, asininos e muares, vivos.Animais vivo...\n",
       "01012100  - Cavalos:Cavalos, asininos e muares, vivos.An...\n",
       "01012900  - Cavalos:Cavalos, asininos e muares, vivos.An...\n",
       "...                                                     ...\n",
       "97053100  - Coleções e peças de coleção que apresentem u...\n",
       "97053900  - Coleções e peças de coleção que apresentem u...\n",
       "9706      Objetos de arte, de coleção e antiguidades.Ant...\n",
       "97061000  Antiguidades com mais de 100 anos.Objetos de a...\n",
       "97069000  Antiguidades com mais de 100 anos.Objetos de a...\n",
       "\n",
       "[15035 rows x 1 columns]"
      ]
     },
     "execution_count": 5,
     "metadata": {},
     "output_type": "execute_result"
    }
   ],
   "source": [
    "df = pd.DataFrame()\n",
    "#df.columns = [\"CODIGO\", \"DESCRICAO\"]\n",
    "df[\"CODIGO\"] = list(ncm_dict_full.keys())\n",
    "df[\"DESCRICAO\"] = [ncm_dict_full[_] for _ in ncm_dict_full.keys()]\n",
    "df = df.set_index(\"CODIGO\")\n",
    "df"
   ]
  },
  {
   "cell_type": "code",
   "execution_count": 6,
   "metadata": {},
   "outputs": [
    {
     "data": {
      "text/plain": [
       "DESCRICAO    Carnes e miudezas, comestíveis.\n",
       "Name: 02, dtype: object"
      ]
     },
     "execution_count": 6,
     "metadata": {},
     "output_type": "execute_result"
    }
   ],
   "source": [
    "df.loc[\"02\"]"
   ]
  },
  {
   "cell_type": "code",
   "execution_count": 7,
   "metadata": {},
   "outputs": [],
   "source": [
    "df.to_csv(\"DATASET\\\\TABELA_NCM.CSV\")"
   ]
  },
  {
   "cell_type": "code",
   "execution_count": 8,
   "metadata": {},
   "outputs": [
    {
     "data": {
      "text/html": [
       "<div>\n",
       "<style scoped>\n",
       "    .dataframe tbody tr th:only-of-type {\n",
       "        vertical-align: middle;\n",
       "    }\n",
       "\n",
       "    .dataframe tbody tr th {\n",
       "        vertical-align: top;\n",
       "    }\n",
       "\n",
       "    .dataframe thead th {\n",
       "        text-align: right;\n",
       "    }\n",
       "</style>\n",
       "<table border=\"1\" class=\"dataframe\">\n",
       "  <thead>\n",
       "    <tr style=\"text-align: right;\">\n",
       "      <th></th>\n",
       "      <th>DESCRICAO</th>\n",
       "    </tr>\n",
       "    <tr>\n",
       "      <th>CODIGO</th>\n",
       "      <th></th>\n",
       "    </tr>\n",
       "  </thead>\n",
       "  <tbody>\n",
       "    <tr>\n",
       "      <th>1</th>\n",
       "      <td>Animais vivos.</td>\n",
       "    </tr>\n",
       "    <tr>\n",
       "      <th>101</th>\n",
       "      <td>Animais vivos.Cavalos, asininos e muares, vivos.</td>\n",
       "    </tr>\n",
       "    <tr>\n",
       "      <th>1012</th>\n",
       "      <td>Cavalos, asininos e muares, vivos.Animais vivo...</td>\n",
       "    </tr>\n",
       "    <tr>\n",
       "      <th>1012100</th>\n",
       "      <td>- Cavalos:Cavalos, asininos e muares, vivos.An...</td>\n",
       "    </tr>\n",
       "    <tr>\n",
       "      <th>1012900</th>\n",
       "      <td>- Cavalos:Cavalos, asininos e muares, vivos.An...</td>\n",
       "    </tr>\n",
       "    <tr>\n",
       "      <th>...</th>\n",
       "      <td>...</td>\n",
       "    </tr>\n",
       "    <tr>\n",
       "      <th>97053100</th>\n",
       "      <td>- Coleções e peças de coleção que apresentem u...</td>\n",
       "    </tr>\n",
       "    <tr>\n",
       "      <th>97053900</th>\n",
       "      <td>- Coleções e peças de coleção que apresentem u...</td>\n",
       "    </tr>\n",
       "    <tr>\n",
       "      <th>9706</th>\n",
       "      <td>Objetos de arte, de coleção e antiguidades.Ant...</td>\n",
       "    </tr>\n",
       "    <tr>\n",
       "      <th>97061000</th>\n",
       "      <td>Antiguidades com mais de 100 anos.Objetos de a...</td>\n",
       "    </tr>\n",
       "    <tr>\n",
       "      <th>97069000</th>\n",
       "      <td>Antiguidades com mais de 100 anos.Objetos de a...</td>\n",
       "    </tr>\n",
       "  </tbody>\n",
       "</table>\n",
       "<p>15035 rows × 1 columns</p>\n",
       "</div>"
      ],
      "text/plain": [
       "                                                  DESCRICAO\n",
       "CODIGO                                                     \n",
       "1                                            Animais vivos.\n",
       "101        Animais vivos.Cavalos, asininos e muares, vivos.\n",
       "1012      Cavalos, asininos e muares, vivos.Animais vivo...\n",
       "1012100   - Cavalos:Cavalos, asininos e muares, vivos.An...\n",
       "1012900   - Cavalos:Cavalos, asininos e muares, vivos.An...\n",
       "...                                                     ...\n",
       "97053100  - Coleções e peças de coleção que apresentem u...\n",
       "97053900  - Coleções e peças de coleção que apresentem u...\n",
       "9706      Objetos de arte, de coleção e antiguidades.Ant...\n",
       "97061000  Antiguidades com mais de 100 anos.Objetos de a...\n",
       "97069000  Antiguidades com mais de 100 anos.Objetos de a...\n",
       "\n",
       "[15035 rows x 1 columns]"
      ]
     },
     "execution_count": 8,
     "metadata": {},
     "output_type": "execute_result"
    }
   ],
   "source": [
    "pd.read_csv(\"DATASET\\\\TABELA_NCM.CSV\", index_col=\"CODIGO\")"
   ]
  }
 ],
 "metadata": {
  "colab": {
   "authorship_tag": "ABX9TyPnnd34/1iuyiGFLYQ7pNBW",
   "include_colab_link": true,
   "name": "007-Tabela NCM.ipynb",
   "provenance": []
  },
  "kernelspec": {
   "display_name": "Python 3 (ipykernel)",
   "language": "python",
   "name": "python3"
  },
  "language_info": {
   "codemirror_mode": {
    "name": "ipython",
    "version": 3
   },
   "file_extension": ".py",
   "mimetype": "text/x-python",
   "name": "python",
   "nbconvert_exporter": "python",
   "pygments_lexer": "ipython3",
   "version": "3.7.10"
  }
 },
 "nbformat": 4,
 "nbformat_minor": 1
}
