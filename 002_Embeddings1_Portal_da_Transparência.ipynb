{
  "nbformat": 4,
  "nbformat_minor": 0,
  "metadata": {
    "colab": {
      "name": "002 - Embeddings1 - Portal da Transparência.ipynb",
      "provenance": [],
      "authorship_tag": "ABX9TyMscp9MrfVVAOkPYYNnE0Wg",
      "include_colab_link": true
    },
    "kernelspec": {
      "name": "python3",
      "display_name": "Python 3"
    },
    "language_info": {
      "name": "python"
    }
  },
  "cells": [
    {
      "cell_type": "markdown",
      "metadata": {
        "id": "view-in-github",
        "colab_type": "text"
      },
      "source": [
        "<a href=\"https://colab.research.google.com/github/mfilipak/AFRAC_IA/blob/main/002_Embeddings1_Portal_da_Transpar%C3%AAncia.ipynb\" target=\"_parent\"><img src=\"https://colab.research.google.com/assets/colab-badge.svg\" alt=\"Open In Colab\"/></a>"
      ]
    },
    {
      "cell_type": "markdown",
      "source": [
        "# Experimento 002\n",
        "##Objetivo: Experimentos com word embeddings usando como corpo o campo de descrição do dataset\n",
        "###Descrição: Experimentos iniciais para criação e visualização de word embeddings"
      ],
      "metadata": {
        "id": "d5G4UIQLkvr1"
      }
    },
    {
      "cell_type": "code",
      "source": [
        ""
      ],
      "metadata": {
        "id": "Nvzp4RpDlHTq"
      },
      "execution_count": null,
      "outputs": []
    }
  ]
}