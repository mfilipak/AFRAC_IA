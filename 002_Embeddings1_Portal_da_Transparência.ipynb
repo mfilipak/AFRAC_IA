{
  "nbformat": 4,
  "nbformat_minor": 0,
  "metadata": {
    "colab": {
      "name": "002 - Embeddings1 - Portal da Transparência.ipynb",
      "provenance": [],
      "authorship_tag": "ABX9TyN8wuB4J1TKkUPSZ+YP0W38",
      "include_colab_link": true
    },
    "kernelspec": {
      "name": "python3",
      "display_name": "Python 3"
    },
    "language_info": {
      "name": "python"
    }
  },
  "cells": [
    {
      "cell_type": "markdown",
      "metadata": {
        "id": "view-in-github",
        "colab_type": "text"
      },
      "source": [
        "<a href=\"https://colab.research.google.com/github/mfilipak/AFRAC_IA/blob/main/002_Embeddings1_Portal_da_Transpar%C3%AAncia.ipynb\" target=\"_parent\"><img src=\"https://colab.research.google.com/assets/colab-badge.svg\" alt=\"Open In Colab\"/></a>"
      ]
    },
    {
      "cell_type": "markdown",
      "source": [
        "# EM CONSTRUÇÃO"
      ],
      "metadata": {
        "id": "ANdfGpMVsm6B"
      }
    },
    {
      "cell_type": "markdown",
      "source": [
        "# Experimento 002\n",
        "##Objetivo: Experimentos com word embeddings usando como corpo o campo de descrição do dataset público do portal da transparência.\n",
        "###Descrição: Experimentos iniciais para criação e visualização de word embeddings"
      ],
      "metadata": {
        "id": "d5G4UIQLkvr1"
      }
    },
    {
      "cell_type": "markdown",
      "source": [
        "Dica: No COLAB Use CTRL SPACE ao invés de TAB para \"autocompletar\". Ex:pd.re [CTRL SPACE] vai mostrar uma lista contendo as funções e atributos que começam com pd.re (como read_csv, ...) "
      ],
      "metadata": {
        "id": "F9TFhfPOld7Z"
      }
    },
    {
      "cell_type": "code",
      "source": [
        "from glob import glob\n",
        "import pandas as pd\n",
        "import numpy as np\n",
        "import matplotlib.pyplot as plt\n",
        "import seaborn as sns\n",
        "import random"
      ],
      "metadata": {
        "id": "Nvzp4RpDlHTq"
      },
      "execution_count": 22,
      "outputs": []
    },
    {
      "cell_type": "code",
      "source": [
        "#Copia os dados das NFEs do portal da cidadância pro drive virtual.\n",
        "import requests  \n",
        "file_url = \"https://raw.githubusercontent.com//mfilipak/AFRAC_IA/main/DATASET/202201_NFe_NotaFiscalItem.zip\"\n",
        "r = requests.get(file_url, stream = True) \n",
        "\n",
        "with open(\"portal.zip\", \"wb\") as file:  \n",
        "    for block in r.iter_content(chunk_size = 1024): \n",
        "         if block:  \n",
        "             file.write(block)\n",
        "\n",
        "DATA_FILE = \"portal.zip\"\n",
        "df = pd.read_csv(DATA_FILE, encoding=\"CP1252\",sep=\";\")\n",
        "print(\"O dataframe completo contém:\",len(df),\"linhas\")"
      ],
      "metadata": {
        "id": "0tBOpT5elhBD",
        "outputId": "d3d79039-7e15-4aa1-dd21-5a6bd3b38ef9",
        "colab": {
          "base_uri": "https://localhost:8080/"
        }
      },
      "execution_count": 3,
      "outputs": [
        {
          "output_type": "stream",
          "name": "stdout",
          "text": [
            "O dataframe completo contém: 324056 linhas\n"
          ]
        }
      ]
    },
    {
      "cell_type": "code",
      "source": [
        "df3 = df[['DATA EMISSÃO','DESCRIÇÃO DO PRODUTO/SERVIÇO', 'CÓDIGO NCM/SH', 'CFOP']]\n",
        "df3.columns = [\"DATA\", \"DESCR\", \"NCM\", \"CFOP\"]\n",
        "df3 = df3[df3[\"NCM\"]!=-1] #Filtrando NCMs = -1\n",
        "\n",
        "text_lengths = np.array([len(_) for _ in df3['DESCR']])\n",
        "df3 = df3[text_lengths>=3]\n",
        "\n",
        "#Caso queira eliminar as repetições rodar a linha abaixo\n",
        "df3 = df3.drop_duplicates(subset=[\"DESCR\"])"
      ],
      "metadata": {
        "id": "8IVtFSawlr_T"
      },
      "execution_count": 9,
      "outputs": []
    },
    {
      "cell_type": "code",
      "source": [
        ""
      ],
      "metadata": {
        "id": "GMRjaLpOqy7G",
        "outputId": "ba0bd883-b951-4f29-c5a0-7ed5faeaf9c1",
        "colab": {
          "base_uri": "https://localhost:8080/"
        }
      },
      "execution_count": 26,
      "outputs": [
        {
          "output_type": "execute_result",
          "data": {
            "text/plain": [
              "['MAZA DILUENTE P/ EPOXI DP-003 5 L',\n",
              " 'COLETOR DE MAT.PERFURO CORTANTES 07 LT',\n",
              " 'Abóbora Cabotiá',\n",
              " 'BECKER 50ML VIDRO BORO GRAD FB UNID C/ 1 PERFECTA',\n",
              " 'DOCE JAZAM DUCREM NAPOLITANO',\n",
              " 'COPO PLAST DESCARTAVEL 200ML INCOLOR COPOBRAS',\n",
              " 'SAL REFINADO ZIZO 1KG',\n",
              " 'CONCHA INOX',\n",
              " 'MULTIFUNCIONAL BROTHER MFCL8900CDW',\n",
              " 'Tinta para Carimbo Pilot Preta 42ml']"
            ]
          },
          "metadata": {},
          "execution_count": 26
        }
      ]
    },
    {
      "cell_type": "code",
      "source": [
        "#No jargão do doc2vec, cada descrição é um document e o conjunto de docs um corpus\n",
        "#Link: https://radimrehurek.com/gensim/auto_examples/core/run_core_concepts.html#sphx-glr-auto-examples-core-run-core-concepts-py\n",
        "random.seed(42)\n",
        "text_corpus = random.sample(list(df3[\"DESCR\"]), 10)\n",
        "text_corpus"
      ],
      "metadata": {
        "id": "p03O8O4snNlL",
        "outputId": "54e78402-6023-4436-e52e-067fd02e2619",
        "colab": {
          "base_uri": "https://localhost:8080/"
        }
      },
      "execution_count": 27,
      "outputs": [
        {
          "output_type": "execute_result",
          "data": {
            "text/plain": [
              "['MAZA DILUENTE P/ EPOXI DP-003 5 L',\n",
              " 'COLETOR DE MAT.PERFURO CORTANTES 07 LT',\n",
              " 'Abóbora Cabotiá',\n",
              " 'BECKER 50ML VIDRO BORO GRAD FB UNID C/ 1 PERFECTA',\n",
              " 'DOCE JAZAM DUCREM NAPOLITANO',\n",
              " 'COPO PLAST DESCARTAVEL 200ML INCOLOR COPOBRAS',\n",
              " 'SAL REFINADO ZIZO 1KG',\n",
              " 'CONCHA INOX',\n",
              " 'MULTIFUNCIONAL BROTHER MFCL8900CDW',\n",
              " 'Tinta para Carimbo Pilot Preta 42ml']"
            ]
          },
          "metadata": {},
          "execution_count": 27
        }
      ]
    },
    {
      "cell_type": "code",
      "source": [
        ""
      ],
      "metadata": {
        "id": "SuIlNu0toC6Z"
      },
      "execution_count": null,
      "outputs": []
    }
  ]
}