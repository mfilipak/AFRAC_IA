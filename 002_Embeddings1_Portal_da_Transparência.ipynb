{
  "nbformat": 4,
  "nbformat_minor": 0,
  "metadata": {
    "colab": {
      "name": "002 - Embeddings1 - Portal da Transparência.ipynb",
      "provenance": [],
      "authorship_tag": "ABX9TyP1+JaIvje2vUHGb4OJlez8",
      "include_colab_link": true
    },
    "kernelspec": {
      "name": "python3",
      "display_name": "Python 3"
    },
    "language_info": {
      "name": "python"
    }
  },
  "cells": [
    {
      "cell_type": "markdown",
      "metadata": {
        "id": "view-in-github",
        "colab_type": "text"
      },
      "source": [
        "<a href=\"https://colab.research.google.com/github/mfilipak/AFRAC_IA/blob/main/002_Embeddings1_Portal_da_Transpar%C3%AAncia.ipynb\" target=\"_parent\"><img src=\"https://colab.research.google.com/assets/colab-badge.svg\" alt=\"Open In Colab\"/></a>"
      ]
    },
    {
      "cell_type": "markdown",
      "source": [
        "# EM CONSTRUÇÃO"
      ],
      "metadata": {
        "id": "ANdfGpMVsm6B"
      }
    },
    {
      "cell_type": "markdown",
      "source": [
        "# Experimento 002\n",
        "##Objetivo: Experimentos com word embeddings usando como corpo o campo de descrição do dataset público do portal da transparência.\n",
        "###Descrição: Experimentos iniciais para criação e visualização de word embeddings"
      ],
      "metadata": {
        "id": "d5G4UIQLkvr1"
      }
    },
    {
      "cell_type": "markdown",
      "source": [
        "Dica: No COLAB Use CTRL SPACE ao invés de TAB para \"autocompletar\". Ex:pd.re [CTRL SPACE] vai mostrar uma lista contendo as funções e atributos que começam com pd.re (como read_csv, ...) "
      ],
      "metadata": {
        "id": "F9TFhfPOld7Z"
      }
    },
    {
      "cell_type": "code",
      "source": [
        "from glob import glob\n",
        "import pandas as pd\n",
        "import numpy as np\n",
        "import matplotlib.pyplot as plt\n",
        "import seaborn as sns\n",
        "import random\n",
        "import pprint\n",
        "\n",
        "from gensim.models import Word2Vec\n",
        "#from sentence_transformers import SentenceTransformer\n",
        "import joblib\n",
        "from nltk.corpus import stopwords\n",
        "from nltk.tokenize import word_tokenize"
      ],
      "metadata": {
        "id": "Nvzp4RpDlHTq"
      },
      "execution_count": 1,
      "outputs": []
    },
    {
      "cell_type": "code",
      "source": [
        "import nltk\n",
        "nltk.download('punkt')"
      ],
      "metadata": {
        "colab": {
          "base_uri": "https://localhost:8080/"
        },
        "id": "NMc2HxxMGauw",
        "outputId": "3e58db72-8c3a-4674-a72c-3c1bdef90fc9"
      },
      "execution_count": 2,
      "outputs": [
        {
          "output_type": "stream",
          "name": "stderr",
          "text": [
            "[nltk_data] Downloading package punkt to /root/nltk_data...\n",
            "[nltk_data]   Package punkt is already up-to-date!\n"
          ]
        },
        {
          "output_type": "execute_result",
          "data": {
            "text/plain": [
              "True"
            ]
          },
          "metadata": {},
          "execution_count": 2
        }
      ]
    },
    {
      "cell_type": "markdown",
      "source": [
        "#1 - Carga do dataset"
      ],
      "metadata": {
        "id": "nHAJmE8HtX7V"
      }
    },
    {
      "cell_type": "code",
      "source": [
        "#Copia os dados das NFEs do portal da cidadância pro drive virtual.\n",
        "import requests  \n",
        "file_url = \"https://raw.githubusercontent.com//mfilipak/AFRAC_IA/main/DATASET/202201_NFe_NotaFiscalItem.zip\"\n",
        "r = requests.get(file_url, stream = True) \n",
        "\n",
        "with open(\"portal.zip\", \"wb\") as file:  \n",
        "    for block in r.iter_content(chunk_size = 1024): \n",
        "         if block:  \n",
        "             file.write(block)\n",
        "\n",
        "DATA_FILE = \"portal.zip\"\n",
        "df = pd.read_csv(DATA_FILE, encoding=\"CP1252\",sep=\";\")\n",
        "print(\"O dataframe completo contém:\",len(df),\"linhas\")"
      ],
      "metadata": {
        "colab": {
          "base_uri": "https://localhost:8080/"
        },
        "id": "0tBOpT5elhBD",
        "outputId": "aa61d068-cfe9-442e-dacf-368f9dea7d6b"
      },
      "execution_count": 3,
      "outputs": [
        {
          "output_type": "stream",
          "name": "stdout",
          "text": [
            "O dataframe completo contém: 324056 linhas\n"
          ]
        }
      ]
    },
    {
      "cell_type": "code",
      "source": [
        "df3 = df[['DATA EMISSÃO','DESCRIÇÃO DO PRODUTO/SERVIÇO', 'CÓDIGO NCM/SH', 'CFOP']]\n",
        "df3.columns = [\"DATA\", \"DESCR\", \"NCM\", \"CFOP\"]\n",
        "df3 = df3[df3[\"NCM\"]!=-1] #Filtrando NCMs = -1\n",
        "\n",
        "text_lengths = np.array([len(_) for _ in df3['DESCR']])\n",
        "df3 = df3[text_lengths>=3]\n",
        "\n",
        "#Caso queira eliminar as repetições rodar a linha abaixo\n",
        "df3 = df3.drop_duplicates(subset=[\"DESCR\"])"
      ],
      "metadata": {
        "id": "8IVtFSawlr_T"
      },
      "execution_count": 4,
      "outputs": []
    },
    {
      "cell_type": "markdown",
      "source": [
        "#2 - Carga do text corpus"
      ],
      "metadata": {
        "id": "fkOffymdtdem"
      }
    },
    {
      "cell_type": "code",
      "source": [
        "#No jargão do doc2vec, cada descrição é um document e o conjunto de docs um corpus\n",
        "#Link: https://radimrehurek.com/gensim/auto_examples/core/run_core_concepts.html#sphx-glr-auto-examples-core-run-core-concepts-py\n",
        "random.seed(42)\n",
        "#text_corpus = random.sample(list(df3[\"DESCR\"]), 100)\n",
        "text_corpus = random.sample(list(df3[\"DESCR\"][:30]), 10)\n",
        "text_corpus\n",
        "#Deixar bem curtinho o corpo pra ir arrumando o código e testando os resultados. Pra sequência abaixo fazer mais sentido é bom que tenha alguma repetição de palavras"
      ],
      "metadata": {
        "colab": {
          "base_uri": "https://localhost:8080/"
        },
        "id": "p03O8O4snNlL",
        "outputId": "2b7d53e8-fc07-469b-b6ac-d14ce87ac193"
      },
      "execution_count": 5,
      "outputs": [
        {
          "output_type": "execute_result",
          "data": {
            "text/plain": [
              "['GASOLINA COMUM',\n",
              " 'MLTD203UXAZ CARTUCHO DE TONER PRETO 15K PAGINAS',\n",
              " 'HP RESERVATORIO DE RESIDUO DE TONER',\n",
              " 'UVA ITALIA',\n",
              " 'CLTC603LXAZ CARTUCHO DE TONER CIANO 10K PAGINAS',\n",
              " 'CARTUCHO DE TONER AMARELO 3.5K PAGINAS',\n",
              " 'CENOURA',\n",
              " 'CLTC506LXAZ CARTUCHO DE TONER CIANO 3.5K PAGINAS',\n",
              " 'PLACA LED ILUMINACAO',\n",
              " 'OLEO DIESEL B S10 ADITIVADO GRID']"
            ]
          },
          "metadata": {},
          "execution_count": 5
        }
      ]
    },
    {
      "cell_type": "markdown",
      "source": [
        "#3 - Determinando as palavras muito frequentes "
      ],
      "metadata": {
        "id": "cqWJ3wiPuOee"
      }
    },
    {
      "cell_type": "code",
      "source": [
        "all_words = []\n",
        "for d in list(df3[\"DESCR\"]):\n",
        "    all_words += d.split()\n",
        "words_counts = pd.DataFrame(all_words).value_counts()\n",
        "print(\"Palavras mais frequentemente encontradas\")\n",
        "print(\" \".join([_[0] for _ in words_counts.index[:30]]))"
      ],
      "metadata": {
        "colab": {
          "base_uri": "https://localhost:8080/"
        },
        "id": "IacZC5SuuTIb",
        "outputId": "5195451d-3ac2-407f-d93a-a94858a3202b"
      },
      "execution_count": 6,
      "outputs": [
        {
          "output_type": "stream",
          "name": "stdout",
          "text": [
            "Palavras mais frequentemente encontradas\n",
            "- DE E PARA X COM 1 EM TIPO de A | DO FILTRO C/ DA MM 2 / PARAFUSO CABO Lote: P/ OLEO 100 Ed O MATERIAL 10 KG\n"
          ]
        }
      ]
    },
    {
      "cell_type": "code",
      "source": [
        ""
      ],
      "metadata": {
        "id": "midICNFs5EsQ"
      },
      "execution_count": 7,
      "outputs": []
    },
    {
      "cell_type": "markdown",
      "source": [
        "#4 - Seguindo com o tutorial do doc2vec (Que usa o modelo mais simples tf-idf)"
      ],
      "metadata": {
        "id": "tFniLr5d5GEp"
      }
    },
    {
      "cell_type": "code",
      "source": [
        "stoplist = set('- DE E PARA X COM EM TIPO de A | DO C/ DA / P/ Ed O'.split(' '))"
      ],
      "metadata": {
        "id": "WM51S5pavnLK"
      },
      "execution_count": 8,
      "outputs": []
    },
    {
      "cell_type": "code",
      "source": [
        "# Lowercase each document, split it by white space and filter out stopwords\n",
        "texts = [[word for word in document.lower().split() if word not in stoplist]\n",
        "         for document in text_corpus]\n",
        "\n",
        "# Count word frequencies\n",
        "from collections import defaultdict\n",
        "frequency = defaultdict(int)\n",
        "for text in texts:\n",
        "    for token in text:\n",
        "        frequency[token] += 1\n",
        "\n",
        "# Only keep words that appear more than once\n",
        "#Ignorei esse filtro pois com poucos exemplos iria cortar quase tudo\n",
        "processed_corpus = [[token for token in text if frequency[token] > 0] for text in texts]\n",
        "pprint.pprint(processed_corpus)"
      ],
      "metadata": {
        "colab": {
          "base_uri": "https://localhost:8080/"
        },
        "id": "IhZWW1bAwEDZ",
        "outputId": "70bdddf6-30b8-4875-931d-728cf543c410"
      },
      "execution_count": 10,
      "outputs": [
        {
          "output_type": "stream",
          "name": "stdout",
          "text": [
            "[['gasolina', 'comum'],\n",
            " ['mltd203uxaz', 'cartucho', 'toner', 'preto', '15k', 'paginas'],\n",
            " ['hp', 'reservatorio', 'residuo', 'toner'],\n",
            " ['uva', 'italia'],\n",
            " ['cltc603lxaz', 'cartucho', 'toner', 'ciano', '10k', 'paginas'],\n",
            " ['cartucho', 'toner', 'amarelo', '3.5k', 'paginas'],\n",
            " ['cenoura'],\n",
            " ['cltc506lxaz', 'cartucho', 'toner', 'ciano', '3.5k', 'paginas'],\n",
            " ['placa', 'led', 'iluminacao'],\n",
            " ['oleo', 'diesel', 'b', 's10', 'aditivado', 'grid']]\n"
          ]
        }
      ]
    },
    {
      "cell_type": "code",
      "source": [
        "processed_corpus[0] = processed_corpus[0]+processed_corpus[0] #Forcei uma palavra repetida na descrição somente para ter um exemplo\n",
        "processed_corpus"
      ],
      "metadata": {
        "colab": {
          "base_uri": "https://localhost:8080/"
        },
        "id": "Dw0RuVx86Kr5",
        "outputId": "d4d094ee-1a00-46ee-8d68-e6fbb8d56a84"
      },
      "execution_count": 11,
      "outputs": [
        {
          "output_type": "execute_result",
          "data": {
            "text/plain": [
              "[['gasolina', 'comum', 'gasolina', 'comum'],\n",
              " ['mltd203uxaz', 'cartucho', 'toner', 'preto', '15k', 'paginas'],\n",
              " ['hp', 'reservatorio', 'residuo', 'toner'],\n",
              " ['uva', 'italia'],\n",
              " ['cltc603lxaz', 'cartucho', 'toner', 'ciano', '10k', 'paginas'],\n",
              " ['cartucho', 'toner', 'amarelo', '3.5k', 'paginas'],\n",
              " ['cenoura'],\n",
              " ['cltc506lxaz', 'cartucho', 'toner', 'ciano', '3.5k', 'paginas'],\n",
              " ['placa', 'led', 'iluminacao'],\n",
              " ['oleo', 'diesel', 'b', 's10', 'aditivado', 'grid']]"
            ]
          },
          "metadata": {},
          "execution_count": 11
        }
      ]
    },
    {
      "cell_type": "code",
      "source": [
        "from gensim import corpora\n",
        "dictionary = corpora.Dictionary(processed_corpus)\n",
        "print(dictionary)"
      ],
      "metadata": {
        "colab": {
          "base_uri": "https://localhost:8080/"
        },
        "id": "aeBPOvNSx13o",
        "outputId": "e4e4513f-b032-4b91-ae55-c15ef73cf07b"
      },
      "execution_count": 12,
      "outputs": [
        {
          "output_type": "stream",
          "name": "stdout",
          "text": [
            "Dictionary(29 unique tokens: ['comum', 'gasolina', '15k', 'cartucho', 'mltd203uxaz']...)\n"
          ]
        }
      ]
    },
    {
      "cell_type": "code",
      "source": [
        "pprint.pprint(dictionary.token2id)"
      ],
      "metadata": {
        "colab": {
          "base_uri": "https://localhost:8080/"
        },
        "id": "MHt4VSMmz8W-",
        "outputId": "d9f02fc2-a2a7-4789-b0ef-e5fe5cafdd7f"
      },
      "execution_count": 14,
      "outputs": [
        {
          "output_type": "stream",
          "name": "stdout",
          "text": [
            "{'10k': 13,\n",
            " '15k': 2,\n",
            " '3.5k': 16,\n",
            " 'aditivado': 23,\n",
            " 'amarelo': 17,\n",
            " 'b': 24,\n",
            " 'cartucho': 3,\n",
            " 'cenoura': 18,\n",
            " 'ciano': 14,\n",
            " 'cltc506lxaz': 19,\n",
            " 'cltc603lxaz': 15,\n",
            " 'comum': 0,\n",
            " 'diesel': 25,\n",
            " 'gasolina': 1,\n",
            " 'grid': 26,\n",
            " 'hp': 8,\n",
            " 'iluminacao': 20,\n",
            " 'italia': 11,\n",
            " 'led': 21,\n",
            " 'mltd203uxaz': 4,\n",
            " 'oleo': 27,\n",
            " 'paginas': 5,\n",
            " 'placa': 22,\n",
            " 'preto': 6,\n",
            " 'reservatorio': 9,\n",
            " 'residuo': 10,\n",
            " 's10': 28,\n",
            " 'toner': 7,\n",
            " 'uva': 12}\n"
          ]
        }
      ]
    },
    {
      "cell_type": "code",
      "source": [
        "bow_corpus = [dictionary.doc2bow(text) for text in processed_corpus]\n",
        "pprint.pprint(bow_corpus)\n",
        "#The first entry in each tuple corresponds to the ID of the token in the dictionary, the second corresponds to the count of this token."
      ],
      "metadata": {
        "colab": {
          "base_uri": "https://localhost:8080/"
        },
        "id": "d9cOGkzG0IwE",
        "outputId": "7b35b5f1-0285-400b-8e7e-bca0b0e73237"
      },
      "execution_count": 15,
      "outputs": [
        {
          "output_type": "stream",
          "name": "stdout",
          "text": [
            "[[(0, 2), (1, 2)],\n",
            " [(2, 1), (3, 1), (4, 1), (5, 1), (6, 1), (7, 1)],\n",
            " [(7, 1), (8, 1), (9, 1), (10, 1)],\n",
            " [(11, 1), (12, 1)],\n",
            " [(3, 1), (5, 1), (7, 1), (13, 1), (14, 1), (15, 1)],\n",
            " [(3, 1), (5, 1), (7, 1), (16, 1), (17, 1)],\n",
            " [(18, 1)],\n",
            " [(3, 1), (5, 1), (7, 1), (14, 1), (16, 1), (19, 1)],\n",
            " [(20, 1), (21, 1), (22, 1)],\n",
            " [(23, 1), (24, 1), (25, 1), (26, 1), (27, 1), (28, 1)]]\n"
          ]
        }
      ]
    },
    {
      "cell_type": "code",
      "source": [
        "new_doc = \"gasolina hp hp interaction uva\"\n",
        "new_vec = dictionary.doc2bow(new_doc.lower().split())\n",
        "print(new_vec)\n",
        "#Como interaction não existe no dicionário ele não insere o token "
      ],
      "metadata": {
        "colab": {
          "base_uri": "https://localhost:8080/"
        },
        "id": "Vk6euDKj01dM",
        "outputId": "eb26fb8b-86ad-44d0-a11a-77c2e9d3551a"
      },
      "execution_count": 16,
      "outputs": [
        {
          "output_type": "stream",
          "name": "stdout",
          "text": [
            "[(1, 1), (8, 2), (12, 1)]\n"
          ]
        }
      ]
    },
    {
      "cell_type": "code",
      "source": [
        "from gensim import models\n",
        "\n",
        "# train the model\n",
        "tfidf = models.TfidfModel(bow_corpus)\n",
        "# transform the \"system minors\" string\n",
        "words = \"gasolina hp CIANO\".lower().split()\n",
        "print(tfidf[dictionary.doc2bow(words)])"
      ],
      "metadata": {
        "colab": {
          "base_uri": "https://localhost:8080/"
        },
        "id": "iE2mcb4y7B4v",
        "outputId": "9248124f-80f8-48ce-938b-d01ccafa5fc5"
      },
      "execution_count": 17,
      "outputs": [
        {
          "output_type": "stream",
          "name": "stdout",
          "text": [
            "[(1, 0.633907694445084), (8, 0.633907694445084), (14, 0.44308246393491596)]\n"
          ]
        }
      ]
    },
    {
      "cell_type": "markdown",
      "source": [
        "#5 - Agora com word2vec\n",
        "Base: https://github.com/mfilipak/AFRAC_IA/blob/main/Analise_Descricao_versus_NCM.ipynb"
      ],
      "metadata": {
        "id": "Sl158ThSAh-y"
      }
    },
    {
      "cell_type": "code",
      "source": [
        "random.seed(42)\n",
        "text_corpus = random.sample(list(df3[\"DESCR\"]),5000)\n",
        "len(text_corpus)\n",
        "#Deixar bem curtinho o corpo pra ir arrumando o código e testando os resultados. Pra sequência abaixo fazer mais sentido é bom que tenha alguma repetição de palavras"
      ],
      "metadata": {
        "colab": {
          "base_uri": "https://localhost:8080/"
        },
        "id": "N_IsyuwD7usM",
        "outputId": "b591e3f7-86a7-47fa-e2c8-902ffd3fbb5f"
      },
      "execution_count": 18,
      "outputs": [
        {
          "output_type": "execute_result",
          "data": {
            "text/plain": [
              "5000"
            ]
          },
          "metadata": {},
          "execution_count": 18
        }
      ]
    },
    {
      "cell_type": "code",
      "source": [
        "text_corpus[:5]"
      ],
      "metadata": {
        "colab": {
          "base_uri": "https://localhost:8080/"
        },
        "id": "byEb5r5J9w8t",
        "outputId": "a192d4b6-415c-48ed-da75-4e254f5b4cd0"
      },
      "execution_count": 19,
      "outputs": [
        {
          "output_type": "execute_result",
          "data": {
            "text/plain": [
              "['MAZA DILUENTE P/ EPOXI DP-003 5 L',\n",
              " 'COLETOR DE MAT.PERFURO CORTANTES 07 LT',\n",
              " 'Abóbora Cabotiá',\n",
              " 'BECKER 50ML VIDRO BORO GRAD FB UNID C/ 1 PERFECTA',\n",
              " 'DOCE JAZAM DUCREM NAPOLITANO']"
            ]
          },
          "metadata": {},
          "execution_count": 19
        }
      ]
    },
    {
      "cell_type": "markdown",
      "source": [
        "#5.1 - Tokeniza"
      ],
      "metadata": {
        "id": "Rollr6GpCGxY"
      }
    },
    {
      "cell_type": "code",
      "source": [
        "stoplist = set('- DE E PARA X COM EM TIPO de A | DO C/ DA / P/ Ed O'.split(' '))\n",
        "# Lowercase each document, split it by white space and filter out stopwords\n",
        "texts = [[word for word in document.lower().split() if word not in stoplist]\n",
        "         for document in text_corpus]\n",
        "\n",
        "# Count word frequencies\n",
        "from collections import defaultdict\n",
        "frequency = defaultdict(int)\n",
        "for text in texts:\n",
        "    for token in text:\n",
        "        frequency[token] += 1\n",
        "\n",
        "# Only keep words that appear more than once\n",
        "#Ignorei esse filtro pois com poucos exemplos iria cortar quase tudo\n",
        "processed_corpus = [[token for token in text if frequency[token] > 0] for text in texts]\n",
        "pprint.pprint(processed_corpus[:5])"
      ],
      "metadata": {
        "colab": {
          "base_uri": "https://localhost:8080/"
        },
        "id": "eA1glhML-9Rb",
        "outputId": "00fba7e4-a37b-491d-9899-ba93e2d6e1f0"
      },
      "execution_count": 20,
      "outputs": [
        {
          "output_type": "stream",
          "name": "stdout",
          "text": [
            "[['maza', 'diluente', 'p/', 'epoxi', 'dp-003', '5', 'l'],\n",
            " ['coletor', 'mat.perfuro', 'cortantes', '07', 'lt'],\n",
            " ['abóbora', 'cabotiá'],\n",
            " ['becker',\n",
            "  '50ml',\n",
            "  'vidro',\n",
            "  'boro',\n",
            "  'grad',\n",
            "  'fb',\n",
            "  'unid',\n",
            "  'c/',\n",
            "  '1',\n",
            "  'perfecta'],\n",
            " ['doce', 'jazam', 'ducrem', 'napolitano']]\n"
          ]
        }
      ]
    },
    {
      "cell_type": "markdown",
      "source": [
        "#5.2 - Cria modelo"
      ],
      "metadata": {
        "id": "cAOROm-MCOck"
      }
    },
    {
      "cell_type": "code",
      "source": [
        "from gensim.models.doc2vec import Doc2Vec, TaggedDocument\n",
        "tagged_data = [TaggedDocument(d, [i]) for i, d in enumerate(processed_corpus)]"
      ],
      "metadata": {
        "id": "ur-g2PINBt_p"
      },
      "execution_count": 21,
      "outputs": []
    },
    {
      "cell_type": "code",
      "source": [
        ""
      ],
      "metadata": {
        "id": "BFYtv8n8Kpki"
      },
      "execution_count": 21,
      "outputs": []
    },
    {
      "cell_type": "markdown",
      "source": [
        "#OPEN ISSUE 1 - Monitorar os resultados do treinamento é possível? Losses, ..."
      ],
      "metadata": {
        "id": "6rK2uBacKs5h"
      }
    },
    {
      "cell_type": "code",
      "source": [
        "#TO DO: Não foi possível monitorar a loss durante o treino.\n",
        "from gensim.test.utils import common_texts, get_tmpfile\n",
        "from gensim.models import Word2Vec\n",
        "from gensim.models.callbacks import CallbackAny2Vec\n",
        "\n",
        "#import logging\n",
        "#logging.basicConfig(format='%(asctime)s : %(levelname)s : %(message)s', level=logging.INFO)\n",
        "\n",
        "class callback(CallbackAny2Vec):\n",
        "    '''Callback to print loss after each epoch.'''\n",
        "\n",
        "    def __init__(self):\n",
        "        self.epoch = 0\n",
        "\n",
        "    def on_epoch_end(self, model):\n",
        "        try:\n",
        "          loss = model.get_latest_training_loss()\n",
        "#          loss = model.running_training_loss()\n",
        "          print('Loss after epoch {}: {}'.format(self.epoch, loss))\n",
        "        except:\n",
        "          print(f\"EXCEPTION - Epoch:{self.epoch}\")\n",
        "        self.epoch += 1\n",
        "\n",
        "#model = Word2Vec(common_texts, size=100, window=5, min_count=1, \n",
        "#                 compute_loss=True, callbacks=[callback()])"
      ],
      "metadata": {
        "id": "d1KwTqnnMuE3"
      },
      "execution_count": 22,
      "outputs": []
    },
    {
      "cell_type": "code",
      "source": [
        "#Para 5000 itens e 200 epochs leva cerca de 2min\n",
        "#Para 50000 e 10 epochs cerca de 1 minuto\n",
        "model = Doc2Vec(tagged_data, vector_size = 50, window = 2, min_count = 1, epochs = 50, compute_loss=True, callbacks=[callback()])"
      ],
      "metadata": {
        "colab": {
          "base_uri": "https://localhost:8080/"
        },
        "collapsed": true,
        "id": "Xh3bY1DqCRZP",
        "outputId": "92d318c9-a2fd-4e1b-dce9-afb364d17097"
      },
      "execution_count": 23,
      "outputs": [
        {
          "output_type": "stream",
          "name": "stdout",
          "text": [
            "EXCEPTION - Epoch:0\n",
            "EXCEPTION - Epoch:1\n",
            "EXCEPTION - Epoch:2\n",
            "EXCEPTION - Epoch:3\n",
            "EXCEPTION - Epoch:4\n",
            "EXCEPTION - Epoch:5\n",
            "EXCEPTION - Epoch:6\n",
            "EXCEPTION - Epoch:7\n",
            "EXCEPTION - Epoch:8\n",
            "EXCEPTION - Epoch:9\n",
            "EXCEPTION - Epoch:10\n",
            "EXCEPTION - Epoch:11\n",
            "EXCEPTION - Epoch:12\n",
            "EXCEPTION - Epoch:13\n",
            "EXCEPTION - Epoch:14\n",
            "EXCEPTION - Epoch:15\n",
            "EXCEPTION - Epoch:16\n",
            "EXCEPTION - Epoch:17\n",
            "EXCEPTION - Epoch:18\n",
            "EXCEPTION - Epoch:19\n",
            "EXCEPTION - Epoch:20\n",
            "EXCEPTION - Epoch:21\n",
            "EXCEPTION - Epoch:22\n",
            "EXCEPTION - Epoch:23\n",
            "EXCEPTION - Epoch:24\n",
            "EXCEPTION - Epoch:25\n",
            "EXCEPTION - Epoch:26\n",
            "EXCEPTION - Epoch:27\n",
            "EXCEPTION - Epoch:28\n",
            "EXCEPTION - Epoch:29\n",
            "EXCEPTION - Epoch:30\n",
            "EXCEPTION - Epoch:31\n",
            "EXCEPTION - Epoch:32\n",
            "EXCEPTION - Epoch:33\n",
            "EXCEPTION - Epoch:34\n",
            "EXCEPTION - Epoch:35\n",
            "EXCEPTION - Epoch:36\n",
            "EXCEPTION - Epoch:37\n",
            "EXCEPTION - Epoch:38\n",
            "EXCEPTION - Epoch:39\n",
            "EXCEPTION - Epoch:40\n",
            "EXCEPTION - Epoch:41\n",
            "EXCEPTION - Epoch:42\n",
            "EXCEPTION - Epoch:43\n",
            "EXCEPTION - Epoch:44\n",
            "EXCEPTION - Epoch:45\n",
            "EXCEPTION - Epoch:46\n",
            "EXCEPTION - Epoch:47\n",
            "EXCEPTION - Epoch:48\n",
            "EXCEPTION - Epoch:49\n"
          ]
        }
      ]
    },
    {
      "cell_type": "code",
      "source": [
        "[ [k,model.wv.vocab[k]] for k in list(model.wv.vocab.keys())[:10] ] "
      ],
      "metadata": {
        "colab": {
          "base_uri": "https://localhost:8080/"
        },
        "id": "lM43FAGoDO6q",
        "outputId": "5c4463c9-4321-4520-c3f1-ff0422c5150e"
      },
      "execution_count": 24,
      "outputs": [
        {
          "output_type": "execute_result",
          "data": {
            "text/plain": [
              "[['maza', <gensim.models.keyedvectors.Vocab at 0x7fe225942810>],\n",
              " ['diluente', <gensim.models.keyedvectors.Vocab at 0x7fe225942490>],\n",
              " ['p/', <gensim.models.keyedvectors.Vocab at 0x7fe2259429d0>],\n",
              " ['epoxi', <gensim.models.keyedvectors.Vocab at 0x7fe2259420d0>],\n",
              " ['dp-003', <gensim.models.keyedvectors.Vocab at 0x7fe225942e50>],\n",
              " ['5', <gensim.models.keyedvectors.Vocab at 0x7fe225942f50>],\n",
              " ['l', <gensim.models.keyedvectors.Vocab at 0x7fe225942a90>],\n",
              " ['coletor', <gensim.models.keyedvectors.Vocab at 0x7fe225942dd0>],\n",
              " ['mat.perfuro', <gensim.models.keyedvectors.Vocab at 0x7fe225942f90>],\n",
              " ['cortantes', <gensim.models.keyedvectors.Vocab at 0x7fe225942ad0>]]"
            ]
          },
          "metadata": {},
          "execution_count": 24
        }
      ]
    },
    {
      "cell_type": "code",
      "source": [
        "model.wv.most_similar('banana')"
      ],
      "metadata": {
        "colab": {
          "base_uri": "https://localhost:8080/"
        },
        "id": "2jsnLVUgChD2",
        "outputId": "a059eb62-7fdb-4a2d-9808-97d641ec251d"
      },
      "execution_count": 26,
      "outputs": [
        {
          "output_type": "execute_result",
          "data": {
            "text/plain": [
              "[('doce', 0.9964806437492371),\n",
              " ('italiano', 0.9963132739067078),\n",
              " ('maca', 0.9962789416313171),\n",
              " ('gosto', 0.9961317777633667),\n",
              " ('carne', 0.9958438873291016),\n",
              " ('erva', 0.9958282113075256),\n",
              " ('palha', 0.9954505562782288),\n",
              " ('peito', 0.9951665997505188),\n",
              " ('80g', 0.9946790933609009),\n",
              " ('comprida', 0.994544506072998)]"
            ]
          },
          "metadata": {},
          "execution_count": 26
        }
      ]
    },
    {
      "cell_type": "code",
      "source": [
        "test_doc = word_tokenize(\"Banana Prata\".lower())\n",
        "test_doc_vector = model.infer_vector(test_doc)\n",
        "model.docvecs.most_similar(positive = [test_doc_vector])\n",
        "test = model.docvecs.most_similar(positive = [test_doc_vector])\n",
        "#print_res(processed_corpus, df, test)"
      ],
      "metadata": {
        "id": "AzfsRRNhD1DU"
      },
      "execution_count": 27,
      "outputs": []
    },
    {
      "cell_type": "code",
      "source": [
        "test_doc"
      ],
      "metadata": {
        "id": "5MTVOxKUKOHS",
        "outputId": "c86b3855-d3cc-4602-dda2-0ccb39f46e4b",
        "colab": {
          "base_uri": "https://localhost:8080/"
        }
      },
      "execution_count": 28,
      "outputs": [
        {
          "output_type": "execute_result",
          "data": {
            "text/plain": [
              "['banana', 'prata']"
            ]
          },
          "metadata": {},
          "execution_count": 28
        }
      ]
    },
    {
      "cell_type": "code",
      "source": [
        "test"
      ],
      "metadata": {
        "colab": {
          "base_uri": "https://localhost:8080/"
        },
        "id": "ViFf2ddLD9Bl",
        "outputId": "7be8a136-7262-4f6c-b4e8-37da91fad024"
      },
      "execution_count": 29,
      "outputs": [
        {
          "output_type": "execute_result",
          "data": {
            "text/plain": [
              "[(1623, 0.9606497287750244),\n",
              " (3985, 0.9577075839042664),\n",
              " (4008, 0.9563150405883789),\n",
              " (2823, 0.9543777108192444),\n",
              " (571, 0.9535532593727112),\n",
              " (1376, 0.9534583687782288),\n",
              " (1158, 0.9511579871177673),\n",
              " (4198, 0.9501972198486328),\n",
              " (1590, 0.9501474499702454),\n",
              " (1516, 0.9494041800498962)]"
            ]
          },
          "metadata": {},
          "execution_count": 29
        }
      ]
    },
    {
      "cell_type": "code",
      "source": [
        "[[f, text_corpus[i]] for i,f in test]"
      ],
      "metadata": {
        "colab": {
          "base_uri": "https://localhost:8080/"
        },
        "id": "sa15LTKvHRaz",
        "outputId": "d4d522a9-b61d-4a83-a8c7-51046e203350"
      },
      "execution_count": 30,
      "outputs": [
        {
          "output_type": "execute_result",
          "data": {
            "text/plain": [
              "[[0.9606497287750244, 'MARACUJA IN NATURA  AZEDO -COMUM-DOCE'],\n",
              " [0.9577075839042664, 'FRUTA IN NATURA, TIPO MELAO, ESPECIE AMARELO.'],\n",
              " [0.9563150405883789, 'PEIXE IN NATURA BADEJO FILÉ'],\n",
              " [0.9543777108192444, 'MARACUJA, FRUTA IN NATURA'],\n",
              " [0.9535532593727112,\n",
              "  'ALFACE, hortaliça tipo alface IN  NATURA espécie AMERICANA'],\n",
              " [0.9534583687782288, 'FRUTA IN NAT. TIPO UVA THOMPSON'],\n",
              " [0.9511579871177673,\n",
              "  'BATATA DOCE ROXA IN NATURA DE MARCA RUBEN O. H. E FAMILHA'],\n",
              " [0.9501972198486328, 'TOMATE IN NATURA- REGIONAL'],\n",
              " [0.9501474499702454, 'VERDURA IN NATURA TIPO ASPARGO CEASA'],\n",
              " [0.9494041800498962, 'LEGUME IN NATURA ABOBORA CABOTIA']]"
            ]
          },
          "metadata": {},
          "execution_count": 30
        }
      ]
    },
    {
      "cell_type": "code",
      "source": [
        "#model.save(\"w2vec_pdt_50000\")\n",
        "#model2 = Word2Vec.load(\"w2vec_pdt_50000\")"
      ],
      "metadata": {
        "id": "PX0pz7oFHtmi"
      },
      "execution_count": 30,
      "outputs": []
    },
    {
      "cell_type": "code",
      "source": [
        "test_doc_vector"
      ],
      "metadata": {
        "colab": {
          "base_uri": "https://localhost:8080/"
        },
        "id": "RsJ8_Vy6KCC_",
        "outputId": "dd8ba19f-44f4-4997-8683-d3799433c8df"
      },
      "execution_count": 31,
      "outputs": [
        {
          "output_type": "execute_result",
          "data": {
            "text/plain": [
              "array([ 0.03045183,  0.06055615,  0.07528403,  0.0658661 , -0.00583417,\n",
              "       -0.01361969,  0.00727221,  0.01313674,  0.04635966,  0.10438547,\n",
              "       -0.04508291, -0.04548608,  0.07322343, -0.05182745, -0.06188191,\n",
              "       -0.00751843, -0.08026696, -0.00235456, -0.06866182,  0.05884925,\n",
              "        0.06807704,  0.10081378, -0.06093415, -0.01940469,  0.04883005,\n",
              "        0.12204661, -0.05613111, -0.04359748, -0.05033917, -0.06817108,\n",
              "       -0.0424636 ,  0.01696943,  0.0414967 , -0.08759614,  0.03272062,\n",
              "        0.00432552,  0.08424609, -0.06602837, -0.0336484 , -0.07946977,\n",
              "       -0.06376063, -0.04724967,  0.10341619,  0.02827588, -0.06849603,\n",
              "       -0.05045012, -0.11865906,  0.05933263,  0.06873821,  0.01235548],\n",
              "      dtype=float32)"
            ]
          },
          "metadata": {},
          "execution_count": 31
        }
      ]
    },
    {
      "cell_type": "code",
      "source": [
        "test_doc"
      ],
      "metadata": {
        "id": "lIDn6UjYKjTh",
        "outputId": "4031ec0e-caea-427e-bc52-1161d90a310b",
        "colab": {
          "base_uri": "https://localhost:8080/"
        }
      },
      "execution_count": 32,
      "outputs": [
        {
          "output_type": "execute_result",
          "data": {
            "text/plain": [
              "['banana', 'prata']"
            ]
          },
          "metadata": {},
          "execution_count": 32
        }
      ]
    },
    {
      "cell_type": "markdown",
      "source": [
        "#Open ISSUE 2 - Cada vez que roda a linha abaixo dá um valor diferente.\n",
        "Alguns cases de teste na sequência indicam que o modelo se comporta assim mesmo"
      ],
      "metadata": {
        "id": "pY1i7hWVK7dX"
      }
    },
    {
      "cell_type": "code",
      "source": [
        ""
      ],
      "metadata": {
        "id": "NndpdgmoQIuu",
        "outputId": "c23654e9-1086-47b7-d09a-3901cb1b0c32",
        "colab": {
          "base_uri": "https://localhost:8080/",
          "height": 183
        }
      },
      "execution_count": 135,
      "outputs": [
        {
          "output_type": "error",
          "ename": "TypeError",
          "evalue": "ignored",
          "traceback": [
            "\u001b[0;31m---------------------------------------------------------------------------\u001b[0m",
            "\u001b[0;31mTypeError\u001b[0m                                 Traceback (most recent call last)",
            "\u001b[0;32m<ipython-input-135-7926759f53a0>\u001b[0m in \u001b[0;36m<module>\u001b[0;34m()\u001b[0m\n\u001b[1;32m      1\u001b[0m \u001b[0;32mimport\u001b[0m \u001b[0mrandom\u001b[0m\u001b[0;34m\u001b[0m\u001b[0;34m\u001b[0m\u001b[0m\n\u001b[0;32m----> 2\u001b[0;31m \u001b[0mrandom\u001b[0m\u001b[0;34m.\u001b[0m\u001b[0mseed\u001b[0m\u001b[0;34m(\u001b[0m\u001b[0;36m42\u001b[0m\u001b[0;34m)\u001b[0m\u001b[0;34m\u001b[0m\u001b[0;34m\u001b[0m\u001b[0m\n\u001b[0m",
            "\u001b[0;31mTypeError\u001b[0m: 'int' object is not callable"
          ]
        }
      ]
    },
    {
      "cell_type": "code",
      "source": [
        "model.infer_vector(test_doc)"
      ],
      "metadata": {
        "colab": {
          "base_uri": "https://localhost:8080/"
        },
        "id": "Rnx1PIwgKV_b",
        "outputId": "df9e9c8d-c7b5-467b-aef0-f82218432150"
      },
      "execution_count": 33,
      "outputs": [
        {
          "output_type": "execute_result",
          "data": {
            "text/plain": [
              "array([ 0.0385285 ,  0.05672569,  0.08533668,  0.07049421, -0.0026066 ,\n",
              "       -0.00414151,  0.01721593,  0.01359841,  0.04721485,  0.10134888,\n",
              "       -0.03947228, -0.03643089,  0.0687483 , -0.04035958, -0.0583905 ,\n",
              "       -0.00658928, -0.09317087,  0.00689808, -0.05039513,  0.05913953,\n",
              "        0.07407943,  0.09665654, -0.07358915, -0.01440042,  0.06269316,\n",
              "        0.11572497, -0.06178372, -0.03872296, -0.04529771, -0.07225634,\n",
              "       -0.04057653,  0.03122861,  0.04413327, -0.09733082,  0.01658273,\n",
              "       -0.00223201,  0.08426534, -0.06837693, -0.03733423, -0.0764768 ,\n",
              "       -0.05859793, -0.04076447,  0.10755017,  0.02315042, -0.06138073,\n",
              "       -0.05209141, -0.12750287,  0.06154627,  0.06475346,  0.02080835],\n",
              "      dtype=float32)"
            ]
          },
          "metadata": {},
          "execution_count": 33
        }
      ]
    },
    {
      "cell_type": "code",
      "source": [
        "from numpy import dot\n",
        "from numpy.linalg import norm\n",
        "\n",
        "def cos_sim(a,b):\n",
        "  return dot(a, b)/(norm(a)*norm(b))\n",
        "#  return norm(a-b) #Para teste rápido com a distância euclidiana\n"
      ],
      "metadata": {
        "id": "2XIpQZmxKfhQ"
      },
      "execution_count": 34,
      "outputs": []
    },
    {
      "cell_type": "code",
      "source": [
        "dotprodstl = []\n",
        "for i in range(100):\n",
        "  test_doc = [\"tomate\"]\n",
        "  random.seed(42)\n",
        "  a = model.infer_vector(test_doc)\n",
        "  random.seed(42)\n",
        "  test_doc = [\"livro\"]\n",
        "  b = model.infer_vector(test_doc)\n",
        "  dotprodstl += [cos_sim(a,b)]\n",
        "plt.hist(dotprodstl, bins=100, range=(0,1))\n",
        "plt.show()"
      ],
      "metadata": {
        "id": "XwUAEx2HLJU8",
        "outputId": "cdd028e0-a2b2-4908-d600-9acedc7b6182",
        "colab": {
          "base_uri": "https://localhost:8080/",
          "height": 268
        }
      },
      "execution_count": 36,
      "outputs": [
        {
          "output_type": "display_data",
          "data": {
            "text/plain": [
              "<Figure size 432x288 with 1 Axes>"
            ],
            "image/png": "[encoded data removed]"
          },
          "metadata": {
            "needs_background": "light"
          }
        }
      ]
    },
    {
      "cell_type": "code",
      "source": [
        "dotprodstt = []\n",
        "for i in range(100):\n",
        "  test_doc = [\"tomate\"]\n",
        "  a = model.infer_vector(test_doc)\n",
        "  test_doc = [\"tomate\"]\n",
        "  b = model.infer_vector(test_doc)\n",
        "  dotprodstt += [cos_sim(a,b)]\n",
        "plt.hist(dotprodstt, bins=100, range=(0,1))\n",
        "plt.show()"
      ],
      "metadata": {
        "id": "XEtN5BKULb3Q",
        "outputId": "27471902-c1a3-4b37-fda5-0c3b0b13be4a",
        "colab": {
          "base_uri": "https://localhost:8080/",
          "height": 265
        }
      },
      "execution_count": 37,
      "outputs": [
        {
          "output_type": "display_data",
          "data": {
            "text/plain": [
              "<Figure size 432x288 with 1 Axes>"
            ],
            "image/png": "[encoded data removed]"
          },
          "metadata": {
            "needs_background": "light"
          }
        }
      ]
    },
    {
      "cell_type": "code",
      "source": [
        "dotprodsll = []\n",
        "for i in range(100):\n",
        "  test_doc = [\"livro\"]\n",
        "  a = model.infer_vector(test_doc)\n",
        "  test_doc = [\"livro\"]\n",
        "  b = model.infer_vector(test_doc)\n",
        "  dotprodsll += [cos_sim(a,b)]\n",
        "plt.hist(dotprodsll, bins=100, range=(0,1))\n",
        "plt.show()"
      ],
      "metadata": {
        "id": "-n3V8cqVLchI",
        "outputId": "85b0bd9c-1c84-43d3-d997-d92acb3f2b56",
        "colab": {
          "base_uri": "https://localhost:8080/",
          "height": 265
        }
      },
      "execution_count": 38,
      "outputs": [
        {
          "output_type": "display_data",
          "data": {
            "text/plain": [
              "<Figure size 432x288 with 1 Axes>"
            ],
            "image/png": "[encoded data removed]"
          },
          "metadata": {
            "needs_background": "light"
          }
        }
      ]
    },
    {
      "cell_type": "code",
      "source": [
        "plt.hist(dotprodsll, bins=100, range=(0,1))\n",
        "plt.hist(dotprodstt, bins=100, range=(0,1))\n",
        "plt.hist(dotprodstl, bins=100, range=(0,1))\n",
        "plt.show()"
      ],
      "metadata": {
        "id": "RA0uF4n0M9Ki",
        "outputId": "b76d63fd-b104-4445-d762-dc78bbae323f",
        "colab": {
          "base_uri": "https://localhost:8080/",
          "height": 265
        }
      },
      "execution_count": 39,
      "outputs": [
        {
          "output_type": "display_data",
          "data": {
            "text/plain": [
              "<Figure size 432x288 with 1 Axes>"
            ],
            "image/png": "[encoded data removed]"
          },
          "metadata": {
            "needs_background": "light"
          }
        }
      ]
    },
    {
      "cell_type": "code",
      "source": [
        "dotprodstl = []\n",
        "for i in range(100):\n",
        "  test_doc = [\"lacasfds\"]\n",
        "  a = model.infer_vector(test_doc)\n",
        "  test_doc = [\"lacasfds\"]\n",
        "  b = model.infer_vector(test_doc)\n",
        "  dotprodstl += [cos_sim(a,b)]\n",
        "plt.hist(dotprodstl, bins=100, range=(0,1))\n",
        "plt.show()"
      ],
      "metadata": {
        "id": "aUVkQ35FNTYi",
        "outputId": "6d2dc42b-2672-4885-e5bf-43222c9464a9",
        "colab": {
          "base_uri": "https://localhost:8080/",
          "height": 265
        }
      },
      "execution_count": 40,
      "outputs": [
        {
          "output_type": "display_data",
          "data": {
            "text/plain": [
              "<Figure size 432x288 with 1 Axes>"
            ],
            "image/png": "[encoded data removed]"
          },
          "metadata": {
            "needs_background": "light"
          }
        }
      ]
    },
    {
      "cell_type": "code",
      "source": [
        ""
      ],
      "metadata": {
        "id": "8YTExFmDPT74"
      },
      "execution_count": null,
      "outputs": []
    }
  ]
}