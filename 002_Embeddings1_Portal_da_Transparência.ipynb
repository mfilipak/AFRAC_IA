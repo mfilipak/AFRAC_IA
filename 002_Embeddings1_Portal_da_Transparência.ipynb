{
  "nbformat": 4,
  "nbformat_minor": 0,
  "metadata": {
    "colab": {
      "name": "002 - Embeddings1 - Portal da Transparência.ipynb",
      "provenance": [],
      "authorship_tag": "ABX9TyPB5t48EE/xpeB9OI4aGR2b",
      "include_colab_link": true
    },
    "kernelspec": {
      "name": "python3",
      "display_name": "Python 3"
    },
    "language_info": {
      "name": "python"
    }
  },
  "cells": [
    {
      "cell_type": "markdown",
      "metadata": {
        "id": "view-in-github",
        "colab_type": "text"
      },
      "source": [
        "<a href=\"https://colab.research.google.com/github/mfilipak/AFRAC_IA/blob/main/002_Embeddings1_Portal_da_Transpar%C3%AAncia.ipynb\" target=\"_parent\"><img src=\"https://colab.research.google.com/assets/colab-badge.svg\" alt=\"Open In Colab\"/></a>"
      ]
    },
    {
      "cell_type": "markdown",
      "source": [
        "# EM CONSTRUÇÃO"
      ],
      "metadata": {
        "id": "ANdfGpMVsm6B"
      }
    },
    {
      "cell_type": "markdown",
      "source": [
        "# Experimento 002\n",
        "##Objetivo: Experimentos com word embeddings usando como corpo o campo de descrição do dataset público do portal da transparência.\n",
        "###Descrição: Experimentos iniciais para criação e visualização de word embeddings"
      ],
      "metadata": {
        "id": "d5G4UIQLkvr1"
      }
    },
    {
      "cell_type": "markdown",
      "source": [
        "Dica: No COLAB Use CTRL SPACE ao invés de TAB para \"autocompletar\". Ex:pd.re [CTRL SPACE] vai mostrar uma lista contendo as funções e atributos que começam com pd.re (como read_csv, ...) "
      ],
      "metadata": {
        "id": "F9TFhfPOld7Z"
      }
    },
    {
      "cell_type": "code",
      "source": [
        "from glob import glob\n",
        "import pandas as pd\n",
        "import numpy as np\n",
        "import matplotlib.pyplot as plt\n",
        "import seaborn as sns\n",
        "import random\n",
        "import pprint\n",
        "\n",
        "from gensim.models import Word2Vec\n",
        "#from sentence_transformers import SentenceTransformer\n",
        "import joblib\n",
        "from nltk.corpus import stopwords\n",
        "from nltk.tokenize import word_tokenize"
      ],
      "metadata": {
        "id": "Nvzp4RpDlHTq"
      },
      "execution_count": 1,
      "outputs": []
    },
    {
      "cell_type": "code",
      "source": [
        "import nltk\n",
        "nltk.download('punkt')"
      ],
      "metadata": {
        "id": "NMc2HxxMGauw",
        "outputId": "7e0bf1ab-d557-439a-b9a2-ba77c7f5181f",
        "colab": {
          "base_uri": "https://localhost:8080/"
        }
      },
      "execution_count": 2,
      "outputs": [
        {
          "output_type": "stream",
          "name": "stdout",
          "text": [
            "[nltk_data] Downloading package punkt to /root/nltk_data...\n",
            "[nltk_data]   Package punkt is already up-to-date!\n"
          ]
        },
        {
          "output_type": "execute_result",
          "data": {
            "text/plain": [
              "True"
            ]
          },
          "metadata": {},
          "execution_count": 2
        }
      ]
    },
    {
      "cell_type": "markdown",
      "source": [
        "#1 - Carga do dataset"
      ],
      "metadata": {
        "id": "nHAJmE8HtX7V"
      }
    },
    {
      "cell_type": "code",
      "source": [
        "#Copia os dados das NFEs do portal da cidadância pro drive virtual.\n",
        "import requests  \n",
        "file_url = \"https://raw.githubusercontent.com//mfilipak/AFRAC_IA/main/DATASET/202201_NFe_NotaFiscalItem.zip\"\n",
        "r = requests.get(file_url, stream = True) \n",
        "\n",
        "with open(\"portal.zip\", \"wb\") as file:  \n",
        "    for block in r.iter_content(chunk_size = 1024): \n",
        "         if block:  \n",
        "             file.write(block)\n",
        "\n",
        "DATA_FILE = \"portal.zip\"\n",
        "df = pd.read_csv(DATA_FILE, encoding=\"CP1252\",sep=\";\")\n",
        "print(\"O dataframe completo contém:\",len(df),\"linhas\")"
      ],
      "metadata": {
        "colab": {
          "base_uri": "https://localhost:8080/"
        },
        "id": "0tBOpT5elhBD",
        "outputId": "60e534d9-b662-4a39-9606-b18db2655611"
      },
      "execution_count": 3,
      "outputs": [
        {
          "output_type": "stream",
          "name": "stdout",
          "text": [
            "O dataframe completo contém: 324056 linhas\n"
          ]
        }
      ]
    },
    {
      "cell_type": "code",
      "source": [
        "df3 = df[['DATA EMISSÃO','DESCRIÇÃO DO PRODUTO/SERVIÇO', 'CÓDIGO NCM/SH', 'CFOP']]\n",
        "df3.columns = [\"DATA\", \"DESCR\", \"NCM\", \"CFOP\"]\n",
        "df3 = df3[df3[\"NCM\"]!=-1] #Filtrando NCMs = -1\n",
        "\n",
        "text_lengths = np.array([len(_) for _ in df3['DESCR']])\n",
        "df3 = df3[text_lengths>=3]\n",
        "\n",
        "#Caso queira eliminar as repetições rodar a linha abaixo\n",
        "df3 = df3.drop_duplicates(subset=[\"DESCR\"])"
      ],
      "metadata": {
        "id": "8IVtFSawlr_T"
      },
      "execution_count": 4,
      "outputs": []
    },
    {
      "cell_type": "markdown",
      "source": [
        "#2 - Carga do text corpus"
      ],
      "metadata": {
        "id": "fkOffymdtdem"
      }
    },
    {
      "cell_type": "code",
      "source": [
        "#No jargão do doc2vec, cada descrição é um document e o conjunto de docs um corpus\n",
        "#Link: https://radimrehurek.com/gensim/auto_examples/core/run_core_concepts.html#sphx-glr-auto-examples-core-run-core-concepts-py\n",
        "random.seed(42)\n",
        "#text_corpus = random.sample(list(df3[\"DESCR\"]), 100)\n",
        "text_corpus = random.sample(list(df3[\"DESCR\"][:30]), 10)\n",
        "text_corpus\n",
        "#Deixar bem curtinho o corpo pra ir arrumando o código e testando os resultados. Pra sequência abaixo fazer mais sentido é bom que tenha alguma repetição de palavras"
      ],
      "metadata": {
        "colab": {
          "base_uri": "https://localhost:8080/"
        },
        "id": "p03O8O4snNlL",
        "outputId": "63ec90c9-1f3f-41f6-824a-4d846446a33e"
      },
      "execution_count": 5,
      "outputs": [
        {
          "output_type": "execute_result",
          "data": {
            "text/plain": [
              "['GASOLINA COMUM',\n",
              " 'MLTD203UXAZ CARTUCHO DE TONER PRETO 15K PAGINAS',\n",
              " 'HP RESERVATORIO DE RESIDUO DE TONER',\n",
              " 'UVA ITALIA',\n",
              " 'CLTC603LXAZ CARTUCHO DE TONER CIANO 10K PAGINAS',\n",
              " 'CARTUCHO DE TONER AMARELO 3.5K PAGINAS',\n",
              " 'CENOURA',\n",
              " 'CLTC506LXAZ CARTUCHO DE TONER CIANO 3.5K PAGINAS',\n",
              " 'PLACA LED ILUMINACAO',\n",
              " 'OLEO DIESEL B S10 ADITIVADO GRID']"
            ]
          },
          "metadata": {},
          "execution_count": 5
        }
      ]
    },
    {
      "cell_type": "markdown",
      "source": [
        "#3 - Determinando as palavras muito frequentes "
      ],
      "metadata": {
        "id": "cqWJ3wiPuOee"
      }
    },
    {
      "cell_type": "code",
      "source": [
        "all_words = []\n",
        "for d in list(df3[\"DESCR\"]):\n",
        "    all_words += d.split()\n",
        "words_counts = pd.DataFrame(all_words).value_counts()\n",
        "print(\"Palavras mais frequentemente encontradas\")\n",
        "print(\" \".join([_[0] for _ in words_counts.index[:30]]))"
      ],
      "metadata": {
        "colab": {
          "base_uri": "https://localhost:8080/"
        },
        "id": "IacZC5SuuTIb",
        "outputId": "559d1a7f-3bb3-41f6-8a29-99379c430bd5"
      },
      "execution_count": 6,
      "outputs": [
        {
          "output_type": "stream",
          "name": "stdout",
          "text": [
            "Palavras mais frequentemente encontradas\n",
            "- DE E PARA X COM 1 EM TIPO de A | DO FILTRO C/ DA MM 2 / PARAFUSO CABO Lote: P/ OLEO 100 Ed O MATERIAL 10 KG\n"
          ]
        }
      ]
    },
    {
      "cell_type": "code",
      "source": [
        ""
      ],
      "metadata": {
        "id": "midICNFs5EsQ"
      },
      "execution_count": 6,
      "outputs": []
    },
    {
      "cell_type": "markdown",
      "source": [
        "#4 - Seguindo com o tutorial do doc2vec (Que usa o modelo mais simples tf-idf)"
      ],
      "metadata": {
        "id": "tFniLr5d5GEp"
      }
    },
    {
      "cell_type": "code",
      "source": [
        "stoplist = set('- DE E PARA X COM EM TIPO de A | DO C/ DA / P/ Ed O'.split(' '))"
      ],
      "metadata": {
        "id": "WM51S5pavnLK"
      },
      "execution_count": 7,
      "outputs": []
    },
    {
      "cell_type": "code",
      "source": [
        "# Lowercase each document, split it by white space and filter out stopwords\n",
        "texts = [[word for word in document.lower().split() if word not in stoplist]\n",
        "         for document in text_corpus]\n",
        "\n",
        "# Count word frequencies\n",
        "from collections import defaultdict\n",
        "frequency = defaultdict(int)\n",
        "for text in texts:\n",
        "    for token in text:\n",
        "        frequency[token] += 1\n",
        "\n",
        "# Only keep words that appear more than once\n",
        "#Ignorei esse filtro pois com poucos exemplos iria cortar quase tudo\n",
        "processed_corpus = [[token for token in text if frequency[token] > 0] for text in texts]\n",
        "pprint.pprint(processed_corpus)"
      ],
      "metadata": {
        "colab": {
          "base_uri": "https://localhost:8080/"
        },
        "id": "IhZWW1bAwEDZ",
        "outputId": "d9b0f3ab-3b2d-4b60-f49b-dcea8ef3dc3a"
      },
      "execution_count": 8,
      "outputs": [
        {
          "output_type": "stream",
          "name": "stdout",
          "text": [
            "[['gasolina', 'comum'],\n",
            " ['mltd203uxaz', 'cartucho', 'toner', 'preto', '15k', 'paginas'],\n",
            " ['hp', 'reservatorio', 'residuo', 'toner'],\n",
            " ['uva', 'italia'],\n",
            " ['cltc603lxaz', 'cartucho', 'toner', 'ciano', '10k', 'paginas'],\n",
            " ['cartucho', 'toner', 'amarelo', '3.5k', 'paginas'],\n",
            " ['cenoura'],\n",
            " ['cltc506lxaz', 'cartucho', 'toner', 'ciano', '3.5k', 'paginas'],\n",
            " ['placa', 'led', 'iluminacao'],\n",
            " ['oleo', 'diesel', 'b', 's10', 'aditivado', 'grid']]\n"
          ]
        }
      ]
    },
    {
      "cell_type": "code",
      "source": [
        "processed_corpus[0] = processed_corpus[0]+processed_corpus[0] #Forcei uma palavra repetida na descrição somente para ter um exemplo\n",
        "processed_corpus"
      ],
      "metadata": {
        "colab": {
          "base_uri": "https://localhost:8080/"
        },
        "id": "Dw0RuVx86Kr5",
        "outputId": "0e090ecc-6cdf-4eed-d750-3a92d9a1dfc2"
      },
      "execution_count": 9,
      "outputs": [
        {
          "output_type": "execute_result",
          "data": {
            "text/plain": [
              "[['gasolina', 'comum', 'gasolina', 'comum'],\n",
              " ['mltd203uxaz', 'cartucho', 'toner', 'preto', '15k', 'paginas'],\n",
              " ['hp', 'reservatorio', 'residuo', 'toner'],\n",
              " ['uva', 'italia'],\n",
              " ['cltc603lxaz', 'cartucho', 'toner', 'ciano', '10k', 'paginas'],\n",
              " ['cartucho', 'toner', 'amarelo', '3.5k', 'paginas'],\n",
              " ['cenoura'],\n",
              " ['cltc506lxaz', 'cartucho', 'toner', 'ciano', '3.5k', 'paginas'],\n",
              " ['placa', 'led', 'iluminacao'],\n",
              " ['oleo', 'diesel', 'b', 's10', 'aditivado', 'grid']]"
            ]
          },
          "metadata": {},
          "execution_count": 9
        }
      ]
    },
    {
      "cell_type": "code",
      "source": [
        "from gensim import corpora\n",
        "dictionary = corpora.Dictionary(processed_corpus)\n",
        "print(dictionary)"
      ],
      "metadata": {
        "colab": {
          "base_uri": "https://localhost:8080/"
        },
        "id": "aeBPOvNSx13o",
        "outputId": "3444ff6e-c6f5-4e37-eb94-a40fcccc27a1"
      },
      "execution_count": 10,
      "outputs": [
        {
          "output_type": "stream",
          "name": "stdout",
          "text": [
            "Dictionary(29 unique tokens: ['comum', 'gasolina', '15k', 'cartucho', 'mltd203uxaz']...)\n"
          ]
        }
      ]
    },
    {
      "cell_type": "code",
      "source": [
        "pprint.pprint(dictionary.token2id)"
      ],
      "metadata": {
        "colab": {
          "base_uri": "https://localhost:8080/"
        },
        "id": "MHt4VSMmz8W-",
        "outputId": "bf4d3086-3191-479a-b4d3-586bef1d2244"
      },
      "execution_count": 11,
      "outputs": [
        {
          "output_type": "stream",
          "name": "stdout",
          "text": [
            "{'10k': 13,\n",
            " '15k': 2,\n",
            " '3.5k': 16,\n",
            " 'aditivado': 23,\n",
            " 'amarelo': 17,\n",
            " 'b': 24,\n",
            " 'cartucho': 3,\n",
            " 'cenoura': 18,\n",
            " 'ciano': 14,\n",
            " 'cltc506lxaz': 19,\n",
            " 'cltc603lxaz': 15,\n",
            " 'comum': 0,\n",
            " 'diesel': 25,\n",
            " 'gasolina': 1,\n",
            " 'grid': 26,\n",
            " 'hp': 8,\n",
            " 'iluminacao': 20,\n",
            " 'italia': 11,\n",
            " 'led': 21,\n",
            " 'mltd203uxaz': 4,\n",
            " 'oleo': 27,\n",
            " 'paginas': 5,\n",
            " 'placa': 22,\n",
            " 'preto': 6,\n",
            " 'reservatorio': 9,\n",
            " 'residuo': 10,\n",
            " 's10': 28,\n",
            " 'toner': 7,\n",
            " 'uva': 12}\n"
          ]
        }
      ]
    },
    {
      "cell_type": "code",
      "source": [
        "bow_corpus = [dictionary.doc2bow(text) for text in processed_corpus]\n",
        "pprint.pprint(bow_corpus)\n",
        "#The first entry in each tuple corresponds to the ID of the token in the dictionary, the second corresponds to the count of this token."
      ],
      "metadata": {
        "colab": {
          "base_uri": "https://localhost:8080/"
        },
        "id": "d9cOGkzG0IwE",
        "outputId": "fc45d2a3-1754-4f2e-f5b5-d3cb491fecc0"
      },
      "execution_count": 12,
      "outputs": [
        {
          "output_type": "stream",
          "name": "stdout",
          "text": [
            "[[(0, 2), (1, 2)],\n",
            " [(2, 1), (3, 1), (4, 1), (5, 1), (6, 1), (7, 1)],\n",
            " [(7, 1), (8, 1), (9, 1), (10, 1)],\n",
            " [(11, 1), (12, 1)],\n",
            " [(3, 1), (5, 1), (7, 1), (13, 1), (14, 1), (15, 1)],\n",
            " [(3, 1), (5, 1), (7, 1), (16, 1), (17, 1)],\n",
            " [(18, 1)],\n",
            " [(3, 1), (5, 1), (7, 1), (14, 1), (16, 1), (19, 1)],\n",
            " [(20, 1), (21, 1), (22, 1)],\n",
            " [(23, 1), (24, 1), (25, 1), (26, 1), (27, 1), (28, 1)]]\n"
          ]
        }
      ]
    },
    {
      "cell_type": "code",
      "source": [
        "new_doc = \"gasolina hp hp interaction uva\"\n",
        "new_vec = dictionary.doc2bow(new_doc.lower().split())\n",
        "print(new_vec)\n",
        "#Como interaction não existe no dicionário ele não insere o token "
      ],
      "metadata": {
        "colab": {
          "base_uri": "https://localhost:8080/"
        },
        "id": "Vk6euDKj01dM",
        "outputId": "d3b93640-675c-4e9f-e0ea-abaa60cfb076"
      },
      "execution_count": 13,
      "outputs": [
        {
          "output_type": "stream",
          "name": "stdout",
          "text": [
            "[(1, 1), (8, 2), (12, 1)]\n"
          ]
        }
      ]
    },
    {
      "cell_type": "code",
      "source": [
        "from gensim import models\n",
        "\n",
        "# train the model\n",
        "tfidf = models.TfidfModel(bow_corpus)\n",
        "# transform the \"system minors\" string\n",
        "words = \"gasolina hp CIANO\".lower().split()\n",
        "print(tfidf[dictionary.doc2bow(words)])"
      ],
      "metadata": {
        "colab": {
          "base_uri": "https://localhost:8080/"
        },
        "id": "iE2mcb4y7B4v",
        "outputId": "33186dd0-a640-4e66-ac16-2165c0e86eda"
      },
      "execution_count": 14,
      "outputs": [
        {
          "output_type": "stream",
          "name": "stdout",
          "text": [
            "[(1, 0.633907694445084), (8, 0.633907694445084), (14, 0.44308246393491596)]\n"
          ]
        }
      ]
    },
    {
      "cell_type": "markdown",
      "source": [
        "#5 - Agora com word2vec\n",
        "Base: https://github.com/mfilipak/AFRAC_IA/blob/main/Analise_Descricao_versus_NCM.ipynb"
      ],
      "metadata": {
        "id": "Sl158ThSAh-y"
      }
    },
    {
      "cell_type": "code",
      "source": [
        "random.seed=42\n",
        "text_corpus = random.sample(list(df3[\"DESCR\"]),50000)\n",
        "len(text_corpus)\n",
        "#Deixar bem curtinho o corpo pra ir arrumando o código e testando os resultados. Pra sequência abaixo fazer mais sentido é bom que tenha alguma repetição de palavras"
      ],
      "metadata": {
        "colab": {
          "base_uri": "https://localhost:8080/"
        },
        "id": "N_IsyuwD7usM",
        "outputId": "6261cc9d-9b70-4e40-c312-f4a3eeedbf65"
      },
      "execution_count": 15,
      "outputs": [
        {
          "output_type": "execute_result",
          "data": {
            "text/plain": [
              "50000"
            ]
          },
          "metadata": {},
          "execution_count": 15
        }
      ]
    },
    {
      "cell_type": "code",
      "source": [
        "text_corpus[:5]"
      ],
      "metadata": {
        "colab": {
          "base_uri": "https://localhost:8080/"
        },
        "id": "byEb5r5J9w8t",
        "outputId": "66a5228a-edb9-49e8-8a4e-f005c0d2a09d"
      },
      "execution_count": 16,
      "outputs": [
        {
          "output_type": "execute_result",
          "data": {
            "text/plain": [
              "['MEDIDOR DE CONDILO',\n",
              " 'PULVERIZADOR BOMBA FLITZ 370ML - GUARANY',\n",
              " 'MACA ARGENTINA KG',\n",
              " 'Case para Arduino Uno em MDF',\n",
              " 'REAGENTE PLACA 96 POCOS OTICA']"
            ]
          },
          "metadata": {},
          "execution_count": 16
        }
      ]
    },
    {
      "cell_type": "markdown",
      "source": [
        "#5.1 - Tokeniza"
      ],
      "metadata": {
        "id": "Rollr6GpCGxY"
      }
    },
    {
      "cell_type": "code",
      "source": [
        "stoplist = set('- DE E PARA X COM EM TIPO de A | DO C/ DA / P/ Ed O'.split(' '))\n",
        "# Lowercase each document, split it by white space and filter out stopwords\n",
        "texts = [[word for word in document.lower().split() if word not in stoplist]\n",
        "         for document in text_corpus]\n",
        "\n",
        "# Count word frequencies\n",
        "from collections import defaultdict\n",
        "frequency = defaultdict(int)\n",
        "for text in texts:\n",
        "    for token in text:\n",
        "        frequency[token] += 1\n",
        "\n",
        "# Only keep words that appear more than once\n",
        "#Ignorei esse filtro pois com poucos exemplos iria cortar quase tudo\n",
        "processed_corpus = [[token for token in text if frequency[token] > 0] for text in texts]\n",
        "pprint.pprint(processed_corpus[:5])"
      ],
      "metadata": {
        "colab": {
          "base_uri": "https://localhost:8080/"
        },
        "id": "eA1glhML-9Rb",
        "outputId": "4a1745a7-0901-4d4c-8609-9e232177a23e"
      },
      "execution_count": 17,
      "outputs": [
        {
          "output_type": "stream",
          "name": "stdout",
          "text": [
            "[['medidor', 'condilo'],\n",
            " ['pulverizador', 'bomba', 'flitz', '370ml', 'guarany'],\n",
            " ['maca', 'argentina', 'kg'],\n",
            " ['case', 'para', 'arduino', 'uno', 'em', 'mdf'],\n",
            " ['reagente', 'placa', '96', 'pocos', 'otica']]\n"
          ]
        }
      ]
    },
    {
      "cell_type": "markdown",
      "source": [
        "#5.2 - Cria modelo"
      ],
      "metadata": {
        "id": "cAOROm-MCOck"
      }
    },
    {
      "cell_type": "code",
      "source": [
        "from gensim.models.doc2vec import Doc2Vec, TaggedDocument\n",
        "tagged_data = [TaggedDocument(d, [i]) for i, d in enumerate(processed_corpus)]"
      ],
      "metadata": {
        "id": "ur-g2PINBt_p"
      },
      "execution_count": 18,
      "outputs": []
    },
    {
      "cell_type": "code",
      "source": [
        "from gensim.test.utils import common_texts, get_tmpfile\n",
        "from gensim.models import Word2Vec\n",
        "from gensim.models.callbacks import CallbackAny2Vec\n",
        "\n",
        "#import logging\n",
        "#logging.basicConfig(format='%(asctime)s : %(levelname)s : %(message)s', level=logging.INFO)\n",
        "\n",
        "class callback(CallbackAny2Vec):\n",
        "    '''Callback to print loss after each epoch.'''\n",
        "\n",
        "    def __init__(self):\n",
        "        self.epoch = 0\n",
        "\n",
        "    def on_epoch_end(self, model):\n",
        "        try:\n",
        "          loss = model.get_latest_training_loss()\n",
        "          print('Loss after epoch {}: {}'.format(self.epoch, loss))\n",
        "        except:\n",
        "          print(f\"EXCEPTION - Epoch:{self.epoch}\")\n",
        "        self.epoch += 1\n",
        "\n",
        "#model = Word2Vec(common_texts, size=100, window=5, min_count=1, \n",
        "#                 compute_loss=True, callbacks=[callback()])"
      ],
      "metadata": {
        "id": "d1KwTqnnMuE3"
      },
      "execution_count": 19,
      "outputs": []
    },
    {
      "cell_type": "code",
      "source": [
        "#Para 5000 itens e 200 epochs leva cerca de 2min\n",
        "#Para 50000 e 10 epochs cerca de 1 minuto\n",
        "model = Doc2Vec(tagged_data, vector_size = 50, window = 2, min_count = 1, epochs = 10, callbacks=[callback()])"
      ],
      "metadata": {
        "colab": {
          "base_uri": "https://localhost:8080/"
        },
        "collapsed": true,
        "id": "Xh3bY1DqCRZP",
        "outputId": "d0173b07-4cfc-42ac-f997-f17aa87b6545"
      },
      "execution_count": 20,
      "outputs": [
        {
          "output_type": "stream",
          "name": "stdout",
          "text": [
            "EXCEPTION - Epoch:0\n",
            "EXCEPTION - Epoch:1\n",
            "EXCEPTION - Epoch:2\n",
            "EXCEPTION - Epoch:3\n",
            "EXCEPTION - Epoch:4\n",
            "EXCEPTION - Epoch:5\n",
            "EXCEPTION - Epoch:6\n",
            "EXCEPTION - Epoch:7\n",
            "EXCEPTION - Epoch:8\n",
            "EXCEPTION - Epoch:9\n"
          ]
        }
      ]
    },
    {
      "cell_type": "code",
      "source": [
        "[ [k,model.wv.vocab[k]] for k in list(model.wv.vocab.keys())[:10] ] "
      ],
      "metadata": {
        "id": "lM43FAGoDO6q",
        "outputId": "84283008-2e93-4e69-c5b0-d87b18308aeb",
        "colab": {
          "base_uri": "https://localhost:8080/"
        }
      },
      "execution_count": 21,
      "outputs": [
        {
          "output_type": "execute_result",
          "data": {
            "text/plain": [
              "[['medidor', <gensim.models.keyedvectors.Vocab at 0x7f9f2fc562d0>],\n",
              " ['condilo', <gensim.models.keyedvectors.Vocab at 0x7f9f2f1b7190>],\n",
              " ['pulverizador', <gensim.models.keyedvectors.Vocab at 0x7f9f2f1b71d0>],\n",
              " ['bomba', <gensim.models.keyedvectors.Vocab at 0x7f9f2f1b7210>],\n",
              " ['flitz', <gensim.models.keyedvectors.Vocab at 0x7f9f2f1b7450>],\n",
              " ['370ml', <gensim.models.keyedvectors.Vocab at 0x7f9f2f1b7250>],\n",
              " ['guarany', <gensim.models.keyedvectors.Vocab at 0x7f9f2f1b7390>],\n",
              " ['maca', <gensim.models.keyedvectors.Vocab at 0x7f9f2f1b75d0>],\n",
              " ['argentina', <gensim.models.keyedvectors.Vocab at 0x7f9f2f1b73d0>],\n",
              " ['kg', <gensim.models.keyedvectors.Vocab at 0x7f9f2f1b7410>]]"
            ]
          },
          "metadata": {},
          "execution_count": 21
        }
      ]
    },
    {
      "cell_type": "code",
      "source": [
        "model.wv.most_similar('banana')"
      ],
      "metadata": {
        "id": "2jsnLVUgChD2",
        "outputId": "e872ff8c-45bc-42f7-cdfc-60c62009691e",
        "colab": {
          "base_uri": "https://localhost:8080/"
        }
      },
      "execution_count": 22,
      "outputs": [
        {
          "output_type": "execute_result",
          "data": {
            "text/plain": [
              "[('melancia', 0.9952705502510071),\n",
              " ('condimento', 0.9929630160331726),\n",
              " ('molho', 0.992384672164917),\n",
              " ('linguica', 0.9921910166740417),\n",
              " ('toucinho', 0.9918076992034912),\n",
              " ('maracuja', 0.9914619326591492),\n",
              " ('alcatra', 0.9911345839500427),\n",
              " ('cong.', 0.9908254742622375),\n",
              " ('suina', 0.9902585744857788),\n",
              " ('americana', 0.9899332523345947)]"
            ]
          },
          "metadata": {},
          "execution_count": 22
        }
      ]
    },
    {
      "cell_type": "code",
      "source": [
        "def print_res(train_sentences, df, test):    \n",
        "    for t in test:      \n",
        "        print(t[1], \" | Descrição Original: \", df['xProd'].iloc[t[0]], \" | NCM: \", df['NCM'].iloc[t[0]])"
      ],
      "metadata": {
        "id": "bXFAGvLMFZ3P"
      },
      "execution_count": 23,
      "outputs": []
    },
    {
      "cell_type": "code",
      "source": [
        "test_doc = word_tokenize(\"papel sulfite\".lower())\n",
        "test_doc_vector = model.infer_vector(test_doc)\n",
        "model.docvecs.most_similar(positive = [test_doc_vector])\n",
        "test = model.docvecs.most_similar(positive = [test_doc_vector])\n",
        "#print_res(processed_corpus, df, test)"
      ],
      "metadata": {
        "id": "AzfsRRNhD1DU"
      },
      "execution_count": 24,
      "outputs": []
    },
    {
      "cell_type": "code",
      "source": [
        "test"
      ],
      "metadata": {
        "id": "ViFf2ddLD9Bl",
        "outputId": "d171b873-a8bc-41c9-cadf-1f0888f32689",
        "colab": {
          "base_uri": "https://localhost:8080/"
        }
      },
      "execution_count": 25,
      "outputs": [
        {
          "output_type": "execute_result",
          "data": {
            "text/plain": [
              "[(14062, 0.9049729704856873),\n",
              " (9776, 0.8736184239387512),\n",
              " (29021, 0.865247368812561),\n",
              " (29780, 0.8649479150772095),\n",
              " (36060, 0.8638114333152771),\n",
              " (7148, 0.8631036877632141),\n",
              " (48947, 0.8609281182289124),\n",
              " (42317, 0.8584352731704712),\n",
              " (15712, 0.8551925420761108),\n",
              " (16211, 0.8550198674201965)]"
            ]
          },
          "metadata": {},
          "execution_count": 25
        }
      ]
    },
    {
      "cell_type": "code",
      "source": [
        "[[f, text_corpus[i]] for i,f in test]"
      ],
      "metadata": {
        "id": "sa15LTKvHRaz",
        "outputId": "8a5f82d9-21e7-4739-89b4-83432fbfb02a",
        "colab": {
          "base_uri": "https://localhost:8080/"
        }
      },
      "execution_count": 26,
      "outputs": [
        {
          "output_type": "execute_result",
          "data": {
            "text/plain": [
              "[[0.9049729704856873, 'FILTR0 DE COMBUSTIVEL SEDMENTADOR'],\n",
              " [0.8736184239387512,\n",
              "  'TINTA ACRILICA COMPONENTES AGUA RESINA ACRILICA PIGMENTOS ORGANICOS E INORGANICOS ASPECTO FISICO LIQUIDO VISCOSO COR BRA'],\n",
              " [0.865247368812561, 'PAPEL HIG. FOLHA DUPLA 16X4X30MT QUALITE'],\n",
              " [0.8649479150772095, 'TINTA ESMALTE SINTÉTICO BRANCO NEVE 3600ML'],\n",
              " [0.8638114333152771,\n",
              "  'COMPRESSA GAZE, MATERIAL RAYON, LARGURA 7,50 CM, COMPRIMENTO 15 CM, CARACTERISTICAS ADICIONAIS EMBEBIDA EM OLEO DERMOPRO'],\n",
              " [0.8631036877632141,\n",
              "  'CARTUCHO CILINDRO IMPRESSORA HP, ORIGINAL COR PRETA,REFERÊNCIA: W1104A'],\n",
              " [0.8609281182289124, 'PAPEL A4 75G C/500 FLS - ARMAZEM DO PAPEL'],\n",
              " [0.8584352731704712, 'Papel A4 Mega Paper Resma 500fls'],\n",
              " [0.8551925420761108, 'ANTI RESPINGO SEM SILICONE SPRAY 280G MUNDIAL PRIME'],\n",
              " [0.8550198674201965,\n",
              "  'PAPEL DE IMPRESSAO FORMATADO, TAMANHO A4, GRAMATURA 75G, COR COLORIDO, PH ALCALINO']]"
            ]
          },
          "metadata": {},
          "execution_count": 26
        }
      ]
    },
    {
      "cell_type": "code",
      "source": [
        "model.save(\"w2vec_pdt_50000\")"
      ],
      "metadata": {
        "id": "PX0pz7oFHtmi"
      },
      "execution_count": 33,
      "outputs": []
    },
    {
      "cell_type": "code",
      "source": [
        "model2 = Word2Vec.load(\"w2vec_pdt_50000\")"
      ],
      "metadata": {
        "id": "C5z2H46_JT8x"
      },
      "execution_count": 34,
      "outputs": []
    },
    {
      "cell_type": "code",
      "source": [
        "test_doc_vector"
      ],
      "metadata": {
        "id": "RsJ8_Vy6KCC_",
        "outputId": "d5c6908d-26b1-4732-d220-f897bf37cd35",
        "colab": {
          "base_uri": "https://localhost:8080/"
        }
      },
      "execution_count": 31,
      "outputs": [
        {
          "output_type": "execute_result",
          "data": {
            "text/plain": [
              "array([ 0.01800523, -0.04991013,  0.0185887 , -0.00257981, -0.02103942,\n",
              "        0.01591977,  0.00751989,  0.00833964, -0.02726729, -0.04064235,\n",
              "       -0.04550948,  0.00619743,  0.00495163,  0.01858483, -0.00775046,\n",
              "        0.01305139, -0.01468516,  0.02675515,  0.01028167, -0.03538405,\n",
              "        0.00446837, -0.00993148, -0.01049118,  0.0071055 ,  0.03721777,\n",
              "        0.04068387, -0.00681104,  0.0143122 ,  0.02843466,  0.00777871,\n",
              "       -0.00082526,  0.03841264,  0.03397006, -0.02204213, -0.00027338,\n",
              "        0.00143366, -0.00556263,  0.01352011, -0.00914467,  0.02682112,\n",
              "        0.00754324,  0.01171425,  0.05972837,  0.04511961,  0.0012959 ,\n",
              "        0.01109084, -0.01625376, -0.0004921 , -0.02112934,  0.00968779],\n",
              "      dtype=float32)"
            ]
          },
          "metadata": {},
          "execution_count": 31
        }
      ]
    },
    {
      "cell_type": "code",
      "source": [
        "model2.infer_vector(test_doc)"
      ],
      "metadata": {
        "id": "Rnx1PIwgKV_b",
        "outputId": "181818ab-cf27-4f25-c74a-681ba0f36f06",
        "colab": {
          "base_uri": "https://localhost:8080/"
        }
      },
      "execution_count": 32,
      "outputs": [
        {
          "output_type": "execute_result",
          "data": {
            "text/plain": [
              "array([ 0.01882276, -0.04699792,  0.03210271, -0.00119155, -0.02704529,\n",
              "        0.01287987,  0.02143767, -0.00590753, -0.03285823, -0.03793808,\n",
              "       -0.03860652,  0.00632336,  0.0052625 ,  0.02911218,  0.00118628,\n",
              "        0.01616548, -0.01733688,  0.0238259 ,  0.01753198, -0.03056025,\n",
              "        0.00812793, -0.00881012, -0.0065726 ,  0.00220483,  0.04933191,\n",
              "        0.03196358, -0.00600734,  0.01025085,  0.02780269,  0.01065063,\n",
              "       -0.01800748,  0.03328613,  0.03862325, -0.01533649,  0.00803987,\n",
              "       -0.00407112, -0.00162246,  0.0198715 , -0.01594796,  0.03032946,\n",
              "        0.01261197,  0.01210154,  0.05338154,  0.03924512, -0.00113517,\n",
              "        0.01921435, -0.02555567,  0.00249498, -0.02810187,  0.0132193 ],\n",
              "      dtype=float32)"
            ]
          },
          "metadata": {},
          "execution_count": 32
        }
      ]
    },
    {
      "cell_type": "code",
      "source": [
        ""
      ],
      "metadata": {
        "id": "2XIpQZmxKfhQ"
      },
      "execution_count": 30,
      "outputs": []
    }
  ]
}