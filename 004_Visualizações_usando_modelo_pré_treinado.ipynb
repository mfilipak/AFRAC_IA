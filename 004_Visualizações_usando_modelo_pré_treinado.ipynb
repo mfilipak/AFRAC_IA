{
  "nbformat": 4,
  "nbformat_minor": 0,
  "metadata": {
    "colab": {
      "name": "004 - Visualizações usando modelo pré-treinado.ipynb",
      "provenance": [],
      "authorship_tag": "ABX9TyNsOy/muoxoIqfUGqXLjmmf",
      "include_colab_link": true
    },
    "kernelspec": {
      "name": "python3",
      "display_name": "Python 3"
    },
    "language_info": {
      "name": "python"
    }
  },
  "cells": [
    {
      "cell_type": "markdown",
      "metadata": {
        "id": "view-in-github",
        "colab_type": "text"
      },
      "source": [
        "<a href=\"https://colab.research.google.com/github/mfilipak/AFRAC_IA/blob/main/004_Visualiza%C3%A7%C3%B5es_usando_modelo_pr%C3%A9_treinado.ipynb\" target=\"_parent\"><img src=\"https://colab.research.google.com/assets/colab-badge.svg\" alt=\"Open In Colab\"/></a>"
      ]
    },
    {
      "cell_type": "markdown",
      "source": [
        "# EM CONSTRUÇÃO"
      ],
      "metadata": {
        "id": "Hww__Aa1pQvX"
      }
    },
    {
      "cell_type": "markdown",
      "source": [
        "# Experimento 004\n",
        "##Objetivo: Experimentos de visualização de word embeddings carregando modelo(s) treinado(s) no Experimento 002.\n",
        "###Descrição: Experimentos iniciais para criação e visualização de word embeddings<br>\n",
        "Dica: No COLAB Use CTRL SPACE ao invés de TAB para \"autocompletar\". Ex:pd.re [CTRL SPACE] vai mostrar uma lista contendo as funções e atributos que começam com pd.re (como read_csv, ...) "
      ],
      "metadata": {
        "id": "tKa_HwaTpdiZ"
      }
    },
    {
      "cell_type": "code",
      "execution_count": 4,
      "metadata": {
        "id": "ospvEHQOmWWC"
      },
      "outputs": [],
      "source": [
        "from glob import glob\n",
        "import pandas as pd\n",
        "import numpy as np\n",
        "import matplotlib.pyplot as plt\n",
        "import seaborn as sns\n",
        "import random\n",
        "import pprint\n",
        "\n",
        "from gensim.models import Word2Vec\n",
        "#from sentence_transformers import SentenceTransformer\n",
        "import joblib\n",
        "from nltk.corpus import stopwords\n",
        "from nltk.tokenize import word_tokenize"
      ]
    },
    {
      "cell_type": "code",
      "source": [
        "https://github.com/mfilipak/AFRAC_IA/blob/main/MODELS/w2vec_pdt_5000?raw=true"
      ],
      "metadata": {
        "id": "9FNsD3R6maEm"
      },
      "execution_count": null,
      "outputs": []
    }
  ]
}