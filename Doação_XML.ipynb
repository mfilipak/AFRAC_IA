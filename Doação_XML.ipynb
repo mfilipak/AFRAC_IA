{
  "nbformat": 4,
  "nbformat_minor": 0,
  "metadata": {
    "colab": {
      "name": "Doação XML.ipynb",
      "provenance": [],
      "collapsed_sections": [],
      "include_colab_link": true
    },
    "kernelspec": {
      "name": "python3",
      "display_name": "Python 3"
    },
    "language_info": {
      "name": "python"
    }
  },
  "cells": [
    {
      "cell_type": "markdown",
      "metadata": {
        "id": "view-in-github",
        "colab_type": "text"
      },
      "source": [
        "<a href=\"https://colab.research.google.com/github/mfilipak/AFRAC_IA/blob/main/Doa%C3%A7%C3%A3o_XML.ipynb\" target=\"_parent\"><img src=\"https://colab.research.google.com/assets/colab-badge.svg\" alt=\"Open In Colab\"/></a>"
      ]
    },
    {
      "cell_type": "code",
      "metadata": {
        "id": "8PLkDGReX0Rf"
      },
      "source": [
        "import shutil\n",
        "!git clone https://github.com/mfilipak/AFRAC_IA.git\n",
        "shutil.move(\"AFRAC_IA\",\"../MYTMP\")\n",
        "!cp -r ../MYTMP/** .\n",
        "!ls"
      ],
      "execution_count": null,
      "outputs": []
    },
    {
      "cell_type": "markdown",
      "metadata": {
        "id": "uAB6jw51FSGQ"
      },
      "source": [
        "**Importar os Pacotes Necessários**\n",
        "\n",
        "---\n",
        "\n"
      ]
    },
    {
      "cell_type": "code",
      "metadata": {
        "id": "Cq5kN3yciLNL"
      },
      "source": [
        "import os\n",
        "import glob"
      ],
      "execution_count": null,
      "outputs": []
    },
    {
      "cell_type": "code",
      "metadata": {
        "id": "9wUq3zN8iQ3O"
      },
      "source": [
        "try:\n",
        "  from flask import Flask, render_template, request\n",
        "except:\n",
        "  !pip install flask\n",
        "  from flask import Flask, render_template, request"
      ],
      "execution_count": null,
      "outputs": []
    },
    {
      "cell_type": "code",
      "metadata": {
        "id": "BFSSNXoOB86V"
      },
      "source": [
        "try:\n",
        "  from flask_dropzone import Dropzone\n",
        "except:\n",
        "  !pip install flask_dropzone\n",
        "  from flask_dropzone import Dropzone"
      ],
      "execution_count": null,
      "outputs": []
    },
    {
      "cell_type": "code",
      "metadata": {
        "id": "FYpwwxvwB9xM"
      },
      "source": [
        "try:\n",
        "  from flask_ngrok import run_with_ngrok\n",
        "except:\n",
        "  !pip install flask_ngrok\n",
        "  from flask_ngrok import run_with_ngrok"
      ],
      "execution_count": null,
      "outputs": []
    },
    {
      "cell_type": "markdown",
      "metadata": {
        "id": "z3z61Jx5Fnqx"
      },
      "source": [
        "**Criar as pastas temporárias**\n",
        "\n",
        "---\n",
        "\n"
      ]
    },
    {
      "cell_type": "code",
      "metadata": {
        "id": "38_TjUooiNms"
      },
      "source": [
        "if not os.path.exists('uploads'):\n",
        "  os.makedirs('uploads')  "
      ],
      "execution_count": null,
      "outputs": []
    },
    {
      "cell_type": "markdown",
      "metadata": {
        "id": "XhF6lTrcF92i"
      },
      "source": [
        "**Importar pacotes do Google e Criar os objetos de Conexão**\n",
        "\n",
        "---\n",
        "\n"
      ]
    },
    {
      "cell_type": "code",
      "metadata": {
        "id": "fStsKuO8iSRM"
      },
      "source": [
        "from pydrive.auth import GoogleAuth\n",
        "from pydrive.drive import GoogleDrive\n",
        "\n",
        "gauth = GoogleAuth()           \n",
        "drive = GoogleDrive(gauth)  "
      ],
      "execution_count": null,
      "outputs": []
    },
    {
      "cell_type": "markdown",
      "metadata": {
        "id": "_RlAgaCtGViC"
      },
      "source": [
        "**Instanciar Servidor para receber os arquivos**\n",
        "\n",
        "---\n",
        "\n",
        "Após este passo, antes de seguir, interromper a excecução no menu Ambiente de Excecução."
      ]
    },
    {
      "cell_type": "code",
      "metadata": {
        "id": "dnIaf5NN3_q3",
        "colab": {
          "base_uri": "https://localhost:8080/"
        },
        "outputId": "70157796-3c2e-4923-d912-c63b6fa3f076"
      },
      "source": [
        "basedir = os.path.abspath(os.path.dirname(\"__file__\"))\n",
        "\n",
        "app = Flask(__name__)\n",
        "app.config.update(\n",
        "    DROPZONE_ADD_REMOVE_LINKS = True,\n",
        "    DROPZONE_ALLOWED_FILE_CUSTOM = True,\n",
        "    DROPZONE_ALLOWED_FILE_TYPE = '.xml, .zip',\n",
        "    DROPZONE_DEFAULT_MESSAGE = \"Solte arquivos \\\"XML ou ZIP\\\" aqui para enviar<br/><br/>ou<br/><br/><button type=\\'button\\'>Selecionar arquivos</button><br/><br>Tamanho máximo de upload de arquivo: 1 MB\",\n",
        "    UPLOADED_PATH = os.path.join(basedir,'uploads'), \n",
        "    DROPZONE_MAX_FILES_SIZE = 1024,\n",
        "    DROPZONE_TIMEOUT = 5 * 60 * 1080)\n",
        "\n",
        "dropzone = Dropzone(app)\n",
        "run_with_ngrok(app)  \n",
        "\n",
        "\n",
        "@app.route('/', methods=['POST','GET'])\n",
        "def upload():\n",
        "    if request.method == 'POST':\n",
        "        f = request.files.get('file')\n",
        "        f.save(os.path.join(app.config['UPLOADED_PATH'],f.filename))\n",
        "    return render_template('index.html')\n",
        "\n",
        "\n",
        "app.run()\n"
      ],
      "execution_count": null,
      "outputs": [
        {
          "output_type": "stream",
          "text": [
            " * Serving Flask app \"__main__\" (lazy loading)\n",
            " * Environment: production\n",
            "\u001b[31m   WARNING: This is a development server. Do not use it in a production deployment.\u001b[0m\n",
            "\u001b[2m   Use a production WSGI server instead.\u001b[0m\n",
            " * Debug mode: off\n"
          ],
          "name": "stdout"
        },
        {
          "output_type": "stream",
          "text": [
            " * Running on http://127.0.0.1:5000/ (Press CTRL+C to quit)\n"
          ],
          "name": "stderr"
        },
        {
          "output_type": "stream",
          "text": [
            " * Running on http://2b786190a5d6.ngrok.io\n",
            " * Traffic stats available on http://127.0.0.1:4040\n"
          ],
          "name": "stdout"
        },
        {
          "output_type": "stream",
          "text": [
            "127.0.0.1 - - [04/May/2021 19:32:28] \"\u001b[37mGET / HTTP/1.1\u001b[0m\" 200 -\n",
            "127.0.0.1 - - [04/May/2021 19:32:29] \"\u001b[33mGET /favicon.ico HTTP/1.1\u001b[0m\" 404 -\n",
            "127.0.0.1 - - [04/May/2021 19:33:03] \"\u001b[37mPOST / HTTP/1.1\u001b[0m\" 200 -\n",
            "127.0.0.1 - - [04/May/2021 19:33:59] \"\u001b[37mGET / HTTP/1.1\u001b[0m\" 200 -\n",
            "127.0.0.1 - - [04/May/2021 19:33:59] \"\u001b[33mGET /favicon.ico HTTP/1.1\u001b[0m\" 404 -\n",
            "127.0.0.1 - - [04/May/2021 19:34:02] \"\u001b[37mGET / HTTP/1.1\u001b[0m\" 200 -\n",
            "127.0.0.1 - - [04/May/2021 19:36:11] \"\u001b[37mPOST / HTTP/1.1\u001b[0m\" 200 -\n",
            "127.0.0.1 - - [04/May/2021 19:36:51] \"\u001b[33mPOST /shutdown HTTP/1.1\u001b[0m\" 404 -\n",
            "127.0.0.1 - - [04/May/2021 19:36:55] \"\u001b[37mGET / HTTP/1.1\u001b[0m\" 200 -\n",
            "127.0.0.1 - - [04/May/2021 19:37:20] \"\u001b[37mPOST / HTTP/1.1\u001b[0m\" 200 -\n",
            "127.0.0.1 - - [04/May/2021 19:38:20] \"\u001b[33mPOST /shutdown HTTP/1.1\u001b[0m\" 404 -\n",
            "127.0.0.1 - - [04/May/2021 19:38:23] \"\u001b[37mGET / HTTP/1.1\u001b[0m\" 200 -\n",
            "127.0.0.1 - - [04/May/2021 19:38:46] \"\u001b[37mPOST / HTTP/1.1\u001b[0m\" 200 -\n",
            "127.0.0.1 - - [04/May/2021 19:42:01] \"\u001b[37mPOST / HTTP/1.1\u001b[0m\" 200 -\n"
          ],
          "name": "stderr"
        }
      ]
    },
    {
      "cell_type": "markdown",
      "metadata": {
        "id": "kYJVb3DvG3G4"
      },
      "source": [
        "**Configurar Variavel de Ambiente com Credencial do Google Cloud.**\n",
        "\n",
        "---\n",
        "\n",
        "O Arquivo Json de Credenciais deve ser enviado para o Colab ante de executar o próximo passo."
      ]
    },
    {
      "cell_type": "code",
      "metadata": {
        "id": "6LCxU4Z8tMJR",
        "colab": {
          "base_uri": "https://localhost:8080/"
        },
        "outputId": "4eb33ef4-5c58-4357-9751-6609fa8be1e0"
      },
      "source": [
        "os.environ['GOOGLE_APPLICATION_CREDENTIALS'] = '/content/doacaoxml-2c6cbb88806a.json' \n",
        "!echo $GOOGLE_APPLICATION_CREDENTIALS"
      ],
      "execution_count": null,
      "outputs": [
        {
          "output_type": "stream",
          "text": [
            "/content/doacaoxml-2c6cbb88806a.json\n"
          ],
          "name": "stdout"
        }
      ]
    },
    {
      "cell_type": "markdown",
      "metadata": {
        "id": "ZLO_p2B3C0Ae"
      },
      "source": [
        "**Criar o Bucket ou apenas instanciar objeto, caso o bucket já tenha sido criado**\n",
        "\n",
        "---\n",
        "\n"
      ]
    },
    {
      "cell_type": "code",
      "metadata": {
        "id": "h4qS04v1nehq"
      },
      "source": [
        "from google.cloud import storage\n",
        "\n",
        "def create_bucket_class_location(bucket_name):\n",
        "    \"\"\"Create a new bucket in specific location with storage class\"\"\"\n",
        "    # bucket_name = \"your-new-bucket-name\"\n",
        "\n",
        "    storage_client = storage.Client()\n",
        "\n",
        "    bucket = storage_client.bucket(bucket_name)\n",
        "    bucket.storage_class = \"STANDARD\"\n",
        "    new_bucket = storage_client.create_bucket(bucket)\n",
        "\n",
        "    print(\n",
        "        \"Created bucket {} in {} with storage class {}\".format(\n",
        "            new_bucket.name, new_bucket.location, new_bucket.storage_class\n",
        "        )\n",
        "    )\n",
        "    return new_bucket\n",
        "\n",
        "try:\n",
        "  bucket = create_bucket_class_location('doacao_xml')\n",
        "except:\n",
        "  storage_client = storage.Client()\n",
        "  bucket = storage_client.get_bucket('doacao_xml')"
      ],
      "execution_count": null,
      "outputs": []
    },
    {
      "cell_type": "markdown",
      "metadata": {
        "id": "nnN2Fo1kHgY0"
      },
      "source": [
        "**Enviar os arquivos doados para o Bucket no Google Cloud**\n",
        "\n",
        "---\n",
        "\n"
      ]
    },
    {
      "cell_type": "code",
      "metadata": {
        "id": "xfiUr6jow-qt",
        "colab": {
          "base_uri": "https://localhost:8080/"
        },
        "outputId": "5c5cdfd6-dc25-40c8-acba-015d82b5687e"
      },
      "source": [
        "os.chdir('/content/uploads')\n",
        "upload_file_list = []\n",
        "\n",
        "res = [f for f in glob.glob(\"*.*\") if \".xml\" in f or \".zip\" in f ]\n",
        "for f in res:\n",
        "  blob = bucket.blob('/content/uploads/' + f) \n",
        "  blob.upload_from_filename('/content/uploads/' +  f)\n",
        "  print(f\"Armazenando arquivo {f} no Google Cloud\")\n"
      ],
      "execution_count": null,
      "outputs": [
        {
          "output_type": "stream",
          "text": [
            "Armazenando arquivo xmlDfe-33200531698759000202650070000271731130573000 - Copia.xml no Google Cloud\n",
            "Armazenando arquivo xmlDfe-33210305255141000179650110000539531589179911.xml no Google Cloud\n",
            "Armazenando arquivo xmlDfe-33200531698759000202650070000271731130573000.xml no Google Cloud\n"
          ],
          "name": "stdout"
        }
      ]
    }
  ]
}