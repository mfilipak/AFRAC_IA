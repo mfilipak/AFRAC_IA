{
  "nbformat": 4,
  "nbformat_minor": 0,
  "metadata": {
    "colab": {
      "name": "001 - EDA (Dados do Portal da cidadânia).ipynb",
      "provenance": [],
      "authorship_tag": "ABX9TyNQ4Lnci35xT+oABqFASI/b",
      "include_colab_link": true
    },
    "kernelspec": {
      "name": "python3",
      "display_name": "Python 3"
    },
    "language_info": {
      "name": "python"
    }
  },
  "cells": [
    {
      "cell_type": "markdown",
      "metadata": {
        "id": "view-in-github",
        "colab_type": "text"
      },
      "source": [
        "<a href=\"https://colab.research.google.com/github/mfilipak/AFRAC_IA/blob/main/001_EDA_(Dados_do_Portal_da_cidad%C3%A2nia).ipynb\" target=\"_parent\"><img src=\"https://colab.research.google.com/assets/colab-badge.svg\" alt=\"Open In Colab\"/></a>"
      ]
    },
    {
      "cell_type": "markdown",
      "source": [
        "# Em construção - Notebook ainda não concluído\n",
        "\n"
      ],
      "metadata": {
        "id": "0KXIlW8Pjmq_"
      }
    },
    {
      "cell_type": "markdown",
      "source": [
        "Dica: No COLAB Use CTRL SPACE ao invés de TAB para \"autocompletar\""
      ],
      "metadata": {
        "id": "IX6AphxHrGYR"
      }
    },
    {
      "cell_type": "code",
      "source": [
        "from glob import glob\n",
        "import pandas as pd\n",
        "import numpy as np\n",
        "import matplotlib.pyplot as plt\n",
        "import seaborn as sns"
      ],
      "metadata": {
        "id": "DXkCz1q7i4p0"
      },
      "execution_count": 6,
      "outputs": []
    },
    {
      "cell_type": "markdown",
      "source": [
        "# 1 - Carrega o dataset do link externo e copia o arquivo localmente"
      ],
      "metadata": {
        "id": "ZKNYsBxknhoH"
      }
    },
    {
      "cell_type": "code",
      "source": [
        "#Copia os dados das NFEs do portal da cidadância pro drive virtual.\n",
        "import requests  \n",
        "file_url = \"https://raw.githubusercontent.com//mfilipak/AFRAC_IA/main/DATASET/202201_NFe_NotaFiscalItem.zip\"\n",
        "r = requests.get(file_url, stream = True) \n",
        "\n",
        "with open(\"portal.zip\", \"wb\") as file:  \n",
        "    for block in r.iter_content(chunk_size = 1024): \n",
        "         if block:  \n",
        "             file.write(block)\n",
        "\n",
        "DATA_FILE = \"portal.zip\""
      ],
      "metadata": {
        "id": "J1zJkh59k3Jp"
      },
      "execution_count": 7,
      "outputs": []
    },
    {
      "cell_type": "markdown",
      "source": [
        "#2 - Carrega o dataframe completo em df"
      ],
      "metadata": {
        "id": "76s_v2Fmns5y"
      }
    },
    {
      "cell_type": "code",
      "source": [
        "df = pd.read_csv(DATA_FILE, encoding=\"CP1252\",sep=\";\")\n",
        "print(\"O dataframe completo contém:\",len(df),\"linhas\")"
      ],
      "metadata": {
        "colab": {
          "base_uri": "https://localhost:8080/"
        },
        "id": "0M6SK4VvkTEE",
        "outputId": "49764e83-6631-4015-ec9b-9adaaf301d64"
      },
      "execution_count": 14,
      "outputs": [
        {
          "output_type": "stream",
          "name": "stdout",
          "text": [
            "O dataframe completo contém: 324056 linhas\n"
          ]
        }
      ]
    },
    {
      "cell_type": "code",
      "source": [
        "df[:1]"
      ],
      "metadata": {
        "colab": {
          "base_uri": "https://localhost:8080/",
          "height": 296
        },
        "id": "eVO-m70CmsKp",
        "outputId": "bc0515bb-c63d-44d7-bf22-53b9a1145c7d"
      },
      "execution_count": 15,
      "outputs": [
        {
          "output_type": "execute_result",
          "data": {
            "text/plain": [
              "                                CHAVE DE ACESSO  \\\n",
              "0  42220107432517001847550030005499571000224173   \n",
              "\n",
              "                                              MODELO  SÉRIE  NÚMERO  \\\n",
              "0  55 - NF-E EMITIDA EM SUBSTITUIÇÃO AO MODELO 1 ...      3  549957   \n",
              "\n",
              "                         NATUREZA DA OPERAÇÃO         DATA EMISSÃO  \\\n",
              "0  Outra saida merc./prest.serv. nao especif.  01/01/2022 00:02:22   \n",
              "\n",
              "  CPF/CNPJ Emitente                      RAZÃO SOCIAL EMITENTE  \\\n",
              "0    07432517001847  SIMPRESS COMERCIO LOCACAO E SERVICOS LTDA   \n",
              "\n",
              "  INSCRIÇÃO ESTADUAL EMITENTE UF EMITENTE  ... PRESENÇA DO COMPRADOR  \\\n",
              "0                   257477446          SC  ...     0 - NÃO SE APLICA   \n",
              "\n",
              "   NÚMERO PRODUTO         DESCRIÇÃO DO PRODUTO/SERVIÇO CÓDIGO NCM/SH  \\\n",
              "0               1  HP RESERVATORIO DE RESIDUO DE TONER      84439939   \n",
              "\n",
              "                            NCM/SH (TIPO DE PRODUTO)  CFOP QUANTIDADE UNIDADE  \\\n",
              "0  Outras partes e acessórios para aparelhos de f...  6949       1,00  UNIDAD   \n",
              "\n",
              "   VALOR UNITÁRIO VALOR TOTAL  \n",
              "0           56,49       56,49  \n",
              "\n",
              "[1 rows x 27 columns]"
            ],
            "text/html": [
              "\n",
              "  <div id=\"df-51c3a4e6-bda1-41e9-88a3-31b486643bb1\">\n",
              "    <div class=\"colab-df-container\">\n",
              "      <div>\n",
              "<style scoped>\n",
              "    .dataframe tbody tr th:only-of-type {\n",
              "        vertical-align: middle;\n",
              "    }\n",
              "\n",
              "    .dataframe tbody tr th {\n",
              "        vertical-align: top;\n",
              "    }\n",
              "\n",
              "    .dataframe thead th {\n",
              "        text-align: right;\n",
              "    }\n",
              "</style>\n",
              "<table border=\"1\" class=\"dataframe\">\n",
              "  <thead>\n",
              "    <tr style=\"text-align: right;\">\n",
              "      <th></th>\n",
              "      <th>CHAVE DE ACESSO</th>\n",
              "      <th>MODELO</th>\n",
              "      <th>SÉRIE</th>\n",
              "      <th>NÚMERO</th>\n",
              "      <th>NATUREZA DA OPERAÇÃO</th>\n",
              "      <th>DATA EMISSÃO</th>\n",
              "      <th>CPF/CNPJ Emitente</th>\n",
              "      <th>RAZÃO SOCIAL EMITENTE</th>\n",
              "      <th>INSCRIÇÃO ESTADUAL EMITENTE</th>\n",
              "      <th>UF EMITENTE</th>\n",
              "      <th>...</th>\n",
              "      <th>PRESENÇA DO COMPRADOR</th>\n",
              "      <th>NÚMERO PRODUTO</th>\n",
              "      <th>DESCRIÇÃO DO PRODUTO/SERVIÇO</th>\n",
              "      <th>CÓDIGO NCM/SH</th>\n",
              "      <th>NCM/SH (TIPO DE PRODUTO)</th>\n",
              "      <th>CFOP</th>\n",
              "      <th>QUANTIDADE</th>\n",
              "      <th>UNIDADE</th>\n",
              "      <th>VALOR UNITÁRIO</th>\n",
              "      <th>VALOR TOTAL</th>\n",
              "    </tr>\n",
              "  </thead>\n",
              "  <tbody>\n",
              "    <tr>\n",
              "      <th>0</th>\n",
              "      <td>42220107432517001847550030005499571000224173</td>\n",
              "      <td>55 - NF-E EMITIDA EM SUBSTITUIÇÃO AO MODELO 1 ...</td>\n",
              "      <td>3</td>\n",
              "      <td>549957</td>\n",
              "      <td>Outra saida merc./prest.serv. nao especif.</td>\n",
              "      <td>01/01/2022 00:02:22</td>\n",
              "      <td>07432517001847</td>\n",
              "      <td>SIMPRESS COMERCIO LOCACAO E SERVICOS LTDA</td>\n",
              "      <td>257477446</td>\n",
              "      <td>SC</td>\n",
              "      <td>...</td>\n",
              "      <td>0 - NÃO SE APLICA</td>\n",
              "      <td>1</td>\n",
              "      <td>HP RESERVATORIO DE RESIDUO DE TONER</td>\n",
              "      <td>84439939</td>\n",
              "      <td>Outras partes e acessórios para aparelhos de f...</td>\n",
              "      <td>6949</td>\n",
              "      <td>1,00</td>\n",
              "      <td>UNIDAD</td>\n",
              "      <td>56,49</td>\n",
              "      <td>56,49</td>\n",
              "    </tr>\n",
              "  </tbody>\n",
              "</table>\n",
              "<p>1 rows × 27 columns</p>\n",
              "</div>\n",
              "      <button class=\"colab-df-convert\" onclick=\"convertToInteractive('df-51c3a4e6-bda1-41e9-88a3-31b486643bb1')\"\n",
              "              title=\"Convert this dataframe to an interactive table.\"\n",
              "              style=\"display:none;\">\n",
              "        \n",
              "  <svg xmlns=\"http://www.w3.org/2000/svg\" height=\"24px\"viewBox=\"0 0 24 24\"\n",
              "       width=\"24px\">\n",
              "    <path d=\"M0 0h24v24H0V0z\" fill=\"none\"/>\n",
              "    <path d=\"M18.56 5.44l.94 2.06.94-2.06 2.06-.94-2.06-.94-.94-2.06-.94 2.06-2.06.94zm-11 1L8.5 8.5l.94-2.06 2.06-.94-2.06-.94L8.5 2.5l-.94 2.06-2.06.94zm10 10l.94 2.06.94-2.06 2.06-.94-2.06-.94-.94-2.06-.94 2.06-2.06.94z\"/><path d=\"M17.41 7.96l-1.37-1.37c-.4-.4-.92-.59-1.43-.59-.52 0-1.04.2-1.43.59L10.3 9.45l-7.72 7.72c-.78.78-.78 2.05 0 2.83L4 21.41c.39.39.9.59 1.41.59.51 0 1.02-.2 1.41-.59l7.78-7.78 2.81-2.81c.8-.78.8-2.07 0-2.86zM5.41 20L4 18.59l7.72-7.72 1.47 1.35L5.41 20z\"/>\n",
              "  </svg>\n",
              "      </button>\n",
              "      \n",
              "  <style>\n",
              "    .colab-df-container {\n",
              "      display:flex;\n",
              "      flex-wrap:wrap;\n",
              "      gap: 12px;\n",
              "    }\n",
              "\n",
              "    .colab-df-convert {\n",
              "      background-color: #E8F0FE;\n",
              "      border: none;\n",
              "      border-radius: 50%;\n",
              "      cursor: pointer;\n",
              "      display: none;\n",
              "      fill: #1967D2;\n",
              "      height: 32px;\n",
              "      padding: 0 0 0 0;\n",
              "      width: 32px;\n",
              "    }\n",
              "\n",
              "    .colab-df-convert:hover {\n",
              "      background-color: #E2EBFA;\n",
              "      box-shadow: 0px 1px 2px rgba(60, 64, 67, 0.3), 0px 1px 3px 1px rgba(60, 64, 67, 0.15);\n",
              "      fill: #174EA6;\n",
              "    }\n",
              "\n",
              "    [theme=dark] .colab-df-convert {\n",
              "      background-color: #3B4455;\n",
              "      fill: #D2E3FC;\n",
              "    }\n",
              "\n",
              "    [theme=dark] .colab-df-convert:hover {\n",
              "      background-color: #434B5C;\n",
              "      box-shadow: 0px 1px 3px 1px rgba(0, 0, 0, 0.15);\n",
              "      filter: drop-shadow(0px 1px 2px rgba(0, 0, 0, 0.3));\n",
              "      fill: #FFFFFF;\n",
              "    }\n",
              "  </style>\n",
              "\n",
              "      <script>\n",
              "        const buttonEl =\n",
              "          document.querySelector('#df-51c3a4e6-bda1-41e9-88a3-31b486643bb1 button.colab-df-convert');\n",
              "        buttonEl.style.display =\n",
              "          google.colab.kernel.accessAllowed ? 'block' : 'none';\n",
              "\n",
              "        async function convertToInteractive(key) {\n",
              "          const element = document.querySelector('#df-51c3a4e6-bda1-41e9-88a3-31b486643bb1');\n",
              "          const dataTable =\n",
              "            await google.colab.kernel.invokeFunction('convertToInteractive',\n",
              "                                                     [key], {});\n",
              "          if (!dataTable) return;\n",
              "\n",
              "          const docLinkHtml = 'Like what you see? Visit the ' +\n",
              "            '<a target=\"_blank\" href=https://colab.research.google.com/notebooks/data_table.ipynb>data table notebook</a>'\n",
              "            + ' to learn more about interactive tables.';\n",
              "          element.innerHTML = '';\n",
              "          dataTable['output_type'] = 'display_data';\n",
              "          await google.colab.output.renderOutput(dataTable, element);\n",
              "          const docLink = document.createElement('div');\n",
              "          docLink.innerHTML = docLinkHtml;\n",
              "          element.appendChild(docLink);\n",
              "        }\n",
              "      </script>\n",
              "    </div>\n",
              "  </div>\n",
              "  "
            ]
          },
          "metadata": {},
          "execution_count": 15
        }
      ]
    },
    {
      "cell_type": "code",
      "source": [
        "df.keys()"
      ],
      "metadata": {
        "colab": {
          "base_uri": "https://localhost:8080/"
        },
        "id": "JRNVxeH_mvOj",
        "outputId": "fb495807-5b62-41ff-e156-2dc5f8b8e9af"
      },
      "execution_count": 11,
      "outputs": [
        {
          "output_type": "execute_result",
          "data": {
            "text/plain": [
              "Index(['CHAVE DE ACESSO', 'MODELO', 'SÉRIE', 'NÚMERO', 'NATUREZA DA OPERAÇÃO',\n",
              "       'DATA EMISSÃO', 'CPF/CNPJ Emitente', 'RAZÃO SOCIAL EMITENTE',\n",
              "       'INSCRIÇÃO ESTADUAL EMITENTE', 'UF EMITENTE', 'MUNICÍPIO EMITENTE',\n",
              "       'CNPJ DESTINATÁRIO', 'NOME DESTINATÁRIO', 'UF DESTINATÁRIO',\n",
              "       'INDICADOR IE DESTINATÁRIO', 'DESTINO DA OPERAÇÃO', 'CONSUMIDOR FINAL',\n",
              "       'PRESENÇA DO COMPRADOR', 'NÚMERO PRODUTO',\n",
              "       'DESCRIÇÃO DO PRODUTO/SERVIÇO', 'CÓDIGO NCM/SH',\n",
              "       'NCM/SH (TIPO DE PRODUTO)', 'CFOP', 'QUANTIDADE', 'UNIDADE',\n",
              "       'VALOR UNITÁRIO', 'VALOR TOTAL'],\n",
              "      dtype='object')"
            ]
          },
          "metadata": {},
          "execution_count": 11
        }
      ]
    },
    {
      "cell_type": "markdown",
      "source": [
        "# 3 - Limpeza inicial do dataframe.<br>\n",
        "df2 conterá somente 4 campos (Data, descr, ncm e cfop)\n",
        "Eliminados itens duplicados (mesma descr, ncm e cfop)"
      ],
      "metadata": {
        "id": "p3dKOfw_ogSk"
      }
    },
    {
      "cell_type": "code",
      "source": [
        "df2 = df[['DATA EMISSÃO','DESCRIÇÃO DO PRODUTO/SERVIÇO', 'CÓDIGO NCM/SH', 'CFOP']]\n",
        "df2.columns = [\"DATA\", \"DESCR\", \"NCM\", \"CFOP\"]\n",
        "df2 = df2.drop_duplicates(subset=[\"DESCR\", \"NCM\", \"CFOP\"])\n",
        "df2"
      ],
      "metadata": {
        "colab": {
          "base_uri": "https://localhost:8080/",
          "height": 424
        },
        "id": "ggg2l7vBm6eC",
        "outputId": "74955b69-b1ad-4611-f69f-d18bc4092175"
      },
      "execution_count": 13,
      "outputs": [
        {
          "output_type": "execute_result",
          "data": {
            "text/plain": [
              "                       DATA                                             DESCR  \\\n",
              "0       01/01/2022 00:02:22               HP RESERVATORIO DE RESIDUO DE TONER   \n",
              "1       01/01/2022 00:03:59   MLTD201LXAZ CARTUCHO DE TONER PRETO 20K PAGINAS   \n",
              "3       01/01/2022 00:12:39    CLTC609SXAZ CARTUCHO DE TONER CIANO 7K PAGINAS   \n",
              "7       01/01/2022 00:46:32   MLTD203UXAZ CARTUCHO DE TONER PRETO 15K PAGINAS   \n",
              "8       01/01/2022 00:55:40  CLTC506LXAZ CARTUCHO DE TONER CIANO 3.5K PAGINAS   \n",
              "...                     ...                                               ...   \n",
              "324044  31/01/2022 23:54:45                 FAROL DE MILHA ESQUERDO / DIREITO   \n",
              "324045  31/01/2022 23:54:45                      FAROL LADO ESQUERDO/ DIREITO   \n",
              "324046  31/01/2022 23:54:45             CUBO DE RODA DIANT DIREITO / ESQUERDO   \n",
              "324048  31/01/2022 23:55:00                     POLTRONA PRESIDENTE GIRATORIA   \n",
              "324053  31/01/2022 23:59:59                             Leite Cru Refrigerado   \n",
              "\n",
              "             NCM  CFOP  \n",
              "0       84439939  6949  \n",
              "1       84439933  6949  \n",
              "3       84439933  6949  \n",
              "7       84439933  6949  \n",
              "8       84439933  6949  \n",
              "...          ...   ...  \n",
              "324044  85149000  5405  \n",
              "324045  85149000  5405  \n",
              "324046  87089529  5405  \n",
              "324048  94021000  6102  \n",
              "324053   4014010  1135  \n",
              "\n",
              "[162782 rows x 4 columns]"
            ],
            "text/html": [
              "\n",
              "  <div id=\"df-958b77c1-53a4-41a4-b992-779979dad96e\">\n",
              "    <div class=\"colab-df-container\">\n",
              "      <div>\n",
              "<style scoped>\n",
              "    .dataframe tbody tr th:only-of-type {\n",
              "        vertical-align: middle;\n",
              "    }\n",
              "\n",
              "    .dataframe tbody tr th {\n",
              "        vertical-align: top;\n",
              "    }\n",
              "\n",
              "    .dataframe thead th {\n",
              "        text-align: right;\n",
              "    }\n",
              "</style>\n",
              "<table border=\"1\" class=\"dataframe\">\n",
              "  <thead>\n",
              "    <tr style=\"text-align: right;\">\n",
              "      <th></th>\n",
              "      <th>DATA</th>\n",
              "      <th>DESCR</th>\n",
              "      <th>NCM</th>\n",
              "      <th>CFOP</th>\n",
              "    </tr>\n",
              "  </thead>\n",
              "  <tbody>\n",
              "    <tr>\n",
              "      <th>0</th>\n",
              "      <td>01/01/2022 00:02:22</td>\n",
              "      <td>HP RESERVATORIO DE RESIDUO DE TONER</td>\n",
              "      <td>84439939</td>\n",
              "      <td>6949</td>\n",
              "    </tr>\n",
              "    <tr>\n",
              "      <th>1</th>\n",
              "      <td>01/01/2022 00:03:59</td>\n",
              "      <td>MLTD201LXAZ CARTUCHO DE TONER PRETO 20K PAGINAS</td>\n",
              "      <td>84439933</td>\n",
              "      <td>6949</td>\n",
              "    </tr>\n",
              "    <tr>\n",
              "      <th>3</th>\n",
              "      <td>01/01/2022 00:12:39</td>\n",
              "      <td>CLTC609SXAZ CARTUCHO DE TONER CIANO 7K PAGINAS</td>\n",
              "      <td>84439933</td>\n",
              "      <td>6949</td>\n",
              "    </tr>\n",
              "    <tr>\n",
              "      <th>7</th>\n",
              "      <td>01/01/2022 00:46:32</td>\n",
              "      <td>MLTD203UXAZ CARTUCHO DE TONER PRETO 15K PAGINAS</td>\n",
              "      <td>84439933</td>\n",
              "      <td>6949</td>\n",
              "    </tr>\n",
              "    <tr>\n",
              "      <th>8</th>\n",
              "      <td>01/01/2022 00:55:40</td>\n",
              "      <td>CLTC506LXAZ CARTUCHO DE TONER CIANO 3.5K PAGINAS</td>\n",
              "      <td>84439933</td>\n",
              "      <td>6949</td>\n",
              "    </tr>\n",
              "    <tr>\n",
              "      <th>...</th>\n",
              "      <td>...</td>\n",
              "      <td>...</td>\n",
              "      <td>...</td>\n",
              "      <td>...</td>\n",
              "    </tr>\n",
              "    <tr>\n",
              "      <th>324044</th>\n",
              "      <td>31/01/2022 23:54:45</td>\n",
              "      <td>FAROL DE MILHA ESQUERDO / DIREITO</td>\n",
              "      <td>85149000</td>\n",
              "      <td>5405</td>\n",
              "    </tr>\n",
              "    <tr>\n",
              "      <th>324045</th>\n",
              "      <td>31/01/2022 23:54:45</td>\n",
              "      <td>FAROL LADO ESQUERDO/ DIREITO</td>\n",
              "      <td>85149000</td>\n",
              "      <td>5405</td>\n",
              "    </tr>\n",
              "    <tr>\n",
              "      <th>324046</th>\n",
              "      <td>31/01/2022 23:54:45</td>\n",
              "      <td>CUBO DE RODA DIANT DIREITO / ESQUERDO</td>\n",
              "      <td>87089529</td>\n",
              "      <td>5405</td>\n",
              "    </tr>\n",
              "    <tr>\n",
              "      <th>324048</th>\n",
              "      <td>31/01/2022 23:55:00</td>\n",
              "      <td>POLTRONA PRESIDENTE GIRATORIA</td>\n",
              "      <td>94021000</td>\n",
              "      <td>6102</td>\n",
              "    </tr>\n",
              "    <tr>\n",
              "      <th>324053</th>\n",
              "      <td>31/01/2022 23:59:59</td>\n",
              "      <td>Leite Cru Refrigerado</td>\n",
              "      <td>4014010</td>\n",
              "      <td>1135</td>\n",
              "    </tr>\n",
              "  </tbody>\n",
              "</table>\n",
              "<p>162782 rows × 4 columns</p>\n",
              "</div>\n",
              "      <button class=\"colab-df-convert\" onclick=\"convertToInteractive('df-958b77c1-53a4-41a4-b992-779979dad96e')\"\n",
              "              title=\"Convert this dataframe to an interactive table.\"\n",
              "              style=\"display:none;\">\n",
              "        \n",
              "  <svg xmlns=\"http://www.w3.org/2000/svg\" height=\"24px\"viewBox=\"0 0 24 24\"\n",
              "       width=\"24px\">\n",
              "    <path d=\"M0 0h24v24H0V0z\" fill=\"none\"/>\n",
              "    <path d=\"M18.56 5.44l.94 2.06.94-2.06 2.06-.94-2.06-.94-.94-2.06-.94 2.06-2.06.94zm-11 1L8.5 8.5l.94-2.06 2.06-.94-2.06-.94L8.5 2.5l-.94 2.06-2.06.94zm10 10l.94 2.06.94-2.06 2.06-.94-2.06-.94-.94-2.06-.94 2.06-2.06.94z\"/><path d=\"M17.41 7.96l-1.37-1.37c-.4-.4-.92-.59-1.43-.59-.52 0-1.04.2-1.43.59L10.3 9.45l-7.72 7.72c-.78.78-.78 2.05 0 2.83L4 21.41c.39.39.9.59 1.41.59.51 0 1.02-.2 1.41-.59l7.78-7.78 2.81-2.81c.8-.78.8-2.07 0-2.86zM5.41 20L4 18.59l7.72-7.72 1.47 1.35L5.41 20z\"/>\n",
              "  </svg>\n",
              "      </button>\n",
              "      \n",
              "  <style>\n",
              "    .colab-df-container {\n",
              "      display:flex;\n",
              "      flex-wrap:wrap;\n",
              "      gap: 12px;\n",
              "    }\n",
              "\n",
              "    .colab-df-convert {\n",
              "      background-color: #E8F0FE;\n",
              "      border: none;\n",
              "      border-radius: 50%;\n",
              "      cursor: pointer;\n",
              "      display: none;\n",
              "      fill: #1967D2;\n",
              "      height: 32px;\n",
              "      padding: 0 0 0 0;\n",
              "      width: 32px;\n",
              "    }\n",
              "\n",
              "    .colab-df-convert:hover {\n",
              "      background-color: #E2EBFA;\n",
              "      box-shadow: 0px 1px 2px rgba(60, 64, 67, 0.3), 0px 1px 3px 1px rgba(60, 64, 67, 0.15);\n",
              "      fill: #174EA6;\n",
              "    }\n",
              "\n",
              "    [theme=dark] .colab-df-convert {\n",
              "      background-color: #3B4455;\n",
              "      fill: #D2E3FC;\n",
              "    }\n",
              "\n",
              "    [theme=dark] .colab-df-convert:hover {\n",
              "      background-color: #434B5C;\n",
              "      box-shadow: 0px 1px 3px 1px rgba(0, 0, 0, 0.15);\n",
              "      filter: drop-shadow(0px 1px 2px rgba(0, 0, 0, 0.3));\n",
              "      fill: #FFFFFF;\n",
              "    }\n",
              "  </style>\n",
              "\n",
              "      <script>\n",
              "        const buttonEl =\n",
              "          document.querySelector('#df-958b77c1-53a4-41a4-b992-779979dad96e button.colab-df-convert');\n",
              "        buttonEl.style.display =\n",
              "          google.colab.kernel.accessAllowed ? 'block' : 'none';\n",
              "\n",
              "        async function convertToInteractive(key) {\n",
              "          const element = document.querySelector('#df-958b77c1-53a4-41a4-b992-779979dad96e');\n",
              "          const dataTable =\n",
              "            await google.colab.kernel.invokeFunction('convertToInteractive',\n",
              "                                                     [key], {});\n",
              "          if (!dataTable) return;\n",
              "\n",
              "          const docLinkHtml = 'Like what you see? Visit the ' +\n",
              "            '<a target=\"_blank\" href=https://colab.research.google.com/notebooks/data_table.ipynb>data table notebook</a>'\n",
              "            + ' to learn more about interactive tables.';\n",
              "          element.innerHTML = '';\n",
              "          dataTable['output_type'] = 'display_data';\n",
              "          await google.colab.output.renderOutput(dataTable, element);\n",
              "          const docLink = document.createElement('div');\n",
              "          docLink.innerHTML = docLinkHtml;\n",
              "          element.appendChild(docLink);\n",
              "        }\n",
              "      </script>\n",
              "    </div>\n",
              "  </div>\n",
              "  "
            ]
          },
          "metadata": {},
          "execution_count": 13
        }
      ]
    },
    {
      "cell_type": "markdown",
      "source": [
        "#4 - Vamos dar uma olhada nas informações de cada coluna"
      ],
      "metadata": {
        "id": "e3gOtpxvp0Wj"
      }
    },
    {
      "cell_type": "code",
      "source": [
        "print(\"CFOPS encontrados: \",len(df2[\"CFOP\"].unique()))\n",
        "print(\"NCMs encontrados: \",len(df2[\"NCM\"].unique()))"
      ],
      "metadata": {
        "colab": {
          "base_uri": "https://localhost:8080/"
        },
        "id": "GXgbeMO9pWPK",
        "outputId": "d1e00cb6-80ca-46c6-8c27-5eabb967c68a"
      },
      "execution_count": 22,
      "outputs": [
        {
          "output_type": "stream",
          "name": "stdout",
          "text": [
            "CFOPS encontrados:  211\n",
            "NCMs encontrados:  4672\n"
          ]
        }
      ]
    },
    {
      "cell_type": "code",
      "source": [
        "aux = df2[\"CFOP\"].value_counts().sort_values()[-10:]\n",
        "plt.figure(figsize=((15,5)))\n",
        "ax = sns.barplot(x=aux.index, y=aux, )\n",
        "ax.set(xlabel='Código CFOP', ylabel='Ocorrências')\n",
        "plt.show()\n",
        "print(\"10 CFOPs mais frequentes\\n\",aux)"
      ],
      "metadata": {
        "colab": {
          "base_uri": "https://localhost:8080/",
          "height": 546
        },
        "id": "07f3qnnJqK3f",
        "outputId": "f6808c87-5932-4da0-ba59-34498d7a6a7a"
      },
      "execution_count": 56,
      "outputs": [
        {
          "output_type": "display_data",
          "data": {
            "text/plain": [
              "<Figure size 1080x360 with 1 Axes>"
            ],
            "image/png": "[encoded data removed]"
          },
          "metadata": {
            "needs_background": "light"
          }
        },
        {
          "output_type": "stream",
          "name": "stdout",
          "text": [
            "10 CFOPs mais frequentes\n",
            " 5403     2929\n",
            "6404     3341\n",
            "5933     6206\n",
            "1949     6262\n",
            "6949     8648\n",
            "5949    10358\n",
            "6102    14621\n",
            "6108    18393\n",
            "5405    18507\n",
            "5102    33348\n",
            "Name: CFOP, dtype: int64\n"
          ]
        }
      ]
    },
    {
      "cell_type": "code",
      "source": [
        "aux = df2[\"NCM\"].value_counts().sort_values()[-10:]\n",
        "plt.figure(figsize=((15,5)))\n",
        "ax = sns.barplot(x=aux.index, y=aux, )\n",
        "ax.set(xlabel='Código NCM', ylabel='Ocorrências')\n",
        "plt.show()\n",
        "print(\"10 NCMs mais frequentes\\n\",aux)"
      ],
      "metadata": {
        "colab": {
          "base_uri": "https://localhost:8080/",
          "height": 542
        },
        "id": "exrU4ovOrf06",
        "outputId": "b5389471-8850-4e1e-9cc6-ad0d64f7d6f2"
      },
      "execution_count": 57,
      "outputs": [
        {
          "output_type": "display_data",
          "data": {
            "text/plain": [
              "<Figure size 1080x360 with 1 Axes>"
            ],
            "image/png": "[encoded data removed]"
          },
          "metadata": {
            "needs_background": "light"
          }
        },
        {
          "output_type": "stream",
          "name": "stdout",
          "text": [
            "10 NCMs mais frequentes\n",
            "  27101932     1434\n",
            " 39174090     1803\n",
            " 90183929     1994\n",
            " 90213190     2110\n",
            " 87089990     2515\n",
            " 38220090     2593\n",
            " 90211020     5354\n",
            " 90189099     7506\n",
            "-1            7722\n",
            " 49019900    11197\n",
            "Name: NCM, dtype: int64\n"
          ]
        }
      ]
    },
    {
      "cell_type": "code",
      "source": [
        "text_lengths = np.array([len(_) for _ in df2['DESCR']])\n",
        "plt.hist(text_lengths, bins=120)\n",
        "plt.ylabel(\"Ocorrências\")\n",
        "plt.xlabel(\"Tamanho da descrição\")\n",
        "plt.show()"
      ],
      "metadata": {
        "colab": {
          "base_uri": "https://localhost:8080/",
          "height": 279
        },
        "id": "Ot-l4L0_txnL",
        "outputId": "8681c82f-4b56-447f-d035-70e8ab9071c4"
      },
      "execution_count": 58,
      "outputs": [
        {
          "output_type": "display_data",
          "data": {
            "text/plain": [
              "<Figure size 432x288 with 1 Axes>"
            ],
            "image/png": "[encoded data removed]"
          },
          "metadata": {
            "needs_background": "light"
          }
        }
      ]
    },
    {
      "cell_type": "code",
      "source": [
        ""
      ],
      "metadata": {
        "id": "syGzH7r8v7Ny"
      },
      "execution_count": null,
      "outputs": []
    }
  ]
}