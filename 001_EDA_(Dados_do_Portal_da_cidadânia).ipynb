{
  "nbformat": 4,
  "nbformat_minor": 0,
  "metadata": {
    "colab": {
      "name": "001 - EDA (Dados do Portal da cidadânia).ipynb",
      "provenance": [],
      "authorship_tag": "ABX9TyMwf6f7yDJ9wR5jczM7YIMI",
      "include_colab_link": true
    },
    "kernelspec": {
      "name": "python3",
      "display_name": "Python 3"
    },
    "language_info": {
      "name": "python"
    }
  },
  "cells": [
    {
      "cell_type": "markdown",
      "metadata": {
        "id": "view-in-github",
        "colab_type": "text"
      },
      "source": [
        "<a href=\"https://colab.research.google.com/github/mfilipak/AFRAC_IA/blob/main/001_EDA_(Dados_do_Portal_da_cidad%C3%A2nia).ipynb\" target=\"_parent\"><img src=\"https://colab.research.google.com/assets/colab-badge.svg\" alt=\"Open In Colab\"/></a>"
      ]
    },
    {
      "cell_type": "markdown",
      "source": [
        "# Experimento 001\n",
        "##Objetivo: EDA (Análise exploratória dos dados)\n",
        "###Descrição: Nesse notebook, a partir de dados públicos do portal da transparência, foram feitas visualizações e apresentações estatísticas especialmente para entender o comportamento da descrição das mercadorias. A análise, insights obtidos estão sendo consolidados no fim desse notebook, incluindo eventualmente links externos para estudo e/ou consulta.\n"
      ],
      "metadata": {
        "id": "0KXIlW8Pjmq_"
      }
    },
    {
      "cell_type": "markdown",
      "source": [
        "Dica: No COLAB Use CTRL SPACE ao invés de TAB para \"autocompletar\". Ex:pd.re [CTRL SPACE] vai mostrar uma lista contendo as funções e atributos que começam com pd.re (como read_csv, ...) "
      ],
      "metadata": {
        "id": "IX6AphxHrGYR"
      }
    },
    {
      "cell_type": "code",
      "source": [
        "from glob import glob\n",
        "import pandas as pd\n",
        "import numpy as np\n",
        "import matplotlib.pyplot as plt\n",
        "import seaborn as sns"
      ],
      "metadata": {
        "id": "DXkCz1q7i4p0"
      },
      "execution_count": 6,
      "outputs": []
    },
    {
      "cell_type": "markdown",
      "source": [
        "# 1 - Carrega o dataset do link externo e copia o arquivo localmente"
      ],
      "metadata": {
        "id": "ZKNYsBxknhoH"
      }
    },
    {
      "cell_type": "markdown",
      "source": [
        "Fonte do dataset: https://www.portaltransparencia.gov.br/download-de-dados/notas-fiscais\n",
        "\n",
        "Caso você queira rodar esse notebook com outros dados, você pode baixar outro intervalo usando o link acima. Após isso você pode alterar a célula abaixo ou simplesmente mover o arquivo para a pasta local do COLAB. Faça com que a varável DATA_FILE tenha o nome desse arquivo (formato zip ou CSV) e rode o restante do notebook com seus dados."
      ],
      "metadata": {
        "id": "e5ybiXoaWnx4"
      }
    },
    {
      "cell_type": "code",
      "source": [
        "#Copia os dados das NFEs do portal da cidadância pro drive virtual.\n",
        "import requests  \n",
        "file_url = \"https://raw.githubusercontent.com//mfilipak/AFRAC_IA/main/DATASET/202201_NFe_NotaFiscalItem.zip\"\n",
        "r = requests.get(file_url, stream = True) \n",
        "\n",
        "with open(\"portal.zip\", \"wb\") as file:  \n",
        "    for block in r.iter_content(chunk_size = 1024): \n",
        "         if block:  \n",
        "             file.write(block)\n",
        "\n",
        "DATA_FILE = \"portal.zip\""
      ],
      "metadata": {
        "id": "J1zJkh59k3Jp"
      },
      "execution_count": 7,
      "outputs": []
    },
    {
      "cell_type": "markdown",
      "source": [
        "#2 - Carrega o dataframe completo em df"
      ],
      "metadata": {
        "id": "76s_v2Fmns5y"
      }
    },
    {
      "cell_type": "code",
      "source": [
        "df = pd.read_csv(DATA_FILE, encoding=\"CP1252\",sep=\";\")\n",
        "print(\"O dataframe completo contém:\",len(df),\"linhas\")"
      ],
      "metadata": {
        "colab": {
          "base_uri": "https://localhost:8080/"
        },
        "id": "0M6SK4VvkTEE",
        "outputId": "0d152dc9-c6e7-4754-8fa3-7fe64485b10b"
      },
      "execution_count": 8,
      "outputs": [
        {
          "output_type": "stream",
          "name": "stdout",
          "text": [
            "O dataframe completo contém: 324056 linhas\n"
          ]
        }
      ]
    },
    {
      "cell_type": "code",
      "source": [
        "df[:1]"
      ],
      "metadata": {
        "colab": {
          "base_uri": "https://localhost:8080/",
          "height": 296
        },
        "id": "eVO-m70CmsKp",
        "outputId": "8a894741-08e2-4d9c-f169-4a16285690ec"
      },
      "execution_count": 9,
      "outputs": [
        {
          "output_type": "execute_result",
          "data": {
            "text/plain": [
              "                                CHAVE DE ACESSO  \\\n",
              "0  42220107432517001847550030005499571000224173   \n",
              "\n",
              "                                              MODELO  SÉRIE  NÚMERO  \\\n",
              "0  55 - NF-E EMITIDA EM SUBSTITUIÇÃO AO MODELO 1 ...      3  549957   \n",
              "\n",
              "                         NATUREZA DA OPERAÇÃO         DATA EMISSÃO  \\\n",
              "0  Outra saida merc./prest.serv. nao especif.  01/01/2022 00:02:22   \n",
              "\n",
              "  CPF/CNPJ Emitente                      RAZÃO SOCIAL EMITENTE  \\\n",
              "0    07432517001847  SIMPRESS COMERCIO LOCACAO E SERVICOS LTDA   \n",
              "\n",
              "  INSCRIÇÃO ESTADUAL EMITENTE UF EMITENTE  ... PRESENÇA DO COMPRADOR  \\\n",
              "0                   257477446          SC  ...     0 - NÃO SE APLICA   \n",
              "\n",
              "   NÚMERO PRODUTO         DESCRIÇÃO DO PRODUTO/SERVIÇO CÓDIGO NCM/SH  \\\n",
              "0               1  HP RESERVATORIO DE RESIDUO DE TONER      84439939   \n",
              "\n",
              "                            NCM/SH (TIPO DE PRODUTO)  CFOP QUANTIDADE UNIDADE  \\\n",
              "0  Outras partes e acessórios para aparelhos de f...  6949       1,00  UNIDAD   \n",
              "\n",
              "   VALOR UNITÁRIO VALOR TOTAL  \n",
              "0           56,49       56,49  \n",
              "\n",
              "[1 rows x 27 columns]"
            ],
            "text/html": [
              "\n",
              "  <div id=\"df-edc384df-1c62-4108-95d5-98376d413ad8\">\n",
              "    <div class=\"colab-df-container\">\n",
              "      <div>\n",
              "<style scoped>\n",
              "    .dataframe tbody tr th:only-of-type {\n",
              "        vertical-align: middle;\n",
              "    }\n",
              "\n",
              "    .dataframe tbody tr th {\n",
              "        vertical-align: top;\n",
              "    }\n",
              "\n",
              "    .dataframe thead th {\n",
              "        text-align: right;\n",
              "    }\n",
              "</style>\n",
              "<table border=\"1\" class=\"dataframe\">\n",
              "  <thead>\n",
              "    <tr style=\"text-align: right;\">\n",
              "      <th></th>\n",
              "      <th>CHAVE DE ACESSO</th>\n",
              "      <th>MODELO</th>\n",
              "      <th>SÉRIE</th>\n",
              "      <th>NÚMERO</th>\n",
              "      <th>NATUREZA DA OPERAÇÃO</th>\n",
              "      <th>DATA EMISSÃO</th>\n",
              "      <th>CPF/CNPJ Emitente</th>\n",
              "      <th>RAZÃO SOCIAL EMITENTE</th>\n",
              "      <th>INSCRIÇÃO ESTADUAL EMITENTE</th>\n",
              "      <th>UF EMITENTE</th>\n",
              "      <th>...</th>\n",
              "      <th>PRESENÇA DO COMPRADOR</th>\n",
              "      <th>NÚMERO PRODUTO</th>\n",
              "      <th>DESCRIÇÃO DO PRODUTO/SERVIÇO</th>\n",
              "      <th>CÓDIGO NCM/SH</th>\n",
              "      <th>NCM/SH (TIPO DE PRODUTO)</th>\n",
              "      <th>CFOP</th>\n",
              "      <th>QUANTIDADE</th>\n",
              "      <th>UNIDADE</th>\n",
              "      <th>VALOR UNITÁRIO</th>\n",
              "      <th>VALOR TOTAL</th>\n",
              "    </tr>\n",
              "  </thead>\n",
              "  <tbody>\n",
              "    <tr>\n",
              "      <th>0</th>\n",
              "      <td>42220107432517001847550030005499571000224173</td>\n",
              "      <td>55 - NF-E EMITIDA EM SUBSTITUIÇÃO AO MODELO 1 ...</td>\n",
              "      <td>3</td>\n",
              "      <td>549957</td>\n",
              "      <td>Outra saida merc./prest.serv. nao especif.</td>\n",
              "      <td>01/01/2022 00:02:22</td>\n",
              "      <td>07432517001847</td>\n",
              "      <td>SIMPRESS COMERCIO LOCACAO E SERVICOS LTDA</td>\n",
              "      <td>257477446</td>\n",
              "      <td>SC</td>\n",
              "      <td>...</td>\n",
              "      <td>0 - NÃO SE APLICA</td>\n",
              "      <td>1</td>\n",
              "      <td>HP RESERVATORIO DE RESIDUO DE TONER</td>\n",
              "      <td>84439939</td>\n",
              "      <td>Outras partes e acessórios para aparelhos de f...</td>\n",
              "      <td>6949</td>\n",
              "      <td>1,00</td>\n",
              "      <td>UNIDAD</td>\n",
              "      <td>56,49</td>\n",
              "      <td>56,49</td>\n",
              "    </tr>\n",
              "  </tbody>\n",
              "</table>\n",
              "<p>1 rows × 27 columns</p>\n",
              "</div>\n",
              "      <button class=\"colab-df-convert\" onclick=\"convertToInteractive('df-edc384df-1c62-4108-95d5-98376d413ad8')\"\n",
              "              title=\"Convert this dataframe to an interactive table.\"\n",
              "              style=\"display:none;\">\n",
              "        \n",
              "  <svg xmlns=\"http://www.w3.org/2000/svg\" height=\"24px\"viewBox=\"0 0 24 24\"\n",
              "       width=\"24px\">\n",
              "    <path d=\"M0 0h24v24H0V0z\" fill=\"none\"/>\n",
              "    <path d=\"M18.56 5.44l.94 2.06.94-2.06 2.06-.94-2.06-.94-.94-2.06-.94 2.06-2.06.94zm-11 1L8.5 8.5l.94-2.06 2.06-.94-2.06-.94L8.5 2.5l-.94 2.06-2.06.94zm10 10l.94 2.06.94-2.06 2.06-.94-2.06-.94-.94-2.06-.94 2.06-2.06.94z\"/><path d=\"M17.41 7.96l-1.37-1.37c-.4-.4-.92-.59-1.43-.59-.52 0-1.04.2-1.43.59L10.3 9.45l-7.72 7.72c-.78.78-.78 2.05 0 2.83L4 21.41c.39.39.9.59 1.41.59.51 0 1.02-.2 1.41-.59l7.78-7.78 2.81-2.81c.8-.78.8-2.07 0-2.86zM5.41 20L4 18.59l7.72-7.72 1.47 1.35L5.41 20z\"/>\n",
              "  </svg>\n",
              "      </button>\n",
              "      \n",
              "  <style>\n",
              "    .colab-df-container {\n",
              "      display:flex;\n",
              "      flex-wrap:wrap;\n",
              "      gap: 12px;\n",
              "    }\n",
              "\n",
              "    .colab-df-convert {\n",
              "      background-color: #E8F0FE;\n",
              "      border: none;\n",
              "      border-radius: 50%;\n",
              "      cursor: pointer;\n",
              "      display: none;\n",
              "      fill: #1967D2;\n",
              "      height: 32px;\n",
              "      padding: 0 0 0 0;\n",
              "      width: 32px;\n",
              "    }\n",
              "\n",
              "    .colab-df-convert:hover {\n",
              "      background-color: #E2EBFA;\n",
              "      box-shadow: 0px 1px 2px rgba(60, 64, 67, 0.3), 0px 1px 3px 1px rgba(60, 64, 67, 0.15);\n",
              "      fill: #174EA6;\n",
              "    }\n",
              "\n",
              "    [theme=dark] .colab-df-convert {\n",
              "      background-color: #3B4455;\n",
              "      fill: #D2E3FC;\n",
              "    }\n",
              "\n",
              "    [theme=dark] .colab-df-convert:hover {\n",
              "      background-color: #434B5C;\n",
              "      box-shadow: 0px 1px 3px 1px rgba(0, 0, 0, 0.15);\n",
              "      filter: drop-shadow(0px 1px 2px rgba(0, 0, 0, 0.3));\n",
              "      fill: #FFFFFF;\n",
              "    }\n",
              "  </style>\n",
              "\n",
              "      <script>\n",
              "        const buttonEl =\n",
              "          document.querySelector('#df-edc384df-1c62-4108-95d5-98376d413ad8 button.colab-df-convert');\n",
              "        buttonEl.style.display =\n",
              "          google.colab.kernel.accessAllowed ? 'block' : 'none';\n",
              "\n",
              "        async function convertToInteractive(key) {\n",
              "          const element = document.querySelector('#df-edc384df-1c62-4108-95d5-98376d413ad8');\n",
              "          const dataTable =\n",
              "            await google.colab.kernel.invokeFunction('convertToInteractive',\n",
              "                                                     [key], {});\n",
              "          if (!dataTable) return;\n",
              "\n",
              "          const docLinkHtml = 'Like what you see? Visit the ' +\n",
              "            '<a target=\"_blank\" href=https://colab.research.google.com/notebooks/data_table.ipynb>data table notebook</a>'\n",
              "            + ' to learn more about interactive tables.';\n",
              "          element.innerHTML = '';\n",
              "          dataTable['output_type'] = 'display_data';\n",
              "          await google.colab.output.renderOutput(dataTable, element);\n",
              "          const docLink = document.createElement('div');\n",
              "          docLink.innerHTML = docLinkHtml;\n",
              "          element.appendChild(docLink);\n",
              "        }\n",
              "      </script>\n",
              "    </div>\n",
              "  </div>\n",
              "  "
            ]
          },
          "metadata": {},
          "execution_count": 9
        }
      ]
    },
    {
      "cell_type": "code",
      "source": [
        "df.keys()"
      ],
      "metadata": {
        "colab": {
          "base_uri": "https://localhost:8080/"
        },
        "id": "JRNVxeH_mvOj",
        "outputId": "bbc6c6a0-d980-42bf-df25-cdd4547ca948"
      },
      "execution_count": 10,
      "outputs": [
        {
          "output_type": "execute_result",
          "data": {
            "text/plain": [
              "Index(['CHAVE DE ACESSO', 'MODELO', 'SÉRIE', 'NÚMERO', 'NATUREZA DA OPERAÇÃO',\n",
              "       'DATA EMISSÃO', 'CPF/CNPJ Emitente', 'RAZÃO SOCIAL EMITENTE',\n",
              "       'INSCRIÇÃO ESTADUAL EMITENTE', 'UF EMITENTE', 'MUNICÍPIO EMITENTE',\n",
              "       'CNPJ DESTINATÁRIO', 'NOME DESTINATÁRIO', 'UF DESTINATÁRIO',\n",
              "       'INDICADOR IE DESTINATÁRIO', 'DESTINO DA OPERAÇÃO', 'CONSUMIDOR FINAL',\n",
              "       'PRESENÇA DO COMPRADOR', 'NÚMERO PRODUTO',\n",
              "       'DESCRIÇÃO DO PRODUTO/SERVIÇO', 'CÓDIGO NCM/SH',\n",
              "       'NCM/SH (TIPO DE PRODUTO)', 'CFOP', 'QUANTIDADE', 'UNIDADE',\n",
              "       'VALOR UNITÁRIO', 'VALOR TOTAL'],\n",
              "      dtype='object')"
            ]
          },
          "metadata": {},
          "execution_count": 10
        }
      ]
    },
    {
      "cell_type": "markdown",
      "source": [
        "# 3 - Limpeza inicial do dataframe.<br>\n",
        "df2 conterá somente 4 campos (Data, descr, ncm e cfop)\n",
        "Eliminados itens duplicados (mesma descr, ncm e cfop)"
      ],
      "metadata": {
        "id": "p3dKOfw_ogSk"
      }
    },
    {
      "cell_type": "code",
      "source": [
        "df2 = df[['DATA EMISSÃO','DESCRIÇÃO DO PRODUTO/SERVIÇO', 'CÓDIGO NCM/SH', 'CFOP']]\n",
        "df2.columns = [\"DATA\", \"DESCR\", \"NCM\", \"CFOP\"]\n",
        "df2 = df2.drop_duplicates(subset=[\"DESCR\", \"NCM\", \"CFOP\"])\n",
        "df2"
      ],
      "metadata": {
        "colab": {
          "base_uri": "https://localhost:8080/",
          "height": 424
        },
        "id": "ggg2l7vBm6eC",
        "outputId": "160162d5-7db0-495a-ef59-e50f2606a7cf"
      },
      "execution_count": 11,
      "outputs": [
        {
          "output_type": "execute_result",
          "data": {
            "text/plain": [
              "                       DATA                                             DESCR  \\\n",
              "0       01/01/2022 00:02:22               HP RESERVATORIO DE RESIDUO DE TONER   \n",
              "1       01/01/2022 00:03:59   MLTD201LXAZ CARTUCHO DE TONER PRETO 20K PAGINAS   \n",
              "3       01/01/2022 00:12:39    CLTC609SXAZ CARTUCHO DE TONER CIANO 7K PAGINAS   \n",
              "7       01/01/2022 00:46:32   MLTD203UXAZ CARTUCHO DE TONER PRETO 15K PAGINAS   \n",
              "8       01/01/2022 00:55:40  CLTC506LXAZ CARTUCHO DE TONER CIANO 3.5K PAGINAS   \n",
              "...                     ...                                               ...   \n",
              "324044  31/01/2022 23:54:45                 FAROL DE MILHA ESQUERDO / DIREITO   \n",
              "324045  31/01/2022 23:54:45                      FAROL LADO ESQUERDO/ DIREITO   \n",
              "324046  31/01/2022 23:54:45             CUBO DE RODA DIANT DIREITO / ESQUERDO   \n",
              "324048  31/01/2022 23:55:00                     POLTRONA PRESIDENTE GIRATORIA   \n",
              "324053  31/01/2022 23:59:59                             Leite Cru Refrigerado   \n",
              "\n",
              "             NCM  CFOP  \n",
              "0       84439939  6949  \n",
              "1       84439933  6949  \n",
              "3       84439933  6949  \n",
              "7       84439933  6949  \n",
              "8       84439933  6949  \n",
              "...          ...   ...  \n",
              "324044  85149000  5405  \n",
              "324045  85149000  5405  \n",
              "324046  87089529  5405  \n",
              "324048  94021000  6102  \n",
              "324053   4014010  1135  \n",
              "\n",
              "[162782 rows x 4 columns]"
            ],
            "text/html": [
              "\n",
              "  <div id=\"df-1ef0da15-a3f6-4109-9b74-8cb2de33f3cd\">\n",
              "    <div class=\"colab-df-container\">\n",
              "      <div>\n",
              "<style scoped>\n",
              "    .dataframe tbody tr th:only-of-type {\n",
              "        vertical-align: middle;\n",
              "    }\n",
              "\n",
              "    .dataframe tbody tr th {\n",
              "        vertical-align: top;\n",
              "    }\n",
              "\n",
              "    .dataframe thead th {\n",
              "        text-align: right;\n",
              "    }\n",
              "</style>\n",
              "<table border=\"1\" class=\"dataframe\">\n",
              "  <thead>\n",
              "    <tr style=\"text-align: right;\">\n",
              "      <th></th>\n",
              "      <th>DATA</th>\n",
              "      <th>DESCR</th>\n",
              "      <th>NCM</th>\n",
              "      <th>CFOP</th>\n",
              "    </tr>\n",
              "  </thead>\n",
              "  <tbody>\n",
              "    <tr>\n",
              "      <th>0</th>\n",
              "      <td>01/01/2022 00:02:22</td>\n",
              "      <td>HP RESERVATORIO DE RESIDUO DE TONER</td>\n",
              "      <td>84439939</td>\n",
              "      <td>6949</td>\n",
              "    </tr>\n",
              "    <tr>\n",
              "      <th>1</th>\n",
              "      <td>01/01/2022 00:03:59</td>\n",
              "      <td>MLTD201LXAZ CARTUCHO DE TONER PRETO 20K PAGINAS</td>\n",
              "      <td>84439933</td>\n",
              "      <td>6949</td>\n",
              "    </tr>\n",
              "    <tr>\n",
              "      <th>3</th>\n",
              "      <td>01/01/2022 00:12:39</td>\n",
              "      <td>CLTC609SXAZ CARTUCHO DE TONER CIANO 7K PAGINAS</td>\n",
              "      <td>84439933</td>\n",
              "      <td>6949</td>\n",
              "    </tr>\n",
              "    <tr>\n",
              "      <th>7</th>\n",
              "      <td>01/01/2022 00:46:32</td>\n",
              "      <td>MLTD203UXAZ CARTUCHO DE TONER PRETO 15K PAGINAS</td>\n",
              "      <td>84439933</td>\n",
              "      <td>6949</td>\n",
              "    </tr>\n",
              "    <tr>\n",
              "      <th>8</th>\n",
              "      <td>01/01/2022 00:55:40</td>\n",
              "      <td>CLTC506LXAZ CARTUCHO DE TONER CIANO 3.5K PAGINAS</td>\n",
              "      <td>84439933</td>\n",
              "      <td>6949</td>\n",
              "    </tr>\n",
              "    <tr>\n",
              "      <th>...</th>\n",
              "      <td>...</td>\n",
              "      <td>...</td>\n",
              "      <td>...</td>\n",
              "      <td>...</td>\n",
              "    </tr>\n",
              "    <tr>\n",
              "      <th>324044</th>\n",
              "      <td>31/01/2022 23:54:45</td>\n",
              "      <td>FAROL DE MILHA ESQUERDO / DIREITO</td>\n",
              "      <td>85149000</td>\n",
              "      <td>5405</td>\n",
              "    </tr>\n",
              "    <tr>\n",
              "      <th>324045</th>\n",
              "      <td>31/01/2022 23:54:45</td>\n",
              "      <td>FAROL LADO ESQUERDO/ DIREITO</td>\n",
              "      <td>85149000</td>\n",
              "      <td>5405</td>\n",
              "    </tr>\n",
              "    <tr>\n",
              "      <th>324046</th>\n",
              "      <td>31/01/2022 23:54:45</td>\n",
              "      <td>CUBO DE RODA DIANT DIREITO / ESQUERDO</td>\n",
              "      <td>87089529</td>\n",
              "      <td>5405</td>\n",
              "    </tr>\n",
              "    <tr>\n",
              "      <th>324048</th>\n",
              "      <td>31/01/2022 23:55:00</td>\n",
              "      <td>POLTRONA PRESIDENTE GIRATORIA</td>\n",
              "      <td>94021000</td>\n",
              "      <td>6102</td>\n",
              "    </tr>\n",
              "    <tr>\n",
              "      <th>324053</th>\n",
              "      <td>31/01/2022 23:59:59</td>\n",
              "      <td>Leite Cru Refrigerado</td>\n",
              "      <td>4014010</td>\n",
              "      <td>1135</td>\n",
              "    </tr>\n",
              "  </tbody>\n",
              "</table>\n",
              "<p>162782 rows × 4 columns</p>\n",
              "</div>\n",
              "      <button class=\"colab-df-convert\" onclick=\"convertToInteractive('df-1ef0da15-a3f6-4109-9b74-8cb2de33f3cd')\"\n",
              "              title=\"Convert this dataframe to an interactive table.\"\n",
              "              style=\"display:none;\">\n",
              "        \n",
              "  <svg xmlns=\"http://www.w3.org/2000/svg\" height=\"24px\"viewBox=\"0 0 24 24\"\n",
              "       width=\"24px\">\n",
              "    <path d=\"M0 0h24v24H0V0z\" fill=\"none\"/>\n",
              "    <path d=\"M18.56 5.44l.94 2.06.94-2.06 2.06-.94-2.06-.94-.94-2.06-.94 2.06-2.06.94zm-11 1L8.5 8.5l.94-2.06 2.06-.94-2.06-.94L8.5 2.5l-.94 2.06-2.06.94zm10 10l.94 2.06.94-2.06 2.06-.94-2.06-.94-.94-2.06-.94 2.06-2.06.94z\"/><path d=\"M17.41 7.96l-1.37-1.37c-.4-.4-.92-.59-1.43-.59-.52 0-1.04.2-1.43.59L10.3 9.45l-7.72 7.72c-.78.78-.78 2.05 0 2.83L4 21.41c.39.39.9.59 1.41.59.51 0 1.02-.2 1.41-.59l7.78-7.78 2.81-2.81c.8-.78.8-2.07 0-2.86zM5.41 20L4 18.59l7.72-7.72 1.47 1.35L5.41 20z\"/>\n",
              "  </svg>\n",
              "      </button>\n",
              "      \n",
              "  <style>\n",
              "    .colab-df-container {\n",
              "      display:flex;\n",
              "      flex-wrap:wrap;\n",
              "      gap: 12px;\n",
              "    }\n",
              "\n",
              "    .colab-df-convert {\n",
              "      background-color: #E8F0FE;\n",
              "      border: none;\n",
              "      border-radius: 50%;\n",
              "      cursor: pointer;\n",
              "      display: none;\n",
              "      fill: #1967D2;\n",
              "      height: 32px;\n",
              "      padding: 0 0 0 0;\n",
              "      width: 32px;\n",
              "    }\n",
              "\n",
              "    .colab-df-convert:hover {\n",
              "      background-color: #E2EBFA;\n",
              "      box-shadow: 0px 1px 2px rgba(60, 64, 67, 0.3), 0px 1px 3px 1px rgba(60, 64, 67, 0.15);\n",
              "      fill: #174EA6;\n",
              "    }\n",
              "\n",
              "    [theme=dark] .colab-df-convert {\n",
              "      background-color: #3B4455;\n",
              "      fill: #D2E3FC;\n",
              "    }\n",
              "\n",
              "    [theme=dark] .colab-df-convert:hover {\n",
              "      background-color: #434B5C;\n",
              "      box-shadow: 0px 1px 3px 1px rgba(0, 0, 0, 0.15);\n",
              "      filter: drop-shadow(0px 1px 2px rgba(0, 0, 0, 0.3));\n",
              "      fill: #FFFFFF;\n",
              "    }\n",
              "  </style>\n",
              "\n",
              "      <script>\n",
              "        const buttonEl =\n",
              "          document.querySelector('#df-1ef0da15-a3f6-4109-9b74-8cb2de33f3cd button.colab-df-convert');\n",
              "        buttonEl.style.display =\n",
              "          google.colab.kernel.accessAllowed ? 'block' : 'none';\n",
              "\n",
              "        async function convertToInteractive(key) {\n",
              "          const element = document.querySelector('#df-1ef0da15-a3f6-4109-9b74-8cb2de33f3cd');\n",
              "          const dataTable =\n",
              "            await google.colab.kernel.invokeFunction('convertToInteractive',\n",
              "                                                     [key], {});\n",
              "          if (!dataTable) return;\n",
              "\n",
              "          const docLinkHtml = 'Like what you see? Visit the ' +\n",
              "            '<a target=\"_blank\" href=https://colab.research.google.com/notebooks/data_table.ipynb>data table notebook</a>'\n",
              "            + ' to learn more about interactive tables.';\n",
              "          element.innerHTML = '';\n",
              "          dataTable['output_type'] = 'display_data';\n",
              "          await google.colab.output.renderOutput(dataTable, element);\n",
              "          const docLink = document.createElement('div');\n",
              "          docLink.innerHTML = docLinkHtml;\n",
              "          element.appendChild(docLink);\n",
              "        }\n",
              "      </script>\n",
              "    </div>\n",
              "  </div>\n",
              "  "
            ]
          },
          "metadata": {},
          "execution_count": 11
        }
      ]
    },
    {
      "cell_type": "markdown",
      "source": [
        "#4 - Vamos dar uma olhada nas informações de cada coluna"
      ],
      "metadata": {
        "id": "e3gOtpxvp0Wj"
      }
    },
    {
      "cell_type": "code",
      "source": [
        "print(\"CFOPS encontrados: \",len(df2[\"CFOP\"].unique()))\n",
        "print(\"NCMs encontrados: \",len(df2[\"NCM\"].unique()))"
      ],
      "metadata": {
        "colab": {
          "base_uri": "https://localhost:8080/"
        },
        "id": "GXgbeMO9pWPK",
        "outputId": "362cede3-8f0d-47a4-ea62-061dad2e7851"
      },
      "execution_count": 12,
      "outputs": [
        {
          "output_type": "stream",
          "name": "stdout",
          "text": [
            "CFOPS encontrados:  211\n",
            "NCMs encontrados:  4672\n"
          ]
        }
      ]
    },
    {
      "cell_type": "code",
      "source": [
        "aux = df2[\"CFOP\"].value_counts().sort_values()[-10:]\n",
        "plt.figure(figsize=((15,5)))\n",
        "ax = sns.barplot(x=aux.index, y=aux, )\n",
        "ax.set(xlabel='Código CFOP', ylabel='Ocorrências')\n",
        "plt.show()\n",
        "print(\"10 CFOPs mais frequentes\\n\",aux)"
      ],
      "metadata": {
        "colab": {
          "base_uri": "https://localhost:8080/",
          "height": 546
        },
        "id": "07f3qnnJqK3f",
        "outputId": "4033cca7-b580-4f2d-88e3-f7f7e65ef5f7"
      },
      "execution_count": 13,
      "outputs": [
        {
          "output_type": "display_data",
          "data": {
            "text/plain": [
              "<Figure size 1080x360 with 1 Axes>"
            ],
            "image/png": "[encoded data removed]"
          },
          "metadata": {
            "needs_background": "light"
          }
        },
        {
          "output_type": "stream",
          "name": "stdout",
          "text": [
            "10 CFOPs mais frequentes\n",
            " 5403     2929\n",
            "6404     3341\n",
            "5933     6206\n",
            "1949     6262\n",
            "6949     8648\n",
            "5949    10358\n",
            "6102    14621\n",
            "6108    18393\n",
            "5405    18507\n",
            "5102    33348\n",
            "Name: CFOP, dtype: int64\n"
          ]
        }
      ]
    },
    {
      "cell_type": "code",
      "source": [
        "aux = df2[\"NCM\"].value_counts().sort_values()[-10:]\n",
        "plt.figure(figsize=((15,5)))\n",
        "ax = sns.barplot(x=aux.index, y=aux, )\n",
        "ax.set(xlabel='Código NCM', ylabel='Ocorrências')\n",
        "plt.show()\n",
        "print(\"10 NCMs mais frequentes\\n\",aux)"
      ],
      "metadata": {
        "colab": {
          "base_uri": "https://localhost:8080/",
          "height": 542
        },
        "id": "exrU4ovOrf06",
        "outputId": "7c920803-83a6-4c9f-ef16-e4f778350f5f"
      },
      "execution_count": 14,
      "outputs": [
        {
          "output_type": "display_data",
          "data": {
            "text/plain": [
              "<Figure size 1080x360 with 1 Axes>"
            ],
            "image/png": "[encoded data removed]"
          },
          "metadata": {
            "needs_background": "light"
          }
        },
        {
          "output_type": "stream",
          "name": "stdout",
          "text": [
            "10 NCMs mais frequentes\n",
            "  27101932     1434\n",
            " 39174090     1803\n",
            " 90183929     1994\n",
            " 90213190     2110\n",
            " 87089990     2515\n",
            " 38220090     2593\n",
            " 90211020     5354\n",
            " 90189099     7506\n",
            "-1            7722\n",
            " 49019900    11197\n",
            "Name: NCM, dtype: int64\n"
          ]
        }
      ]
    },
    {
      "cell_type": "code",
      "source": [
        "#Por aqui, podemos ver que NCM=-1 normalmente está associado a serviços. Vamos excluí-los a seguir.\n",
        "df2[df2[\"NCM\"]==-1]"
      ],
      "metadata": {
        "colab": {
          "base_uri": "https://localhost:8080/",
          "height": 424
        },
        "id": "7zkv8q2W1fvJ",
        "outputId": "49f38b93-62a5-4530-bb98-8b765d7f34ac"
      },
      "execution_count": 15,
      "outputs": [
        {
          "output_type": "execute_result",
          "data": {
            "text/plain": [
              "                       DATA  \\\n",
              "33      01/01/2022 02:25:00   \n",
              "35      01/01/2022 03:28:00   \n",
              "36      01/01/2022 03:56:02   \n",
              "69      01/01/2022 11:01:00   \n",
              "76      01/01/2022 12:15:00   \n",
              "...                     ...   \n",
              "323393  31/01/2022 20:10:00   \n",
              "323394  31/01/2022 20:10:00   \n",
              "323395  31/01/2022 20:10:00   \n",
              "323696  31/01/2022 21:34:13   \n",
              "323818  31/01/2022 22:08:30   \n",
              "\n",
              "                                                    DESCR  NCM  CFOP  \n",
              "33      SERVICOS RELACIONADOS AO MONITORAMENTO E RASTR...   -1  5933  \n",
              "35                                       MANUTENCAO DE HW   -1  5933  \n",
              "36      SERVICO DE DATACENTER - CONTRATO N° 39/2018  -...   -1  5933  \n",
              "69      INSTALACAO, CONFIGURACAO E MANUTENCAO DE PROGR...   -1  5933  \n",
              "76                                N Servico: 202100455410   -1  5933  \n",
              "...                                                   ...  ...   ...  \n",
              "323393  NF ref.aos Serviços Prestados do Contrato:51/2...   -1  5933  \n",
              "323394  NF ref. aos Serv. Prest. do Contrato:51/2018-O...   -1  5933  \n",
              "323395  NF ref. aos Serv. Prest. do Contrato:51/2018-O...   -1  5933  \n",
              "323696                   FITA ZEBRADA PRETO/AMARELO 200 M   -1  5102  \n",
              "323818                                             CEBOLA   -1  5405  \n",
              "\n",
              "[7722 rows x 4 columns]"
            ],
            "text/html": [
              "\n",
              "  <div id=\"df-0d5dd821-1c4f-4bc2-a7d1-0e3cf151e9ed\">\n",
              "    <div class=\"colab-df-container\">\n",
              "      <div>\n",
              "<style scoped>\n",
              "    .dataframe tbody tr th:only-of-type {\n",
              "        vertical-align: middle;\n",
              "    }\n",
              "\n",
              "    .dataframe tbody tr th {\n",
              "        vertical-align: top;\n",
              "    }\n",
              "\n",
              "    .dataframe thead th {\n",
              "        text-align: right;\n",
              "    }\n",
              "</style>\n",
              "<table border=\"1\" class=\"dataframe\">\n",
              "  <thead>\n",
              "    <tr style=\"text-align: right;\">\n",
              "      <th></th>\n",
              "      <th>DATA</th>\n",
              "      <th>DESCR</th>\n",
              "      <th>NCM</th>\n",
              "      <th>CFOP</th>\n",
              "    </tr>\n",
              "  </thead>\n",
              "  <tbody>\n",
              "    <tr>\n",
              "      <th>33</th>\n",
              "      <td>01/01/2022 02:25:00</td>\n",
              "      <td>SERVICOS RELACIONADOS AO MONITORAMENTO E RASTR...</td>\n",
              "      <td>-1</td>\n",
              "      <td>5933</td>\n",
              "    </tr>\n",
              "    <tr>\n",
              "      <th>35</th>\n",
              "      <td>01/01/2022 03:28:00</td>\n",
              "      <td>MANUTENCAO DE HW</td>\n",
              "      <td>-1</td>\n",
              "      <td>5933</td>\n",
              "    </tr>\n",
              "    <tr>\n",
              "      <th>36</th>\n",
              "      <td>01/01/2022 03:56:02</td>\n",
              "      <td>SERVICO DE DATACENTER - CONTRATO N° 39/2018  -...</td>\n",
              "      <td>-1</td>\n",
              "      <td>5933</td>\n",
              "    </tr>\n",
              "    <tr>\n",
              "      <th>69</th>\n",
              "      <td>01/01/2022 11:01:00</td>\n",
              "      <td>INSTALACAO, CONFIGURACAO E MANUTENCAO DE PROGR...</td>\n",
              "      <td>-1</td>\n",
              "      <td>5933</td>\n",
              "    </tr>\n",
              "    <tr>\n",
              "      <th>76</th>\n",
              "      <td>01/01/2022 12:15:00</td>\n",
              "      <td>N Servico: 202100455410</td>\n",
              "      <td>-1</td>\n",
              "      <td>5933</td>\n",
              "    </tr>\n",
              "    <tr>\n",
              "      <th>...</th>\n",
              "      <td>...</td>\n",
              "      <td>...</td>\n",
              "      <td>...</td>\n",
              "      <td>...</td>\n",
              "    </tr>\n",
              "    <tr>\n",
              "      <th>323393</th>\n",
              "      <td>31/01/2022 20:10:00</td>\n",
              "      <td>NF ref.aos Serviços Prestados do Contrato:51/2...</td>\n",
              "      <td>-1</td>\n",
              "      <td>5933</td>\n",
              "    </tr>\n",
              "    <tr>\n",
              "      <th>323394</th>\n",
              "      <td>31/01/2022 20:10:00</td>\n",
              "      <td>NF ref. aos Serv. Prest. do Contrato:51/2018-O...</td>\n",
              "      <td>-1</td>\n",
              "      <td>5933</td>\n",
              "    </tr>\n",
              "    <tr>\n",
              "      <th>323395</th>\n",
              "      <td>31/01/2022 20:10:00</td>\n",
              "      <td>NF ref. aos Serv. Prest. do Contrato:51/2018-O...</td>\n",
              "      <td>-1</td>\n",
              "      <td>5933</td>\n",
              "    </tr>\n",
              "    <tr>\n",
              "      <th>323696</th>\n",
              "      <td>31/01/2022 21:34:13</td>\n",
              "      <td>FITA ZEBRADA PRETO/AMARELO 200 M</td>\n",
              "      <td>-1</td>\n",
              "      <td>5102</td>\n",
              "    </tr>\n",
              "    <tr>\n",
              "      <th>323818</th>\n",
              "      <td>31/01/2022 22:08:30</td>\n",
              "      <td>CEBOLA</td>\n",
              "      <td>-1</td>\n",
              "      <td>5405</td>\n",
              "    </tr>\n",
              "  </tbody>\n",
              "</table>\n",
              "<p>7722 rows × 4 columns</p>\n",
              "</div>\n",
              "      <button class=\"colab-df-convert\" onclick=\"convertToInteractive('df-0d5dd821-1c4f-4bc2-a7d1-0e3cf151e9ed')\"\n",
              "              title=\"Convert this dataframe to an interactive table.\"\n",
              "              style=\"display:none;\">\n",
              "        \n",
              "  <svg xmlns=\"http://www.w3.org/2000/svg\" height=\"24px\"viewBox=\"0 0 24 24\"\n",
              "       width=\"24px\">\n",
              "    <path d=\"M0 0h24v24H0V0z\" fill=\"none\"/>\n",
              "    <path d=\"M18.56 5.44l.94 2.06.94-2.06 2.06-.94-2.06-.94-.94-2.06-.94 2.06-2.06.94zm-11 1L8.5 8.5l.94-2.06 2.06-.94-2.06-.94L8.5 2.5l-.94 2.06-2.06.94zm10 10l.94 2.06.94-2.06 2.06-.94-2.06-.94-.94-2.06-.94 2.06-2.06.94z\"/><path d=\"M17.41 7.96l-1.37-1.37c-.4-.4-.92-.59-1.43-.59-.52 0-1.04.2-1.43.59L10.3 9.45l-7.72 7.72c-.78.78-.78 2.05 0 2.83L4 21.41c.39.39.9.59 1.41.59.51 0 1.02-.2 1.41-.59l7.78-7.78 2.81-2.81c.8-.78.8-2.07 0-2.86zM5.41 20L4 18.59l7.72-7.72 1.47 1.35L5.41 20z\"/>\n",
              "  </svg>\n",
              "      </button>\n",
              "      \n",
              "  <style>\n",
              "    .colab-df-container {\n",
              "      display:flex;\n",
              "      flex-wrap:wrap;\n",
              "      gap: 12px;\n",
              "    }\n",
              "\n",
              "    .colab-df-convert {\n",
              "      background-color: #E8F0FE;\n",
              "      border: none;\n",
              "      border-radius: 50%;\n",
              "      cursor: pointer;\n",
              "      display: none;\n",
              "      fill: #1967D2;\n",
              "      height: 32px;\n",
              "      padding: 0 0 0 0;\n",
              "      width: 32px;\n",
              "    }\n",
              "\n",
              "    .colab-df-convert:hover {\n",
              "      background-color: #E2EBFA;\n",
              "      box-shadow: 0px 1px 2px rgba(60, 64, 67, 0.3), 0px 1px 3px 1px rgba(60, 64, 67, 0.15);\n",
              "      fill: #174EA6;\n",
              "    }\n",
              "\n",
              "    [theme=dark] .colab-df-convert {\n",
              "      background-color: #3B4455;\n",
              "      fill: #D2E3FC;\n",
              "    }\n",
              "\n",
              "    [theme=dark] .colab-df-convert:hover {\n",
              "      background-color: #434B5C;\n",
              "      box-shadow: 0px 1px 3px 1px rgba(0, 0, 0, 0.15);\n",
              "      filter: drop-shadow(0px 1px 2px rgba(0, 0, 0, 0.3));\n",
              "      fill: #FFFFFF;\n",
              "    }\n",
              "  </style>\n",
              "\n",
              "      <script>\n",
              "        const buttonEl =\n",
              "          document.querySelector('#df-0d5dd821-1c4f-4bc2-a7d1-0e3cf151e9ed button.colab-df-convert');\n",
              "        buttonEl.style.display =\n",
              "          google.colab.kernel.accessAllowed ? 'block' : 'none';\n",
              "\n",
              "        async function convertToInteractive(key) {\n",
              "          const element = document.querySelector('#df-0d5dd821-1c4f-4bc2-a7d1-0e3cf151e9ed');\n",
              "          const dataTable =\n",
              "            await google.colab.kernel.invokeFunction('convertToInteractive',\n",
              "                                                     [key], {});\n",
              "          if (!dataTable) return;\n",
              "\n",
              "          const docLinkHtml = 'Like what you see? Visit the ' +\n",
              "            '<a target=\"_blank\" href=https://colab.research.google.com/notebooks/data_table.ipynb>data table notebook</a>'\n",
              "            + ' to learn more about interactive tables.';\n",
              "          element.innerHTML = '';\n",
              "          dataTable['output_type'] = 'display_data';\n",
              "          await google.colab.output.renderOutput(dataTable, element);\n",
              "          const docLink = document.createElement('div');\n",
              "          docLink.innerHTML = docLinkHtml;\n",
              "          element.appendChild(docLink);\n",
              "        }\n",
              "      </script>\n",
              "    </div>\n",
              "  </div>\n",
              "  "
            ]
          },
          "metadata": {},
          "execution_count": 15
        }
      ]
    },
    {
      "cell_type": "code",
      "source": [
        "#Filtrando NCMs = -1\n",
        "df2 = df2[df2[\"NCM\"]!=-1]\n",
        "len(df2)"
      ],
      "metadata": {
        "colab": {
          "base_uri": "https://localhost:8080/"
        },
        "id": "aMC_j8pV2RzL",
        "outputId": "8a8f3c1b-61c2-469d-a70a-d9c0f0e80a39"
      },
      "execution_count": 16,
      "outputs": [
        {
          "output_type": "execute_result",
          "data": {
            "text/plain": [
              "155060"
            ]
          },
          "metadata": {},
          "execution_count": 16
        }
      ]
    },
    {
      "cell_type": "code",
      "source": [
        "text_lengths = np.array([len(_) for _ in df2['DESCR']])\n",
        "plt.hist(text_lengths, bins=120)\n",
        "plt.ylabel(\"Ocorrências\")\n",
        "plt.xlabel(\"Tamanho da descrição\")\n",
        "plt.show()"
      ],
      "metadata": {
        "colab": {
          "base_uri": "https://localhost:8080/",
          "height": 279
        },
        "id": "Ot-l4L0_txnL",
        "outputId": "c86dba95-c423-483f-8001-1ffed259fbc7"
      },
      "execution_count": 17,
      "outputs": [
        {
          "output_type": "display_data",
          "data": {
            "text/plain": [
              "<Figure size 432x288 with 1 Axes>"
            ],
            "image/png": "[encoded data removed]"
          },
          "metadata": {
            "needs_background": "light"
          }
        }
      ]
    },
    {
      "cell_type": "markdown",
      "source": [
        "# 5 - Vamos olhar mais atentamente a coluna de descrição"
      ],
      "metadata": {
        "id": "F01yWN4O1ZVM"
      }
    },
    {
      "cell_type": "code",
      "source": [
        "#TIrando PÁ e CD o restante não parecem ser descrições válidas. Vamos excluí-las\n",
        "np.unique(list(df2[text_lengths<3][\"DESCR\"]))"
      ],
      "metadata": {
        "colab": {
          "base_uri": "https://localhost:8080/"
        },
        "id": "O5lg2-YG108m",
        "outputId": "86cb4d8d-61d3-41bf-9653-1eb592017411"
      },
      "execution_count": 18,
      "outputs": [
        {
          "output_type": "execute_result",
          "data": {
            "text/plain": [
              "array(['*', '-', '.', '5', 'CD', 'LH', 'PÁ', 'UN'], dtype='<U2')"
            ]
          },
          "metadata": {},
          "execution_count": 18
        }
      ]
    },
    {
      "cell_type": "code",
      "source": [
        "#Filtrando essas descrições curtas\n",
        "df2 = df2[text_lengths>=3]\n",
        "len(df2)"
      ],
      "metadata": {
        "colab": {
          "base_uri": "https://localhost:8080/"
        },
        "id": "mg7JIgWn2ueF",
        "outputId": "5cef1f03-2b2c-4ea1-dbb9-243b5d9a2de5"
      },
      "execution_count": 19,
      "outputs": [
        {
          "output_type": "execute_result",
          "data": {
            "text/plain": [
              "155038"
            ]
          },
          "metadata": {},
          "execution_count": 19
        }
      ]
    },
    {
      "cell_type": "code",
      "source": [
        ""
      ],
      "metadata": {
        "id": "KNxN76ZE4Lhk"
      },
      "execution_count": 19,
      "outputs": []
    },
    {
      "cell_type": "markdown",
      "source": [
        "# 6 - Vejamos agora quantas descrições iguais possuem campos de NCM e/ou CFOP diferentes."
      ],
      "metadata": {
        "id": "K5p5WOqu4MOv"
      }
    },
    {
      "cell_type": "code",
      "source": [
        "#Pode se observar que existem descrições idênciticas com NCM e/ou CFOP diferentes. O caso mais emblemático é Filtro de Óleo\n",
        "df2[\"DESCR\"].value_counts()"
      ],
      "metadata": {
        "colab": {
          "base_uri": "https://localhost:8080/"
        },
        "id": "btISbB-z3GRE",
        "outputId": "97f13315-8fff-4a33-84bd-d6048797826b"
      },
      "execution_count": 20,
      "outputs": [
        {
          "output_type": "execute_result",
          "data": {
            "text/plain": [
              "FILTRO DE OLEO                            64\n",
              "FILTRO DE COMBUSTIVEL                     61\n",
              "FILTRO DE AR                              58\n",
              "FILTRO COMBUSTIVEL                        52\n",
              "BANANA PRATA                              46\n",
              "                                          ..\n",
              "LACTULOSE XPE 667MG/ML AMEIXA FR 120ML     1\n",
              "DISSIPADOR DE CALOR PARA FONTE ATX         1\n",
              "HD 8 TB                                    1\n",
              "SSD DE 240GB                               1\n",
              "Leite Cru Refrigerado                      1\n",
              "Name: DESCR, Length: 129351, dtype: int64"
            ]
          },
          "metadata": {},
          "execution_count": 20
        }
      ]
    },
    {
      "cell_type": "code",
      "source": [
        "plt.figure(figsize=(20,5))\n",
        "aux = df2[\"DESCR\"].value_counts().value_counts()\n",
        "ax = sns.barplot(x=aux.sort_index().index, y=aux.sort_index())\n",
        "ax.set_yscale(\"linear\")\n",
        "ax.set(xlabel='Repetições de descrição para NCM/CFOP diferentes', ylabel='Ocorrências')\n",
        "plt.show()\n",
        "\n",
        "plt.figure(figsize=(20,5))\n",
        "aux = df2[\"DESCR\"].value_counts().value_counts()\n",
        "ax = sns.barplot(x=aux.sort_index().index, y=aux.sort_index())\n",
        "ax.set_yscale(\"log\")\n",
        "ax.set(xlabel='Repetições de descrição para NCM/CFOP diferentes', ylabel='Ocorrências (escala log)')\n",
        "plt.show()"
      ],
      "metadata": {
        "colab": {
          "base_uri": "https://localhost:8080/",
          "height": 651
        },
        "id": "buPGK5uq3vcD",
        "outputId": "0213de0a-fab3-41d9-8316-fe2798bb96dd"
      },
      "execution_count": 21,
      "outputs": [
        {
          "output_type": "display_data",
          "data": {
            "text/plain": [
              "<Figure size 1440x360 with 1 Axes>"
            ],
            "image/png": "[encoded data removed]"
          },
          "metadata": {
            "needs_background": "light"
          }
        },
        {
          "output_type": "display_data",
          "data": {
            "text/plain": [
              "<Figure size 1440x360 with 1 Axes>"
            ],
            "image/png": "[encoded data removed]"
          },
          "metadata": {
            "needs_background": "light"
          }
        }
      ]
    },
    {
      "cell_type": "markdown",
      "source": [
        "# 7 - Pra um desses itens com muitas repetições, vamos explorar o que acontece com a distribuição de NCM/CFOP"
      ],
      "metadata": {
        "id": "sCALGM2p6sjY"
      }
    },
    {
      "cell_type": "code",
      "source": [
        "df2[\"DESCR\"].value_counts()[:11]"
      ],
      "metadata": {
        "colab": {
          "base_uri": "https://localhost:8080/"
        },
        "id": "ZDlso0z66_-X",
        "outputId": "d09523b2-bcca-410d-efe3-b8ad54a31471"
      },
      "execution_count": 22,
      "outputs": [
        {
          "output_type": "execute_result",
          "data": {
            "text/plain": [
              "FILTRO DE OLEO           64\n",
              "FILTRO DE COMBUSTIVEL    61\n",
              "FILTRO DE AR             58\n",
              "FILTRO COMBUSTIVEL       52\n",
              "BANANA PRATA             46\n",
              "BATATA DOCE              41\n",
              "OLEO MOTOR               41\n",
              "BETERRABA                37\n",
              "ADITIVO RADIADOR         36\n",
              "CENOURA                  36\n",
              "MELANCIA                 35\n",
              "Name: DESCR, dtype: int64"
            ]
          },
          "metadata": {},
          "execution_count": 22
        }
      ]
    },
    {
      "cell_type": "code",
      "source": [
        "#Vejamos o quinto item da lista (começa em 0)\n",
        "selection = df2[\"DESCR\"].value_counts().index[4]\n",
        "selection"
      ],
      "metadata": {
        "colab": {
          "base_uri": "https://localhost:8080/",
          "height": 35
        },
        "id": "FJPSDIhM7P_f",
        "outputId": "f36a0823-bfca-4827-ffa8-dfc8e2337dba"
      },
      "execution_count": 23,
      "outputs": [
        {
          "output_type": "execute_result",
          "data": {
            "text/plain": [
              "'BANANA PRATA'"
            ],
            "application/vnd.google.colaboratory.intrinsic+json": {
              "type": "string"
            }
          },
          "metadata": {},
          "execution_count": 23
        }
      ]
    },
    {
      "cell_type": "code",
      "source": [
        "#Algumas ocorrências - Tanto o NCM como o CFOP variaram\n",
        "df2[df2[\"DESCR\"] == selection][:5]\n"
      ],
      "metadata": {
        "colab": {
          "base_uri": "https://localhost:8080/",
          "height": 206
        },
        "id": "UzSw4tzE7koM",
        "outputId": "c21c2d21-65b4-4070-94b2-65e4995c5e30"
      },
      "execution_count": 24,
      "outputs": [
        {
          "output_type": "execute_result",
          "data": {
            "text/plain": [
              "                     DATA         DESCR      NCM  CFOP\n",
              "540   02/01/2022 17:23:00  BANANA PRATA  8039000  6102\n",
              "595   02/01/2022 23:39:00  BANANA PRATA  8031000  5102\n",
              "1725  03/01/2022 07:52:41  BANANA PRATA  8039000  5102\n",
              "2412  03/01/2022 08:12:00  BANANA PRATA  8043000  5102\n",
              "3556  03/01/2022 09:36:42  BANANA PRATA  6022000  5102"
            ],
            "text/html": [
              "\n",
              "  <div id=\"df-8f7d01e6-caa4-44f7-9f45-e768c9768189\">\n",
              "    <div class=\"colab-df-container\">\n",
              "      <div>\n",
              "<style scoped>\n",
              "    .dataframe tbody tr th:only-of-type {\n",
              "        vertical-align: middle;\n",
              "    }\n",
              "\n",
              "    .dataframe tbody tr th {\n",
              "        vertical-align: top;\n",
              "    }\n",
              "\n",
              "    .dataframe thead th {\n",
              "        text-align: right;\n",
              "    }\n",
              "</style>\n",
              "<table border=\"1\" class=\"dataframe\">\n",
              "  <thead>\n",
              "    <tr style=\"text-align: right;\">\n",
              "      <th></th>\n",
              "      <th>DATA</th>\n",
              "      <th>DESCR</th>\n",
              "      <th>NCM</th>\n",
              "      <th>CFOP</th>\n",
              "    </tr>\n",
              "  </thead>\n",
              "  <tbody>\n",
              "    <tr>\n",
              "      <th>540</th>\n",
              "      <td>02/01/2022 17:23:00</td>\n",
              "      <td>BANANA PRATA</td>\n",
              "      <td>8039000</td>\n",
              "      <td>6102</td>\n",
              "    </tr>\n",
              "    <tr>\n",
              "      <th>595</th>\n",
              "      <td>02/01/2022 23:39:00</td>\n",
              "      <td>BANANA PRATA</td>\n",
              "      <td>8031000</td>\n",
              "      <td>5102</td>\n",
              "    </tr>\n",
              "    <tr>\n",
              "      <th>1725</th>\n",
              "      <td>03/01/2022 07:52:41</td>\n",
              "      <td>BANANA PRATA</td>\n",
              "      <td>8039000</td>\n",
              "      <td>5102</td>\n",
              "    </tr>\n",
              "    <tr>\n",
              "      <th>2412</th>\n",
              "      <td>03/01/2022 08:12:00</td>\n",
              "      <td>BANANA PRATA</td>\n",
              "      <td>8043000</td>\n",
              "      <td>5102</td>\n",
              "    </tr>\n",
              "    <tr>\n",
              "      <th>3556</th>\n",
              "      <td>03/01/2022 09:36:42</td>\n",
              "      <td>BANANA PRATA</td>\n",
              "      <td>6022000</td>\n",
              "      <td>5102</td>\n",
              "    </tr>\n",
              "  </tbody>\n",
              "</table>\n",
              "</div>\n",
              "      <button class=\"colab-df-convert\" onclick=\"convertToInteractive('df-8f7d01e6-caa4-44f7-9f45-e768c9768189')\"\n",
              "              title=\"Convert this dataframe to an interactive table.\"\n",
              "              style=\"display:none;\">\n",
              "        \n",
              "  <svg xmlns=\"http://www.w3.org/2000/svg\" height=\"24px\"viewBox=\"0 0 24 24\"\n",
              "       width=\"24px\">\n",
              "    <path d=\"M0 0h24v24H0V0z\" fill=\"none\"/>\n",
              "    <path d=\"M18.56 5.44l.94 2.06.94-2.06 2.06-.94-2.06-.94-.94-2.06-.94 2.06-2.06.94zm-11 1L8.5 8.5l.94-2.06 2.06-.94-2.06-.94L8.5 2.5l-.94 2.06-2.06.94zm10 10l.94 2.06.94-2.06 2.06-.94-2.06-.94-.94-2.06-.94 2.06-2.06.94z\"/><path d=\"M17.41 7.96l-1.37-1.37c-.4-.4-.92-.59-1.43-.59-.52 0-1.04.2-1.43.59L10.3 9.45l-7.72 7.72c-.78.78-.78 2.05 0 2.83L4 21.41c.39.39.9.59 1.41.59.51 0 1.02-.2 1.41-.59l7.78-7.78 2.81-2.81c.8-.78.8-2.07 0-2.86zM5.41 20L4 18.59l7.72-7.72 1.47 1.35L5.41 20z\"/>\n",
              "  </svg>\n",
              "      </button>\n",
              "      \n",
              "  <style>\n",
              "    .colab-df-container {\n",
              "      display:flex;\n",
              "      flex-wrap:wrap;\n",
              "      gap: 12px;\n",
              "    }\n",
              "\n",
              "    .colab-df-convert {\n",
              "      background-color: #E8F0FE;\n",
              "      border: none;\n",
              "      border-radius: 50%;\n",
              "      cursor: pointer;\n",
              "      display: none;\n",
              "      fill: #1967D2;\n",
              "      height: 32px;\n",
              "      padding: 0 0 0 0;\n",
              "      width: 32px;\n",
              "    }\n",
              "\n",
              "    .colab-df-convert:hover {\n",
              "      background-color: #E2EBFA;\n",
              "      box-shadow: 0px 1px 2px rgba(60, 64, 67, 0.3), 0px 1px 3px 1px rgba(60, 64, 67, 0.15);\n",
              "      fill: #174EA6;\n",
              "    }\n",
              "\n",
              "    [theme=dark] .colab-df-convert {\n",
              "      background-color: #3B4455;\n",
              "      fill: #D2E3FC;\n",
              "    }\n",
              "\n",
              "    [theme=dark] .colab-df-convert:hover {\n",
              "      background-color: #434B5C;\n",
              "      box-shadow: 0px 1px 3px 1px rgba(0, 0, 0, 0.15);\n",
              "      filter: drop-shadow(0px 1px 2px rgba(0, 0, 0, 0.3));\n",
              "      fill: #FFFFFF;\n",
              "    }\n",
              "  </style>\n",
              "\n",
              "      <script>\n",
              "        const buttonEl =\n",
              "          document.querySelector('#df-8f7d01e6-caa4-44f7-9f45-e768c9768189 button.colab-df-convert');\n",
              "        buttonEl.style.display =\n",
              "          google.colab.kernel.accessAllowed ? 'block' : 'none';\n",
              "\n",
              "        async function convertToInteractive(key) {\n",
              "          const element = document.querySelector('#df-8f7d01e6-caa4-44f7-9f45-e768c9768189');\n",
              "          const dataTable =\n",
              "            await google.colab.kernel.invokeFunction('convertToInteractive',\n",
              "                                                     [key], {});\n",
              "          if (!dataTable) return;\n",
              "\n",
              "          const docLinkHtml = 'Like what you see? Visit the ' +\n",
              "            '<a target=\"_blank\" href=https://colab.research.google.com/notebooks/data_table.ipynb>data table notebook</a>'\n",
              "            + ' to learn more about interactive tables.';\n",
              "          element.innerHTML = '';\n",
              "          dataTable['output_type'] = 'display_data';\n",
              "          await google.colab.output.renderOutput(dataTable, element);\n",
              "          const docLink = document.createElement('div');\n",
              "          docLink.innerHTML = docLinkHtml;\n",
              "          element.appendChild(docLink);\n",
              "        }\n",
              "      </script>\n",
              "    </div>\n",
              "  </div>\n",
              "  "
            ]
          },
          "metadata": {},
          "execution_count": 24
        }
      ]
    },
    {
      "cell_type": "code",
      "source": [
        "reps = df2[df2[\"DESCR\"] == selection][\"NCM\"]\n",
        "list(reps.value_counts())"
      ],
      "metadata": {
        "colab": {
          "base_uri": "https://localhost:8080/"
        },
        "id": "oRwISceXASwJ",
        "outputId": "5e4d8ae4-ba58-4c12-996e-eed92f1be472"
      },
      "execution_count": 25,
      "outputs": [
        {
          "output_type": "execute_result",
          "data": {
            "text/plain": [
              "[10, 8, 3, 2, 2, 2, 2, 1, 1, 1, 1, 1, 1, 1, 1, 1, 1, 1, 1, 1, 1, 1, 1, 1]"
            ]
          },
          "metadata": {},
          "execution_count": 25
        }
      ]
    },
    {
      "cell_type": "code",
      "source": [
        "plt.figure(figsize=(20,5))\n",
        "ax = sns.barplot(x=reps.value_counts().index, y=list(reps.value_counts()), )\n",
        "ax.set(xlabel='Código NCM', ylabel='Ocorrências', title=f\"Descrição: {selection}\")\n",
        "plt.show()"
      ],
      "metadata": {
        "colab": {
          "base_uri": "https://localhost:8080/",
          "height": 350
        },
        "id": "ENEJbrYCA0sX",
        "outputId": "a499e87a-6484-4366-c327-d405f26806a9"
      },
      "execution_count": 26,
      "outputs": [
        {
          "output_type": "display_data",
          "data": {
            "text/plain": [
              "<Figure size 1440x360 with 1 Axes>"
            ],
            "image/png": "[encoded data removed]"
          },
          "metadata": {
            "needs_background": "light"
          }
        }
      ]
    },
    {
      "cell_type": "code",
      "source": [
        "reps = df2[df2[\"DESCR\"] == selection][\"CFOP\"]\n",
        "plt.figure(figsize=(20,5))\n",
        "ax = sns.barplot(x=reps.value_counts().index, y=list(reps.value_counts()), )\n",
        "ax.set(xlabel='Código CFOP', ylabel='Ocorrências', title=f\"Descrição: {selection}\")\n",
        "plt.show()"
      ],
      "metadata": {
        "colab": {
          "base_uri": "https://localhost:8080/",
          "height": 350
        },
        "id": "6kEFbkfDKv-C",
        "outputId": "33216df9-96e1-41ee-fd86-92631b18d039"
      },
      "execution_count": 30,
      "outputs": [
        {
          "output_type": "display_data",
          "data": {
            "text/plain": [
              "<Figure size 1440x360 with 1 Axes>"
            ],
            "image/png": "[encoded data removed]"
          },
          "metadata": {
            "needs_background": "light"
          }
        }
      ]
    },
    {
      "cell_type": "markdown",
      "source": [
        "#8 - Vamos dar uma olhada na distribuição de palavras nas descrições"
      ],
      "metadata": {
        "id": "vg13YtuKKIHV"
      }
    },
    {
      "cell_type": "code",
      "source": [
        "#Dessa vez não vamos filtrar as repetições das descrições pois a frequência pode ser relevante para uma visualização inicial e/ou também dependendo do modelo que será utilizado\n",
        "df3 = df[['DATA EMISSÃO','DESCRIÇÃO DO PRODUTO/SERVIÇO', 'CÓDIGO NCM/SH', 'CFOP']]\n",
        "df3.columns = [\"DATA\", \"DESCR\", \"NCM\", \"CFOP\"]\n",
        "\n",
        "#Essa é a filtragem que não será feita aqui\n",
        "#df3 = df3.drop_duplicates(subset=[\"DESCR\", \"NCM\", \"CFOP\"])\n",
        "\n",
        "df3 = df3[df3[\"NCM\"]!=-1] #Filtrando NCMs = -1\n",
        "\n",
        "text_lengths = np.array([len(_) for _ in df3['DESCR']])\n",
        "df3 = df3[text_lengths>=3]"
      ],
      "metadata": {
        "id": "2x8Mym93LbLG"
      },
      "execution_count": 36,
      "outputs": []
    },
    {
      "cell_type": "code",
      "source": [
        "all_words = []\n",
        "for d in list(df3[\"DESCR\"]):\n",
        "    all_words += d.split()\n",
        "words_counts = pd.DataFrame(all_words).value_counts()"
      ],
      "metadata": {
        "id": "Yw8PxvgiKO17"
      },
      "execution_count": 37,
      "outputs": []
    },
    {
      "cell_type": "code",
      "source": [
        "print(f\"Em {len(df3)} descrições foram encontradas {len(all_words)} palavras.\")\n",
        "print(f\"Média de : {len(all_words)/len(df3):.02f} palavras por descrição\")\n",
        "print(f\"Total de palavras únicas encontradas {len(words_counts)}\")"
      ],
      "metadata": {
        "colab": {
          "base_uri": "https://localhost:8080/"
        },
        "id": "1W6m3wZuKSiz",
        "outputId": "24f0d0e0-b4c0-435f-9ce0-955a847b2778"
      },
      "execution_count": 42,
      "outputs": [
        {
          "output_type": "stream",
          "name": "stdout",
          "text": [
            "Em 304255 descrições foram encontradas 1769852 palavras.\n",
            "Média de : 5.82 palavras por descrição\n",
            "Total de palavras únicas encontradas 133449\n"
          ]
        }
      ]
    },
    {
      "cell_type": "code",
      "source": [
        "print(\"Palavras mais frequentemente encontradas\")\n",
        "print(words_counts[:20])"
      ],
      "metadata": {
        "colab": {
          "base_uri": "https://localhost:8080/"
        },
        "id": "IJCQoowzNiqb",
        "outputId": "39b1c55e-f060-448e-a8be-3ac70d531781"
      },
      "execution_count": 45,
      "outputs": [
        {
          "output_type": "stream",
          "name": "stdout",
          "text": [
            "Palavras mais frequentemente encontradas\n",
            "-           69695\n",
            "DE          54644\n",
            "E            9927\n",
            "X            9232\n",
            "PARA         8894\n",
            "COM          8217\n",
            "de           7739\n",
            "4            7691\n",
            "EM           7508\n",
            "MM           7402\n",
            "1            7184\n",
            "FILTRO       6897\n",
            "PARAFUSO     6715\n",
            "A            6629\n",
            "TIPO         6181\n",
            "PNLD         6023\n",
            "OLEO         5683\n",
            "LIVRO        5272\n",
            "DO           4974\n",
            "KG           4881\n",
            "dtype: int64\n"
          ]
        }
      ]
    },
    {
      "cell_type": "code",
      "source": [
        "plt.figure(figsize=((20,5)))\n",
        "plt.title(\"Frequência das palavras na descrição\")\n",
        "plt.ylabel(\"Ocorrências (log)\")\n",
        "plt.xlabel(\"Índice da Palavra - Cada número representa uma palavra diferente\")\n",
        "plt.yscale(\"log\")\n",
        "plt.plot(list(pd.DataFrame(all_words).value_counts())[:])\n",
        "plt.show()"
      ],
      "metadata": {
        "colab": {
          "base_uri": "https://localhost:8080/",
          "height": 352
        },
        "id": "i2dXtJ6IOYkZ",
        "outputId": "6def74a5-8d29-4168-e25b-c0129446a814"
      },
      "execution_count": 50,
      "outputs": [
        {
          "output_type": "display_data",
          "data": {
            "text/plain": [
              "<Figure size 1440x360 with 1 Axes>"
            ],
            "image/png": "[encoded data removed]"
          },
          "metadata": {
            "needs_background": "light"
          }
        }
      ]
    },
    {
      "cell_type": "markdown",
      "source": [
        "# 9 - Mesma análise eliminando todas as repetições de descrição"
      ],
      "metadata": {
        "id": "1JYr-HIlPznr"
      }
    },
    {
      "cell_type": "code",
      "source": [
        "df4 = df3.drop_duplicates(subset=[\"DESCR\"])\n",
        "len(df4)\n"
      ],
      "metadata": {
        "colab": {
          "base_uri": "https://localhost:8080/"
        },
        "id": "A8Ewc1zhOn0R",
        "outputId": "ad7e6455-2482-49b8-8bd9-7ce95f2d535b"
      },
      "execution_count": 53,
      "outputs": [
        {
          "output_type": "execute_result",
          "data": {
            "text/plain": [
              "129351"
            ]
          },
          "metadata": {},
          "execution_count": 53
        }
      ]
    },
    {
      "cell_type": "code",
      "source": [
        "all_words = []\n",
        "for d in list(df4[\"DESCR\"]):\n",
        "    all_words += d.split()\n",
        "words_counts = pd.DataFrame(all_words).value_counts()"
      ],
      "metadata": {
        "id": "I2PKl9gjQNvn"
      },
      "execution_count": 54,
      "outputs": []
    },
    {
      "cell_type": "code",
      "source": [
        "print(f\"Em {len(df4)} descrições foram encontradas {len(all_words)} palavras.\")\n",
        "print(f\"Média de : {len(all_words)/len(df4):.02f} palavras por descrição\")\n",
        "print(f\"Total de palavras únicas encontradas {len(words_counts)}\")"
      ],
      "metadata": {
        "colab": {
          "base_uri": "https://localhost:8080/"
        },
        "id": "w4m9ps6IQX29",
        "outputId": "2b444b08-7998-4ab3-fb12-7c2cf1242318"
      },
      "execution_count": 55,
      "outputs": [
        {
          "output_type": "stream",
          "name": "stdout",
          "text": [
            "Em 129351 descrições foram encontradas 866497 palavras.\n",
            "Média de : 6.70 palavras por descrição\n",
            "Total de palavras únicas encontradas 133449\n"
          ]
        }
      ]
    },
    {
      "cell_type": "code",
      "source": [
        "print(\"Palavras mais frequentemente encontradas\")\n",
        "print(words_counts[:20])"
      ],
      "metadata": {
        "colab": {
          "base_uri": "https://localhost:8080/"
        },
        "id": "T57FPEWUQe9_",
        "outputId": "2602d8c5-593e-4b69-9dc6-bb524b386452"
      },
      "execution_count": 56,
      "outputs": [
        {
          "output_type": "stream",
          "name": "stdout",
          "text": [
            "Palavras mais frequentemente encontradas\n",
            "-           37012\n",
            "DE          27888\n",
            "E            5369\n",
            "PARA         5229\n",
            "X            5127\n",
            "COM          4299\n",
            "1            3959\n",
            "EM           3950\n",
            "TIPO         3718\n",
            "de           3549\n",
            "A            3288\n",
            "|            3117\n",
            "DO           3024\n",
            "FILTRO       2860\n",
            "C/           2637\n",
            "DA           2432\n",
            "MM           2337\n",
            "2            2319\n",
            "/            2160\n",
            "PARAFUSO     2126\n",
            "dtype: int64\n"
          ]
        }
      ]
    },
    {
      "cell_type": "code",
      "source": [
        "plt.figure(figsize=((20,5)))\n",
        "plt.title(\"Frequência das palavras na descrição\")\n",
        "plt.ylabel(\"Ocorrências (log)\")\n",
        "plt.xlabel(\"Índice da Palavra - Cada número representa uma palavra diferente\")\n",
        "plt.yscale(\"log\")\n",
        "plt.plot(list(words_counts)[:])\n",
        "plt.show()"
      ],
      "metadata": {
        "colab": {
          "base_uri": "https://localhost:8080/",
          "height": 352
        },
        "id": "TTXHfNluQjRn",
        "outputId": "c4b18910-509f-4c8c-cfcb-9948815e4677"
      },
      "execution_count": 71,
      "outputs": [
        {
          "output_type": "display_data",
          "data": {
            "text/plain": [
              "<Figure size 1440x360 with 1 Axes>"
            ],
            "image/png": "[encoded data removed]"
          },
          "metadata": {
            "needs_background": "light"
          }
        }
      ]
    },
    {
      "cell_type": "code",
      "source": [
        "plt.figure(figsize=((20,5)))\n",
        "plt.title(\"Frequência das palavras na descrição - palavra 0 a 100\")\n",
        "plt.ylabel(\"Ocorrências (linear)\")\n",
        "plt.xlabel(\"Índice da Palavra - Cada número representa uma palavra diferente\")\n",
        "plt.yscale(\"linear\")\n",
        "plt.plot(list(words_counts)[:100])\n",
        "plt.show()"
      ],
      "metadata": {
        "colab": {
          "base_uri": "https://localhost:8080/",
          "height": 352
        },
        "id": "4qO6zsbjQqEv",
        "outputId": "705a3623-a70f-45d9-b5b1-714a2f6bdfff"
      },
      "execution_count": 66,
      "outputs": [
        {
          "output_type": "display_data",
          "data": {
            "text/plain": [
              "<Figure size 1440x360 with 1 Axes>"
            ],
            "image/png": "[encoded data removed]"
          },
          "metadata": {
            "needs_background": "light"
          }
        }
      ]
    },
    {
      "cell_type": "code",
      "source": [
        "plt.figure(figsize=((20,5)))\n",
        "plt.title(\"Frequência das palavras na descrição - palavra 100 a 1000\")\n",
        "plt.ylabel(\"Ocorrências (linear)\")\n",
        "plt.xlabel(\"Índice da Palavra - Cada número representa uma palavra diferente\")\n",
        "plt.yscale(\"linear\")\n",
        "plt.plot(list(words_counts)[100:1000])\n",
        "plt.show()"
      ],
      "metadata": {
        "colab": {
          "base_uri": "https://localhost:8080/",
          "height": 352
        },
        "id": "Op908txzRFD3",
        "outputId": "fd73d9f9-fcbc-4462-a1c9-a6bff6a54294"
      },
      "execution_count": 72,
      "outputs": [
        {
          "output_type": "display_data",
          "data": {
            "text/plain": [
              "<Figure size 1440x360 with 1 Axes>"
            ],
            "image/png": "[encoded data removed]"
          },
          "metadata": {
            "needs_background": "light"
          }
        }
      ]
    },
    {
      "cell_type": "code",
      "source": [
        "plt.figure(figsize=((20,5)))\n",
        "plt.title(\"Frequência das palavras na descrição - palavra 1000 em diante\")\n",
        "plt.ylabel(\"Ocorrências (linear)\")\n",
        "plt.xlabel(\"Índice da Palavra - Cada número representa uma palavra diferente\")\n",
        "plt.yscale(\"linear\")\n",
        "plt.plot(list(words_counts)[1000:])\n",
        "plt.show()"
      ],
      "metadata": {
        "colab": {
          "base_uri": "https://localhost:8080/",
          "height": 352
        },
        "id": "9xprQ8K2RY7u",
        "outputId": "17268f9f-e6fb-434e-ea5c-42b8d04c0e80"
      },
      "execution_count": 73,
      "outputs": [
        {
          "output_type": "display_data",
          "data": {
            "text/plain": [
              "<Figure size 1440x360 with 1 Axes>"
            ],
            "image/png": "[encoded data removed]"
          },
          "metadata": {
            "needs_background": "light"
          }
        }
      ]
    },
    {
      "cell_type": "code",
      "source": [
        "aux = np.array(list(words_counts))\n",
        "aux = aux/aux.sum()\n",
        "cumulative_words_count = np.cumsum(aux)\n",
        "aux, cumulative_words_count"
      ],
      "metadata": {
        "colab": {
          "base_uri": "https://localhost:8080/"
        },
        "id": "DkbJn3DKRfXW",
        "outputId": "d4798bf0-605f-4ee2-ab7e-e3201c3f9718"
      },
      "execution_count": 89,
      "outputs": [
        {
          "output_type": "execute_result",
          "data": {
            "text/plain": [
              "(array([4.27145160e-02, 3.21847623e-02, 6.19621303e-03, ...,\n",
              "        1.15407209e-06, 1.15407209e-06, 1.15407209e-06]),\n",
              " array([0.04271452, 0.07489928, 0.08109549, ..., 0.99999769, 0.99999885,\n",
              "        1.        ]))"
            ]
          },
          "metadata": {},
          "execution_count": 89
        }
      ]
    },
    {
      "cell_type": "code",
      "source": [
        "plt.title(\"Contagem acumulada das palavras\")\n",
        "plt.ylabel(\"Percentual do total (1.0=100%)\")\n",
        "plt.xlabel(\"Índice da Palavra - Cada número representa uma palavra diferente\")\n",
        "plt.plot(cumulative_words_count)\n",
        "plt.show()\n",
        "print(\"\\n\".join([ f\"{(cumulative_words_count<_/10).sum():7} primeiras palavras representam {_*10}% das ocorrências\" for _ in range(1,11)]))"
      ],
      "metadata": {
        "colab": {
          "base_uri": "https://localhost:8080/",
          "height": 471
        },
        "id": "KffYUvi7R1ru",
        "outputId": "fedbccc4-46d1-4eb2-ed1f-5c97aaaa6fab"
      },
      "execution_count": 111,
      "outputs": [
        {
          "output_type": "display_data",
          "data": {
            "text/plain": [
              "<Figure size 432x288 with 1 Axes>"
            ],
            "image/png": "[encoded data removed]"
          },
          "metadata": {
            "needs_background": "light"
          }
        },
        {
          "output_type": "stream",
          "name": "stdout",
          "text": [
            "      6 primeiras palavras representam 10% das ocorrências\n",
            "     53 primeiras palavras representam 20% das ocorrências\n",
            "    199 primeiras palavras representam 30% das ocorrências\n",
            "    525 primeiras palavras representam 40% das ocorrências\n",
            "   1210 primeiras palavras representam 50% das ocorrências\n",
            "   2646 primeiras palavras representam 60% das ocorrências\n",
            "   5981 primeiras palavras representam 70% das ocorrências\n",
            "  15258 primeiras palavras representam 80% das ocorrências\n",
            "  46799 primeiras palavras representam 90% das ocorrências\n",
            " 133448 primeiras palavras representam 100% das ocorrências\n"
          ]
        }
      ]
    },
    {
      "cell_type": "markdown",
      "source": [
        "#RESULTADOS:<br>\n",
        "1 - Existe uma parcela significativa das descrições com mais de um NCM e/ou CFOP para a mesma descrição. Isso por si só sugere a existência de algumas classificações erradas. Nesse notebook, parte do código para identificação desses casos pode ser útil numa ferramenta de anotação para por exemplo indicar classificações corretas e erradas.<br>\n",
        "2 - Alguns filtros usados aqui parecem ser razoáveis dependendo do contexto e do modelo como: Eliminar descrições muito curtas, descrição + NCM + CFOP iguais, NCM=-1 e até mesmo a supressão de palavras muito frequentes como \"DE\" e \"-\" por exemplo.<br>\n",
        "A ser continuado\n",
        "\n"
      ],
      "metadata": {
        "id": "vad9KpsXbQ8G"
      }
    },
    {
      "cell_type": "markdown",
      "source": [
        "# INSIGHTS / TRABALHOS FUTUROS<br>\n",
        "1 - Um modelo doc2vec parece ser um bom ponto de partida inicial para as descrições. O gensim já testado pelo Anderson parece um bom candidato inicial.<br>\n",
        "2 - Pode ser interessante fazer algum tipo de transfer learning a partir de um modelo treinado para a língua portuguesa. No primeiro experimento vamos criar o modelo gerador de embedding (doc2vec) do zero para ter como baseline.<br>\n",
        "3 - Estudar como clusterizar os embeddings para que GTIN e NCM agrupem os embeddings. Algo análogo ao debiasing, só que ao contrário, pode ser interessante. Redes siamesas também.<br>\n",
        "4 - Como a descrição está limitada a 120 caracteres, uma representação baseada em modelo sequêncial e caracter a caracter pode ser viável, embora os tempos de treinamento e complexidade dos modelos devam ficar maiores segundo o Andrew Ng. Pode ficar ainda mais parecido com redes siamesas pois uma convolução 1D pode dar conta e nesse caso tem potencial para ser rápida.<br>\n",
        "5 - Modelos mais complexos como BERT ou os GPTn podem eventualmente ser interessantes para tornar os modelos mais generalistas pois podem criar descrições semelhantes com mais facilidade, ex: Caldo de Galinha virar Caldo de Carne (claro que só faria sentido se caldo de acarne já não estivesse no conjunto original)."
      ],
      "metadata": {
        "id": "XVOYiSc9dYhY"
      }
    },
    {
      "cell_type": "code",
      "source": [
        ""
      ],
      "metadata": {
        "id": "oR101xGQdPJa"
      },
      "execution_count": null,
      "outputs": []
    }
  ]
}