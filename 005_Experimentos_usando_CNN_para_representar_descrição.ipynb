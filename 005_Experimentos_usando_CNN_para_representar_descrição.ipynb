{
  "nbformat": 4,
  "nbformat_minor": 0,
  "metadata": {
    "colab": {
      "name": "005 - Experimentos usando CNN para representar descrição.ipynb",
      "provenance": [],
      "authorship_tag": "ABX9TyMlg+3/gTHuigLMoIwSHPr6",
      "include_colab_link": true
    },
    "kernelspec": {
      "name": "python3",
      "display_name": "Python 3"
    },
    "language_info": {
      "name": "python"
    }
  },
  "cells": [
    {
      "cell_type": "markdown",
      "metadata": {
        "id": "view-in-github",
        "colab_type": "text"
      },
      "source": [
        "<a href=\"https://colab.research.google.com/github/mfilipak/AFRAC_IA/blob/main/005_Experimentos_usando_CNN_para_representar_descri%C3%A7%C3%A3o.ipynb\" target=\"_parent\"><img src=\"https://colab.research.google.com/assets/colab-badge.svg\" alt=\"Open In Colab\"/></a>"
      ]
    },
    {
      "cell_type": "markdown",
      "source": [
        "# EM CONSTRUÇÃO"
      ],
      "metadata": {
        "id": "zlmoS20ljv87"
      }
    },
    {
      "cell_type": "markdown",
      "source": [
        "# Experimento 005\n",
        "##Objetivo: Experimentos e reprodução de trabalhos com word embeddings usando como corpo o campo de descrição (até 120 caracteres com ou sem padding). Com foco em CNN 1D e redes siamesas. Espera-se que tenha um bom potencial de agrupar palavras por GTIN, NCM entre outros.\n",
        "##Fonte dos dados: dataset público do portal da transparência - Campos de descrição e NCM.\n"
      ],
      "metadata": {
        "id": "d_gRLFmCkMyc"
      }
    },
    {
      "cell_type": "markdown",
      "source": [
        "#Referências:\n",
        "* https://arxiv.org/pdf/1509.01626.pdf - Character-level Convolutional Networks for Text Classification - Esse paper é um bom ponto de partida. Tem a coparticipação do Yann LeCun, criador das CNNs.\n",
        "* https://github.com/ahmedbesbes/character-based-cnn - Implementação do paper acima.\n",
        "* https://www.youtube.com/watch?v=CNY8VjJt-iQ - Vídeo explicando a implementação do Ahmed para o paper.\n",
        "* https://aclanthology.org/W16-1617.pdf - Não pretendo usar essa nesse experimento mas é um bom ponto de partida caso se queira usar RNN em uma rede siamesa.\n",
        "* http://aclanthology.lst.uni-saarland.de/P16-1036.pdf - Abordagem semelhante usando redes siamesas para encontrar perguntas semelhantes no QUORA.\n",
        "* https://www.kaggle.com/c/quora-question-pairs/discussion/33631\n",
        "* https://explosion.ai/blog/quora-deep-text-pair-classification - Bom artigo embora não seja orientado a CNNs.\n",
        "* https://github.com/BrambleXu/nlp-beginner-guide-keras/blob/master/char-level-cnn/char_cnn.py - Outra implementação, essa em Keras.\n",
        "* https://arxiv.org/pdf/1408.5882.pdf - Classificação de sentenças, comparando CNN com outras técnicas. Um pouco outdated (2015)\n",
        "*<b> https://towardsdatascience.com/character-level-cnn-with-keras-50391c3adf33 - Mais uma implementação em Keras - ponto de partida para esse notebook</b>\n",
        "* https://repositorio.pucrs.br/dspace/bitstream/10923/15243/2/Measuring_Semantic_Similarity_Between_Sentences_Using_a_Siamese_Neural_Network.pdf - Paper de alguns autores Brasileiros da PUC RS usa rede siamesa com arquitetura GRU.\n"
      ],
      "metadata": {
        "id": "8lBte34iYDyD"
      }
    },
    {
      "cell_type": "code",
      "source": [
        ""
      ],
      "metadata": {
        "id": "WtR6cFvVYF0a"
      },
      "execution_count": null,
      "outputs": []
    }
  ]
}